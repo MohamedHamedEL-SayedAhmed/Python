{
 "cells": [
  {
   "cell_type": "code",
   "execution_count": 2,
   "id": "7c3d9825",
   "metadata": {},
   "outputs": [],
   "source": [
    "import numpy as np\n",
    "import pandas as pd\n",
    "import matplotlib.pyplot as plt\n",
    "import seaborn as sns"
   ]
  },
  {
   "cell_type": "code",
   "execution_count": 3,
   "id": "9ed0b11e",
   "metadata": {
    "scrolled": true
   },
   "outputs": [
    {
     "data": {
      "text/html": [
       "<div>\n",
       "<style scoped>\n",
       "    .dataframe tbody tr th:only-of-type {\n",
       "        vertical-align: middle;\n",
       "    }\n",
       "\n",
       "    .dataframe tbody tr th {\n",
       "        vertical-align: top;\n",
       "    }\n",
       "\n",
       "    .dataframe thead th {\n",
       "        text-align: right;\n",
       "    }\n",
       "</style>\n",
       "<table border=\"1\" class=\"dataframe\">\n",
       "  <thead>\n",
       "    <tr style=\"text-align: right;\">\n",
       "      <th></th>\n",
       "      <th>acct</th>\n",
       "      <th>utc_date</th>\n",
       "      <th>num_courses_visited</th>\n",
       "      <th>total_minutes_visited</th>\n",
       "      <th>lessons_completed</th>\n",
       "      <th>projects_completed</th>\n",
       "    </tr>\n",
       "  </thead>\n",
       "  <tbody>\n",
       "    <tr>\n",
       "      <th>0</th>\n",
       "      <td>0</td>\n",
       "      <td>2015-01-09</td>\n",
       "      <td>1.0</td>\n",
       "      <td>11.679374</td>\n",
       "      <td>0.0</td>\n",
       "      <td>0.0</td>\n",
       "    </tr>\n",
       "    <tr>\n",
       "      <th>1</th>\n",
       "      <td>0</td>\n",
       "      <td>2015-01-10</td>\n",
       "      <td>2.0</td>\n",
       "      <td>37.284887</td>\n",
       "      <td>0.0</td>\n",
       "      <td>0.0</td>\n",
       "    </tr>\n",
       "    <tr>\n",
       "      <th>2</th>\n",
       "      <td>0</td>\n",
       "      <td>2015-01-11</td>\n",
       "      <td>2.0</td>\n",
       "      <td>53.633746</td>\n",
       "      <td>0.0</td>\n",
       "      <td>0.0</td>\n",
       "    </tr>\n",
       "    <tr>\n",
       "      <th>3</th>\n",
       "      <td>0</td>\n",
       "      <td>2015-01-12</td>\n",
       "      <td>1.0</td>\n",
       "      <td>33.489270</td>\n",
       "      <td>0.0</td>\n",
       "      <td>0.0</td>\n",
       "    </tr>\n",
       "    <tr>\n",
       "      <th>4</th>\n",
       "      <td>0</td>\n",
       "      <td>2015-01-13</td>\n",
       "      <td>1.0</td>\n",
       "      <td>64.779678</td>\n",
       "      <td>0.0</td>\n",
       "      <td>0.0</td>\n",
       "    </tr>\n",
       "    <tr>\n",
       "      <th>...</th>\n",
       "      <td>...</td>\n",
       "      <td>...</td>\n",
       "      <td>...</td>\n",
       "      <td>...</td>\n",
       "      <td>...</td>\n",
       "      <td>...</td>\n",
       "    </tr>\n",
       "    <tr>\n",
       "      <th>136235</th>\n",
       "      <td>1305</td>\n",
       "      <td>2015-06-14</td>\n",
       "      <td>0.0</td>\n",
       "      <td>0.000000</td>\n",
       "      <td>0.0</td>\n",
       "      <td>0.0</td>\n",
       "    </tr>\n",
       "    <tr>\n",
       "      <th>136236</th>\n",
       "      <td>1305</td>\n",
       "      <td>2015-06-15</td>\n",
       "      <td>0.0</td>\n",
       "      <td>0.000000</td>\n",
       "      <td>0.0</td>\n",
       "      <td>0.0</td>\n",
       "    </tr>\n",
       "    <tr>\n",
       "      <th>136237</th>\n",
       "      <td>1305</td>\n",
       "      <td>2015-06-16</td>\n",
       "      <td>1.0</td>\n",
       "      <td>2.720136</td>\n",
       "      <td>0.0</td>\n",
       "      <td>0.0</td>\n",
       "    </tr>\n",
       "    <tr>\n",
       "      <th>136238</th>\n",
       "      <td>1305</td>\n",
       "      <td>2015-06-17</td>\n",
       "      <td>0.0</td>\n",
       "      <td>0.000000</td>\n",
       "      <td>0.0</td>\n",
       "      <td>0.0</td>\n",
       "    </tr>\n",
       "    <tr>\n",
       "      <th>136239</th>\n",
       "      <td>1305</td>\n",
       "      <td>2015-06-18</td>\n",
       "      <td>0.0</td>\n",
       "      <td>0.000000</td>\n",
       "      <td>0.0</td>\n",
       "      <td>0.0</td>\n",
       "    </tr>\n",
       "  </tbody>\n",
       "</table>\n",
       "<p>136240 rows × 6 columns</p>\n",
       "</div>"
      ],
      "text/plain": [
       "        acct    utc_date  num_courses_visited  total_minutes_visited  \\\n",
       "0          0  2015-01-09                  1.0              11.679374   \n",
       "1          0  2015-01-10                  2.0              37.284887   \n",
       "2          0  2015-01-11                  2.0              53.633746   \n",
       "3          0  2015-01-12                  1.0              33.489270   \n",
       "4          0  2015-01-13                  1.0              64.779678   \n",
       "...      ...         ...                  ...                    ...   \n",
       "136235  1305  2015-06-14                  0.0               0.000000   \n",
       "136236  1305  2015-06-15                  0.0               0.000000   \n",
       "136237  1305  2015-06-16                  1.0               2.720136   \n",
       "136238  1305  2015-06-17                  0.0               0.000000   \n",
       "136239  1305  2015-06-18                  0.0               0.000000   \n",
       "\n",
       "        lessons_completed  projects_completed  \n",
       "0                     0.0                 0.0  \n",
       "1                     0.0                 0.0  \n",
       "2                     0.0                 0.0  \n",
       "3                     0.0                 0.0  \n",
       "4                     0.0                 0.0  \n",
       "...                   ...                 ...  \n",
       "136235                0.0                 0.0  \n",
       "136236                0.0                 0.0  \n",
       "136237                0.0                 0.0  \n",
       "136238                0.0                 0.0  \n",
       "136239                0.0                 0.0  \n",
       "\n",
       "[136240 rows x 6 columns]"
      ]
     },
     "execution_count": 3,
     "metadata": {},
     "output_type": "execute_result"
    }
   ],
   "source": [
    "daily_engagements = pd.read_csv('Desktop/daily_engagement.csv')\n",
    "daily_engagements"
   ]
  },
  {
   "cell_type": "code",
   "execution_count": 4,
   "id": "fb32f307",
   "metadata": {
    "scrolled": false
   },
   "outputs": [
    {
     "name": "stdout",
     "output_type": "stream",
     "text": [
      "<class 'pandas.core.frame.DataFrame'>\n",
      "RangeIndex: 136240 entries, 0 to 136239\n",
      "Data columns (total 6 columns):\n",
      " #   Column                 Non-Null Count   Dtype  \n",
      "---  ------                 --------------   -----  \n",
      " 0   acct                   136240 non-null  int64  \n",
      " 1   utc_date               136240 non-null  object \n",
      " 2   num_courses_visited    136240 non-null  float64\n",
      " 3   total_minutes_visited  136240 non-null  float64\n",
      " 4   lessons_completed      136240 non-null  float64\n",
      " 5   projects_completed     136240 non-null  float64\n",
      "dtypes: float64(4), int64(1), object(1)\n",
      "memory usage: 5.7+ MB\n"
     ]
    }
   ],
   "source": [
    "daily_engagements.info()"
   ]
  },
  {
   "cell_type": "markdown",
   "id": "b977d439",
   "metadata": {},
   "source": [
    "## describe().round(2)"
   ]
  },
  {
   "cell_type": "code",
   "execution_count": 5,
   "id": "468def60",
   "metadata": {},
   "outputs": [
    {
     "data": {
      "text/html": [
       "<div>\n",
       "<style scoped>\n",
       "    .dataframe tbody tr th:only-of-type {\n",
       "        vertical-align: middle;\n",
       "    }\n",
       "\n",
       "    .dataframe tbody tr th {\n",
       "        vertical-align: top;\n",
       "    }\n",
       "\n",
       "    .dataframe thead th {\n",
       "        text-align: right;\n",
       "    }\n",
       "</style>\n",
       "<table border=\"1\" class=\"dataframe\">\n",
       "  <thead>\n",
       "    <tr style=\"text-align: right;\">\n",
       "      <th></th>\n",
       "      <th>acct</th>\n",
       "      <th>num_courses_visited</th>\n",
       "      <th>total_minutes_visited</th>\n",
       "      <th>lessons_completed</th>\n",
       "      <th>projects_completed</th>\n",
       "    </tr>\n",
       "  </thead>\n",
       "  <tbody>\n",
       "    <tr>\n",
       "      <th>count</th>\n",
       "      <td>136240.00</td>\n",
       "      <td>136240.00</td>\n",
       "      <td>136240.00</td>\n",
       "      <td>136240.00</td>\n",
       "      <td>136240.00</td>\n",
       "    </tr>\n",
       "    <tr>\n",
       "      <th>mean</th>\n",
       "      <td>449.07</td>\n",
       "      <td>0.34</td>\n",
       "      <td>24.55</td>\n",
       "      <td>0.13</td>\n",
       "      <td>0.01</td>\n",
       "    </tr>\n",
       "    <tr>\n",
       "      <th>std</th>\n",
       "      <td>321.10</td>\n",
       "      <td>0.62</td>\n",
       "      <td>62.10</td>\n",
       "      <td>0.47</td>\n",
       "      <td>0.09</td>\n",
       "    </tr>\n",
       "    <tr>\n",
       "      <th>min</th>\n",
       "      <td>0.00</td>\n",
       "      <td>0.00</td>\n",
       "      <td>0.00</td>\n",
       "      <td>0.00</td>\n",
       "      <td>0.00</td>\n",
       "    </tr>\n",
       "    <tr>\n",
       "      <th>25%</th>\n",
       "      <td>200.00</td>\n",
       "      <td>0.00</td>\n",
       "      <td>0.00</td>\n",
       "      <td>0.00</td>\n",
       "      <td>0.00</td>\n",
       "    </tr>\n",
       "    <tr>\n",
       "      <th>50%</th>\n",
       "      <td>392.00</td>\n",
       "      <td>0.00</td>\n",
       "      <td>0.00</td>\n",
       "      <td>0.00</td>\n",
       "      <td>0.00</td>\n",
       "    </tr>\n",
       "    <tr>\n",
       "      <th>75%</th>\n",
       "      <td>597.00</td>\n",
       "      <td>1.00</td>\n",
       "      <td>7.31</td>\n",
       "      <td>0.00</td>\n",
       "      <td>0.00</td>\n",
       "    </tr>\n",
       "    <tr>\n",
       "      <th>max</th>\n",
       "      <td>1305.00</td>\n",
       "      <td>10.00</td>\n",
       "      <td>1030.88</td>\n",
       "      <td>17.00</td>\n",
       "      <td>3.00</td>\n",
       "    </tr>\n",
       "  </tbody>\n",
       "</table>\n",
       "</div>"
      ],
      "text/plain": [
       "            acct  num_courses_visited  total_minutes_visited  \\\n",
       "count  136240.00            136240.00              136240.00   \n",
       "mean      449.07                 0.34                  24.55   \n",
       "std       321.10                 0.62                  62.10   \n",
       "min         0.00                 0.00                   0.00   \n",
       "25%       200.00                 0.00                   0.00   \n",
       "50%       392.00                 0.00                   0.00   \n",
       "75%       597.00                 1.00                   7.31   \n",
       "max      1305.00                10.00                1030.88   \n",
       "\n",
       "       lessons_completed  projects_completed  \n",
       "count          136240.00           136240.00  \n",
       "mean                0.13                0.01  \n",
       "std                 0.47                0.09  \n",
       "min                 0.00                0.00  \n",
       "25%                 0.00                0.00  \n",
       "50%                 0.00                0.00  \n",
       "75%                 0.00                0.00  \n",
       "max                17.00                3.00  "
      ]
     },
     "execution_count": 5,
     "metadata": {},
     "output_type": "execute_result"
    }
   ],
   "source": [
    "daily_engagements.describe().round(2)"
   ]
  },
  {
   "cell_type": "markdown",
   "id": "70cb5811",
   "metadata": {},
   "source": [
    "# preprocessing Data"
   ]
  },
  {
   "cell_type": "code",
   "execution_count": 6,
   "id": "6bfa064d",
   "metadata": {},
   "outputs": [
    {
     "data": {
      "text/plain": [
       "array([   0,    1,    2, ..., 1302, 1303, 1305], dtype=int64)"
      ]
     },
     "execution_count": 6,
     "metadata": {},
     "output_type": "execute_result"
    }
   ],
   "source": [
    "daily_engagements['acct'].unique()"
   ]
  },
  {
   "cell_type": "code",
   "execution_count": 7,
   "id": "1f222a95",
   "metadata": {},
   "outputs": [
    {
     "data": {
      "text/plain": [
       "1237"
      ]
     },
     "execution_count": 7,
     "metadata": {},
     "output_type": "execute_result"
    }
   ],
   "source": [
    "daily_engagements['acct'].nunique()"
   ]
  },
  {
   "cell_type": "code",
   "execution_count": 8,
   "id": "21e8601f",
   "metadata": {},
   "outputs": [
    {
     "data": {
      "text/plain": [
       "array([ 1.,  2.,  0.,  3.,  6.,  4.,  5., 10.,  7.,  8.])"
      ]
     },
     "execution_count": 8,
     "metadata": {},
     "output_type": "execute_result"
    }
   ],
   "source": [
    "daily_engagements['num_courses_visited'].unique()"
   ]
  },
  {
   "cell_type": "code",
   "execution_count": 9,
   "id": "ba1b7448",
   "metadata": {},
   "outputs": [
    {
     "data": {
      "text/plain": [
       "10"
      ]
     },
     "execution_count": 9,
     "metadata": {},
     "output_type": "execute_result"
    }
   ],
   "source": [
    "daily_engagements['num_courses_visited'].nunique()"
   ]
  },
  {
   "cell_type": "code",
   "execution_count": 10,
   "id": "f6fec9dc",
   "metadata": {},
   "outputs": [
    {
     "data": {
      "text/plain": [
       "array([11.6793745 , 37.28488733, 53.63374633, ...,  7.7152505 ,\n",
       "       10.07422733,  2.72013633])"
      ]
     },
     "execution_count": 10,
     "metadata": {},
     "output_type": "execute_result"
    }
   ],
   "source": [
    "daily_engagements['total_minutes_visited'].unique()"
   ]
  },
  {
   "cell_type": "code",
   "execution_count": 11,
   "id": "22fd33f3",
   "metadata": {},
   "outputs": [
    {
     "data": {
      "text/plain": [
       "37361"
      ]
     },
     "execution_count": 11,
     "metadata": {},
     "output_type": "execute_result"
    }
   ],
   "source": [
    "daily_engagements['total_minutes_visited'].nunique()"
   ]
  },
  {
   "cell_type": "markdown",
   "id": "d88a2da8",
   "metadata": {},
   "source": [
    "## VALUE_COUNTS()"
   ]
  },
  {
   "cell_type": "code",
   "execution_count": 12,
   "id": "0aba3f3e",
   "metadata": {},
   "outputs": [
    {
     "data": {
      "text/plain": [
       "448    295\n",
       "568    290\n",
       "420    290\n",
       "354    290\n",
       "91     290\n",
       "      ... \n",
       "837      1\n",
       "686      1\n",
       "994      1\n",
       "982      1\n",
       "838      1\n",
       "Name: acct, Length: 1237, dtype: int64"
      ]
     },
     "execution_count": 12,
     "metadata": {},
     "output_type": "execute_result"
    }
   ],
   "source": [
    "daily_engagements['acct'].value_counts()"
   ]
  },
  {
   "cell_type": "code",
   "execution_count": 13,
   "id": "ec27aea3",
   "metadata": {},
   "outputs": [
    {
     "data": {
      "text/plain": [
       "0.0     98880\n",
       "1.0     29822\n",
       "2.0      6382\n",
       "3.0       852\n",
       "4.0       244\n",
       "6.0        30\n",
       "5.0        24\n",
       "8.0         3\n",
       "7.0         2\n",
       "10.0        1\n",
       "Name: num_courses_visited, dtype: int64"
      ]
     },
     "execution_count": 13,
     "metadata": {},
     "output_type": "execute_result"
    }
   ],
   "source": [
    "daily_engagements['num_courses_visited'].value_counts()"
   ]
  },
  {
   "cell_type": "code",
   "execution_count": 14,
   "id": "b95ef03c",
   "metadata": {
    "scrolled": true
   },
   "outputs": [
    {
     "data": {
      "text/plain": [
       "0.000000      98880\n",
       "11.679374         1\n",
       "151.797839        1\n",
       "175.731912        1\n",
       "468.088955        1\n",
       "              ...  \n",
       "38.753634         1\n",
       "17.265233         1\n",
       "51.996142         1\n",
       "6.580858          1\n",
       "2.720136          1\n",
       "Name: total_minutes_visited, Length: 37361, dtype: int64"
      ]
     },
     "execution_count": 14,
     "metadata": {},
     "output_type": "execute_result"
    }
   ],
   "source": [
    "daily_engagements['total_minutes_visited'].value_counts()"
   ]
  },
  {
   "cell_type": "markdown",
   "id": "d51f268e",
   "metadata": {},
   "source": [
    "# isna().sum()"
   ]
  },
  {
   "cell_type": "code",
   "execution_count": 15,
   "id": "5c408246",
   "metadata": {
    "scrolled": true
   },
   "outputs": [
    {
     "data": {
      "text/plain": [
       "acct                     0\n",
       "utc_date                 0\n",
       "num_courses_visited      0\n",
       "total_minutes_visited    0\n",
       "lessons_completed        0\n",
       "projects_completed       0\n",
       "dtype: int64"
      ]
     },
     "execution_count": 15,
     "metadata": {},
     "output_type": "execute_result"
    }
   ],
   "source": [
    "daily_engagements.isna().sum()"
   ]
  },
  {
   "cell_type": "code",
   "execution_count": 16,
   "id": "76746022",
   "metadata": {},
   "outputs": [],
   "source": [
    "# duplicated().sum()"
   ]
  },
  {
   "cell_type": "code",
   "execution_count": 17,
   "id": "0509a7c0",
   "metadata": {},
   "outputs": [
    {
     "data": {
      "text/plain": [
       "0"
      ]
     },
     "execution_count": 17,
     "metadata": {},
     "output_type": "execute_result"
    }
   ],
   "source": [
    "daily_engagements.duplicated().sum()"
   ]
  },
  {
   "cell_type": "markdown",
   "id": "17917963",
   "metadata": {},
   "source": [
    "## EXPLORING & DATA ANALYSIS"
   ]
  },
  {
   "cell_type": "code",
   "execution_count": 18,
   "id": "e4af49bd",
   "metadata": {},
   "outputs": [
    {
     "data": {
      "text/html": [
       "<div>\n",
       "<style scoped>\n",
       "    .dataframe tbody tr th:only-of-type {\n",
       "        vertical-align: middle;\n",
       "    }\n",
       "\n",
       "    .dataframe tbody tr th {\n",
       "        vertical-align: top;\n",
       "    }\n",
       "\n",
       "    .dataframe thead th {\n",
       "        text-align: right;\n",
       "    }\n",
       "</style>\n",
       "<table border=\"1\" class=\"dataframe\">\n",
       "  <thead>\n",
       "    <tr style=\"text-align: right;\">\n",
       "      <th></th>\n",
       "      <th>acct</th>\n",
       "      <th>utc_date</th>\n",
       "      <th>num_courses_visited</th>\n",
       "      <th>total_minutes_visited</th>\n",
       "      <th>lessons_completed</th>\n",
       "      <th>projects_completed</th>\n",
       "    </tr>\n",
       "  </thead>\n",
       "  <tbody>\n",
       "    <tr>\n",
       "      <th>12797</th>\n",
       "      <td>77</td>\n",
       "      <td>2015-05-23</td>\n",
       "      <td>0.0</td>\n",
       "      <td>0.000000</td>\n",
       "      <td>0.0</td>\n",
       "      <td>0.0</td>\n",
       "    </tr>\n",
       "    <tr>\n",
       "      <th>104053</th>\n",
       "      <td>605</td>\n",
       "      <td>2015-07-06</td>\n",
       "      <td>0.0</td>\n",
       "      <td>0.000000</td>\n",
       "      <td>0.0</td>\n",
       "      <td>0.0</td>\n",
       "    </tr>\n",
       "    <tr>\n",
       "      <th>55019</th>\n",
       "      <td>321</td>\n",
       "      <td>2014-11-16</td>\n",
       "      <td>1.0</td>\n",
       "      <td>17.232783</td>\n",
       "      <td>0.0</td>\n",
       "      <td>0.0</td>\n",
       "    </tr>\n",
       "    <tr>\n",
       "      <th>92839</th>\n",
       "      <td>547</td>\n",
       "      <td>2015-01-06</td>\n",
       "      <td>0.0</td>\n",
       "      <td>0.000000</td>\n",
       "      <td>0.0</td>\n",
       "      <td>0.0</td>\n",
       "    </tr>\n",
       "    <tr>\n",
       "      <th>15623</th>\n",
       "      <td>92</td>\n",
       "      <td>2014-12-03</td>\n",
       "      <td>0.0</td>\n",
       "      <td>0.000000</td>\n",
       "      <td>0.0</td>\n",
       "      <td>0.0</td>\n",
       "    </tr>\n",
       "    <tr>\n",
       "      <th>24031</th>\n",
       "      <td>144</td>\n",
       "      <td>2015-03-27</td>\n",
       "      <td>0.0</td>\n",
       "      <td>0.000000</td>\n",
       "      <td>0.0</td>\n",
       "      <td>0.0</td>\n",
       "    </tr>\n",
       "    <tr>\n",
       "      <th>16864</th>\n",
       "      <td>99</td>\n",
       "      <td>2015-08-09</td>\n",
       "      <td>0.0</td>\n",
       "      <td>0.000000</td>\n",
       "      <td>0.0</td>\n",
       "      <td>0.0</td>\n",
       "    </tr>\n",
       "    <tr>\n",
       "      <th>19952</th>\n",
       "      <td>119</td>\n",
       "      <td>2015-04-25</td>\n",
       "      <td>1.0</td>\n",
       "      <td>277.139596</td>\n",
       "      <td>1.0</td>\n",
       "      <td>0.0</td>\n",
       "    </tr>\n",
       "    <tr>\n",
       "      <th>66455</th>\n",
       "      <td>383</td>\n",
       "      <td>2015-06-23</td>\n",
       "      <td>0.0</td>\n",
       "      <td>0.000000</td>\n",
       "      <td>0.0</td>\n",
       "      <td>0.0</td>\n",
       "    </tr>\n",
       "    <tr>\n",
       "      <th>10901</th>\n",
       "      <td>66</td>\n",
       "      <td>2015-03-06</td>\n",
       "      <td>0.0</td>\n",
       "      <td>0.000000</td>\n",
       "      <td>0.0</td>\n",
       "      <td>0.0</td>\n",
       "    </tr>\n",
       "  </tbody>\n",
       "</table>\n",
       "</div>"
      ],
      "text/plain": [
       "        acct    utc_date  num_courses_visited  total_minutes_visited  \\\n",
       "12797     77  2015-05-23                  0.0               0.000000   \n",
       "104053   605  2015-07-06                  0.0               0.000000   \n",
       "55019    321  2014-11-16                  1.0              17.232783   \n",
       "92839    547  2015-01-06                  0.0               0.000000   \n",
       "15623     92  2014-12-03                  0.0               0.000000   \n",
       "24031    144  2015-03-27                  0.0               0.000000   \n",
       "16864     99  2015-08-09                  0.0               0.000000   \n",
       "19952    119  2015-04-25                  1.0             277.139596   \n",
       "66455    383  2015-06-23                  0.0               0.000000   \n",
       "10901     66  2015-03-06                  0.0               0.000000   \n",
       "\n",
       "        lessons_completed  projects_completed  \n",
       "12797                 0.0                 0.0  \n",
       "104053                0.0                 0.0  \n",
       "55019                 0.0                 0.0  \n",
       "92839                 0.0                 0.0  \n",
       "15623                 0.0                 0.0  \n",
       "24031                 0.0                 0.0  \n",
       "16864                 0.0                 0.0  \n",
       "19952                 1.0                 0.0  \n",
       "66455                 0.0                 0.0  \n",
       "10901                 0.0                 0.0  "
      ]
     },
     "execution_count": 18,
     "metadata": {},
     "output_type": "execute_result"
    }
   ],
   "source": [
    "daily_engagements.sample(10)"
   ]
  },
  {
   "cell_type": "code",
   "execution_count": 19,
   "id": "783db259",
   "metadata": {},
   "outputs": [
    {
     "data": {
      "text/plain": [
       "<AxesSubplot:>"
      ]
     },
     "execution_count": 19,
     "metadata": {},
     "output_type": "execute_result"
    },
    {
     "data": {
      "image/png": "[encoded data removed]",
      "text/plain": [
       "<Figure size 432x288 with 1 Axes>"
      ]
     },
     "metadata": {
      "needs_background": "light"
     },
     "output_type": "display_data"
    }
   ],
   "source": [
    "daily_engagements['acct'].value_counts().plot.bar()"
   ]
  },
  {
   "cell_type": "code",
   "execution_count": 27,
   "id": "8bab055e",
   "metadata": {
    "scrolled": true
   },
   "outputs": [
    {
     "data": {
      "text/plain": [
       "<AxesSubplot:>"
      ]
     },
     "execution_count": 27,
     "metadata": {},
     "output_type": "execute_result"
    },
    {
     "data": {
      "image/png": "[encoded data removed]",
      "text/plain": [
       "<Figure size 432x288 with 1 Axes>"
      ]
     },
     "metadata": {
      "needs_background": "light"
     },
     "output_type": "display_data"
    }
   ],
   "source": [
    "daily_engagements['num_courses_visited'].value_counts().plot.bar()"
   ]
  },
  {
   "cell_type": "code",
   "execution_count": 20,
   "id": "e72a8d8f",
   "metadata": {},
   "outputs": [
    {
     "data": {
      "text/plain": [
       "{0.0: [7, 11, 12, 30, 37, 38, 39, 40, 41, 46, 50, 57, 58, 63, 64, 65, 69, 70, 71, 72, 77, 78, 79, 80, 83, 91, 96, 97, 98, 99, 100, 103, 104, 105, 106, 107, 108, 110, 111, 112, 113, 114, 115, 116, 117, 118, 124, 125, 126, 127, 128, 129, 130, 131, 132, 133, 134, 135, 136, 137, 138, 139, 140, 141, 142, 143, 144, 145, 146, 147, 148, 149, 150, 151, 152, 153, 155, 156, 157, 158, 159, 162, 163, 164, 165, 167, 169, 173, 174, 175, 176, 177, 178, 179, 180, 181, 182, 183, 184, 185, ...], 2.00051633333: [15115], 2.0023385: [67682], 2.00402583333: [50351], 2.0046185: [95544], 2.005059: [11652], 2.00548266667: [78633], 2.00672316667: [26524], 2.007093: [87709], 2.0071055: [123468], 2.00755766667: [109610], 2.00983383333: [67411], 2.010473: [9550], 2.01103766667: [17659], 2.0123665: [109200], 2.013973: [86706], 2.01400933333: [46950], 2.0146455: [79248], 2.014916: [75167], 2.01655066667: [44581], 2.01697233333: [4052], 2.01734133333: [134431], 2.01742616667: [113049], 2.01750666667: [105226], 2.01815583333: [32773], 2.02029883333: [55073], 2.02083566667: [12789], 2.02105966667: [14931], 2.02174316667: [111694], 2.02210266667: [10987], 2.02518983333: [61306], 2.02610466667: [22039], 2.02736783333: [107038], 2.02802683333: [37916], 2.03048233333: [108958], 2.03263833333: [11988], 2.0326635: [77025], 2.03281066667: [121033], 2.03319066667: [135852], 2.03369066667: [82738], 2.0343565: [93231], 2.03520716667: [60162], 2.0364365: [36079], 2.03722416667: [86717], 2.03816616667: [57524], 2.03909533333: [22666], 2.04090666667: [112184], 2.0412855: [803], 2.041822: [113832], 2.04368316667: [110296], 2.04467333333: [28813], 2.04613733333: [100996], 2.04673716667: [41601], 2.046917: [97709], 2.0470605: [55265], 2.048501: [27373], 2.0494365: [18406], 2.04945716667: [124213], 2.04965033333: [6889], 2.04971366667: [112027], 2.05001583333: [83433], 2.05191883333: [10414], 2.05237616667: [45849], 2.05424783333: [97091], 2.05471766667: [29497], 2.05501833333: [60598], 2.05622333333: [136202], 2.05631566667: [62494], 2.057243: [123321], 2.0579365: [106933], 2.05853016667: [121563], 2.058843: [81611], 2.05962516667: [60072], 2.06308: [44419], 2.06341466667: [129327], 2.0634735: [121773], 2.06564366667: [93230], 2.06589083333: [103664], 2.06826166667: [94181], 2.068439: [123985], 2.069447: [74917], 2.07253216667: [100542], 2.07295616667: [73004], 2.07326583333: [124039], 2.07338933333: [89914], 2.074078: [14277], 2.07588016667: [74236], 2.0762275: [80483], 2.07751566667: [26959], 2.07804833333: [39318], 2.07925666667: [67981], 2.07971183333: [13568], 2.08133166667: [67318], 2.08327933333: [116352], 2.08406983333: [44145], 2.08466933333: [96985], 2.08475333333: [48481], 2.086098: [96219], 2.08638516667: [62404], 2.086895: [5608], ...}"
      ]
     },
     "execution_count": 20,
     "metadata": {},
     "output_type": "execute_result"
    }
   ],
   "source": [
    "daily_engagements.groupby('total_minutes_visited').groups"
   ]
  },
  {
   "cell_type": "code",
   "execution_count": 21,
   "id": "d3d15d4d",
   "metadata": {},
   "outputs": [
    {
     "data": {
      "text/html": [
       "<div>\n",
       "<style scoped>\n",
       "    .dataframe tbody tr th:only-of-type {\n",
       "        vertical-align: middle;\n",
       "    }\n",
       "\n",
       "    .dataframe tbody tr th {\n",
       "        vertical-align: top;\n",
       "    }\n",
       "\n",
       "    .dataframe thead th {\n",
       "        text-align: right;\n",
       "    }\n",
       "</style>\n",
       "<table border=\"1\" class=\"dataframe\">\n",
       "  <thead>\n",
       "    <tr style=\"text-align: right;\">\n",
       "      <th></th>\n",
       "      <th>acct</th>\n",
       "      <th>utc_date</th>\n",
       "      <th>num_courses_visited</th>\n",
       "      <th>total_minutes_visited</th>\n",
       "      <th>lessons_completed</th>\n",
       "      <th>projects_completed</th>\n",
       "    </tr>\n",
       "  </thead>\n",
       "  <tbody>\n",
       "  </tbody>\n",
       "</table>\n",
       "</div>"
      ],
      "text/plain": [
       "Empty DataFrame\n",
       "Columns: [acct, utc_date, num_courses_visited, total_minutes_visited, lessons_completed, projects_completed]\n",
       "Index: []"
      ]
     },
     "execution_count": 21,
     "metadata": {},
     "output_type": "execute_result"
    }
   ],
   "source": [
    "daily_engagements[daily_engagements['projects_completed'] == 'projects']"
   ]
  },
  {
   "cell_type": "markdown",
   "id": "8830a4c8",
   "metadata": {},
   "source": [
    "### DATA VISUALIZATION "
   ]
  },
  {
   "cell_type": "code",
   "execution_count": 69,
   "id": "1d57f256",
   "metadata": {},
   "outputs": [
    {
     "data": {
      "image/png": "[encoded data removed]",
      "text/plain": [
       "<Figure size 432x288 with 1 Axes>"
      ]
     },
     "metadata": {
      "needs_background": "light"
     },
     "output_type": "display_data"
    }
   ],
   "source": [
    "x = [1, 2, 3]\n",
    "y = [1, 4, 9]\n",
    "z = [10, 5, 0]\n",
    "plt.plot(x, y)\n",
    "plt.plot(x, z)\n",
    "plt.title(\"test plot\")\n",
    "plt.xlabel(\"x\")\n",
    "plt.ylabel(\"y and z\")\n",
    "plt.legend([\"this is y\", \"this is z\"])\n",
    "plt.show()"
   ]
  },
  {
   "cell_type": "code",
   "execution_count": null,
   "id": "88591164",
   "metadata": {},
   "outputs": [],
   "source": []
  },
  {
   "cell_type": "markdown",
   "id": "5cc2b6eb",
   "metadata": {},
   "source": [
    "# DATA Type"
   ]
  },
  {
   "cell_type": "code",
   "execution_count": 24,
   "id": "2e7dfecc",
   "metadata": {},
   "outputs": [
    {
     "data": {
      "text/plain": [
       "pandas.core.frame.DataFrame"
      ]
     },
     "execution_count": 24,
     "metadata": {},
     "output_type": "execute_result"
    }
   ],
   "source": [
    "type(daily_engagements)"
   ]
  },
  {
   "cell_type": "code",
   "execution_count": 25,
   "id": "1cc5f535",
   "metadata": {
    "scrolled": false
   },
   "outputs": [
    {
     "data": {
      "text/plain": [
       "0         2015-01-09\n",
       "1         2015-01-10\n",
       "2         2015-01-11\n",
       "3         2015-01-12\n",
       "4         2015-01-13\n",
       "             ...    \n",
       "136235    2015-06-14\n",
       "136236    2015-06-15\n",
       "136237    2015-06-16\n",
       "136238    2015-06-17\n",
       "136239    2015-06-18\n",
       "Name: utc_date, Length: 136240, dtype: object"
      ]
     },
     "execution_count": 25,
     "metadata": {},
     "output_type": "execute_result"
    }
   ],
   "source": [
    "daily_engagements.utc_date"
   ]
  },
  {
   "cell_type": "markdown",
   "id": "576de7fc",
   "metadata": {},
   "source": [
    "# iloc[]"
   ]
  },
  {
   "cell_type": "code",
   "execution_count": 27,
   "id": "a91de9cb",
   "metadata": {},
   "outputs": [
    {
     "data": {
      "text/plain": [
       "'2015-01-15'"
      ]
     },
     "execution_count": 27,
     "metadata": {},
     "output_type": "execute_result"
    }
   ],
   "source": [
    "daily_engagements.utc_date.iloc[6]"
   ]
  },
  {
   "cell_type": "code",
   "execution_count": 28,
   "id": "d9347226",
   "metadata": {},
   "outputs": [
    {
     "data": {
      "text/plain": [
       "0         1.0\n",
       "1         2.0\n",
       "2         2.0\n",
       "3         1.0\n",
       "4         1.0\n",
       "         ... \n",
       "136235    0.0\n",
       "136236    0.0\n",
       "136237    1.0\n",
       "136238    0.0\n",
       "136239    0.0\n",
       "Name: num_courses_visited, Length: 136240, dtype: float64"
      ]
     },
     "execution_count": 28,
     "metadata": {},
     "output_type": "execute_result"
    }
   ],
   "source": [
    "daily_engagements.num_courses_visited"
   ]
  },
  {
   "cell_type": "markdown",
   "id": "0f5162e8",
   "metadata": {},
   "source": [
    "# iloc[]"
   ]
  },
  {
   "cell_type": "code",
   "execution_count": 30,
   "id": "e554610b",
   "metadata": {},
   "outputs": [
    {
     "data": {
      "text/plain": [
       "1.0"
      ]
     },
     "execution_count": 30,
     "metadata": {},
     "output_type": "execute_result"
    }
   ],
   "source": [
    "daily_engagements.num_courses_visited.iloc[4]"
   ]
  },
  {
   "cell_type": "code",
   "execution_count": 31,
   "id": "c68a0a2d",
   "metadata": {},
   "outputs": [
    {
     "data": {
      "text/plain": [
       "0         11.679374\n",
       "1         37.284887\n",
       "2         53.633746\n",
       "3         33.489270\n",
       "4         64.779678\n",
       "            ...    \n",
       "136235     0.000000\n",
       "136236     0.000000\n",
       "136237     2.720136\n",
       "136238     0.000000\n",
       "136239     0.000000\n",
       "Name: total_minutes_visited, Length: 136240, dtype: float64"
      ]
     },
     "execution_count": 31,
     "metadata": {},
     "output_type": "execute_result"
    }
   ],
   "source": [
    "daily_engagements.total_minutes_visited"
   ]
  },
  {
   "cell_type": "markdown",
   "id": "f64a2b1b",
   "metadata": {},
   "source": [
    "# iloc[]"
   ]
  },
  {
   "cell_type": "code",
   "execution_count": 33,
   "id": "d0169191",
   "metadata": {},
   "outputs": [
    {
     "data": {
      "text/plain": [
       "33.4892696667"
      ]
     },
     "execution_count": 33,
     "metadata": {},
     "output_type": "execute_result"
    }
   ],
   "source": [
    "daily_engagements.total_minutes_visited.iloc[3]"
   ]
  },
  {
   "cell_type": "code",
   "execution_count": 34,
   "id": "819c7897",
   "metadata": {},
   "outputs": [
    {
     "data": {
      "image/png": "[encoded data removed]",
      "text/plain": [
       "<Figure size 432x288 with 1 Axes>"
      ]
     },
     "metadata": {
      "needs_background": "light"
     },
     "output_type": "display_data"
    }
   ],
   "source": [
    "plt.plot(daily_engagements.utc_date, daily_engagements.num_courses_visited, 'o')\n",
    "plt.plot(daily_engagements.utc_date, daily_engagements.total_minutes_visited, 'o')\n",
    "plt.show()"
   ]
  },
  {
   "cell_type": "markdown",
   "id": "fe63000b",
   "metadata": {},
   "source": [
    "## THANK YOU VERY MUCH"
   ]
  }
 ],
 "metadata": {
  "kernelspec": {
   "display_name": "Python 3 (ipykernel)",
   "language": "python",
   "name": "python3"
  },
  "language_info": {
   "codemirror_mode": {
    "name": "ipython",
    "version": 3
   },
   "file_extension": ".py",
   "mimetype": "text/x-python",
   "name": "python",
   "nbconvert_exporter": "python",
   "pygments_lexer": "ipython3",
   "version": "3.9.12"
  }
 },
 "nbformat": 4,
 "nbformat_minor": 5
}
