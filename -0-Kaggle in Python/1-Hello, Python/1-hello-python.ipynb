{
 "cells": [
  {
   "cell_type": "markdown",
   "id": "c049a94d",
   "metadata": {
    "papermill": {
     "duration": 0.008995,
     "end_time": "2023-04-21T13:38:06.633721",
     "exception": false,
     "start_time": "2023-04-21T13:38:06.624726",
     "status": "completed"
    },
    "tags": []
   },
   "source": [
    "This course covers the key Python skills you’ll need so you can start using Python for data science. The course is ideal for someone with some previous coding experience who wants to add Python to their repertoire. (If you're a first-time coder, you are encouraged to check out our [Intro to Programming course](https://www.kaggle.com/learn/intro-to-programming), which is designed for complete beginners who would like to get started with Python.)\n",
    "\n",
    "We'll start with a brief overview of Python syntax, variable assignment, and arithmetic operators. "
   ]
  },
  {
   "cell_type": "markdown",
   "id": "427c15c2",
   "metadata": {
    "papermill": {
     "duration": 0.007361,
     "end_time": "2023-04-21T13:38:06.649087",
     "exception": false,
     "start_time": "2023-04-21T13:38:06.641726",
     "status": "completed"
    },
    "tags": []
   },
   "source": [
    "# Hello, Python!\n",
    "\n",
    "Python was named for the British comedy troupe [Monty Python](https://en.wikipedia.org/wiki/Monty_Python), so we'll make our first Python program a homage to their skit about [Spam](https://bit.ly/3MwwjSs).\n",
    "\n",
    "Just for fun, try reading over the code below and predicting what it's going to do when run. (If you have no idea, that's fine!)\n",
    "\n",
    "Then click the \"output\" button to see the results of our program."
   ]
  },
  {
   "cell_type": "code",
   "execution_count": 1,
   "id": "c67c417a",
   "metadata": {
    "_kg_hide-output": true,
    "execution": {
     "iopub.execute_input": "2023-04-21T13:38:06.666941Z",
     "iopub.status.busy": "2023-04-21T13:38:06.666098Z",
     "iopub.status.idle": "2023-04-21T13:38:06.678204Z",
     "shell.execute_reply": "2023-04-21T13:38:06.676932Z"
    },
    "papermill": {
     "duration": 0.023886,
     "end_time": "2023-04-21T13:38:06.680802",
     "exception": false,
     "start_time": "2023-04-21T13:38:06.656916",
     "status": "completed"
    },
    "tags": []
   },
   "outputs": [
    {
     "name": "stdout",
     "output_type": "stream",
     "text": [
      "0\n",
      "But I don't want ANY spam!\n",
      "Spam Spam Spam Spam \n"
     ]
    }
   ],
   "source": [
    "spam_amount = 0\n",
    "print(spam_amount)\n",
    "\n",
    "# Ordering Spam, egg, Spam, Spam, bacon and Spam (4 more servings of Spam)\n",
    "spam_amount = spam_amount + 4\n",
    "\n",
    "if spam_amount > 0:\n",
    "    print(\"But I don't want ANY spam!\")\n",
    "\n",
    "viking_song = \"Spam \" * spam_amount\n",
    "print(viking_song)"
   ]
  },
  {
   "cell_type": "markdown",
   "id": "9556bca9",
   "metadata": {
    "papermill": {
     "duration": 0.00747,
     "end_time": "2023-04-21T13:38:06.696227",
     "exception": false,
     "start_time": "2023-04-21T13:38:06.688757",
     "status": "completed"
    },
    "tags": []
   },
   "source": [
    "There's a lot to unpack here! This silly program demonstrates many important aspects of what Python code looks like and how it works. Let's review the code from top to bottom."
   ]
  },
  {
   "cell_type": "code",
   "execution_count": 2,
   "id": "8a80169f",
   "metadata": {
    "collapsed": true,
    "execution": {
     "iopub.execute_input": "2023-04-21T13:38:06.714111Z",
     "iopub.status.busy": "2023-04-21T13:38:06.713689Z",
     "iopub.status.idle": "2023-04-21T13:38:06.718579Z",
     "shell.execute_reply": "2023-04-21T13:38:06.717369Z"
    },
    "papermill": {
     "duration": 0.016613,
     "end_time": "2023-04-21T13:38:06.720976",
     "exception": false,
     "start_time": "2023-04-21T13:38:06.704363",
     "status": "completed"
    },
    "tags": []
   },
   "outputs": [],
   "source": [
    "spam_amount = 0"
   ]
  },
  {
   "cell_type": "markdown",
   "id": "3ae62598",
   "metadata": {
    "papermill": {
     "duration": 0.00748,
     "end_time": "2023-04-21T13:38:06.736312",
     "exception": false,
     "start_time": "2023-04-21T13:38:06.728832",
     "status": "completed"
    },
    "tags": []
   },
   "source": [
    "**Variable assignment:** Here we create a variable called `spam_amount` and assign it the value of 0 using `=`, which is called the assignment operator.\n",
    "\n",
    "> **Note**: If you've programmed in certain other languages (like Java or C++), you might be noticing some things Python *doesn't* require us to do here:  \n",
    "- we don't need to \"declare\" `spam_amount` before assigning to it\n",
    "- we don't need to tell Python what type of value `spam_amount` is going to refer to. In fact, we can even go on to reassign `spam_amount` to refer to a different sort of thing like a string or a boolean."
   ]
  },
  {
   "cell_type": "code",
   "execution_count": 3,
   "id": "67a838a3",
   "metadata": {
    "_kg_hide-output": false,
    "collapsed": true,
    "execution": {
     "iopub.execute_input": "2023-04-21T13:38:06.754017Z",
     "iopub.status.busy": "2023-04-21T13:38:06.753525Z",
     "iopub.status.idle": "2023-04-21T13:38:06.759381Z",
     "shell.execute_reply": "2023-04-21T13:38:06.757944Z"
    },
    "papermill": {
     "duration": 0.017816,
     "end_time": "2023-04-21T13:38:06.762012",
     "exception": false,
     "start_time": "2023-04-21T13:38:06.744196",
     "status": "completed"
    },
    "tags": []
   },
   "outputs": [
    {
     "name": "stdout",
     "output_type": "stream",
     "text": [
      "0\n"
     ]
    }
   ],
   "source": [
    "print(spam_amount)"
   ]
  },
  {
   "cell_type": "markdown",
   "id": "60e8305d",
   "metadata": {
    "papermill": {
     "duration": 0.007488,
     "end_time": "2023-04-21T13:38:06.778413",
     "exception": false,
     "start_time": "2023-04-21T13:38:06.770925",
     "status": "completed"
    },
    "tags": []
   },
   "source": [
    "**Function calls:**. `print` is a Python function that displays the value passed to it on the screen. We call functions by putting parentheses after their name, and putting the inputs (or *arguments*) to the function in those parentheses."
   ]
  },
  {
   "cell_type": "code",
   "execution_count": 4,
   "id": "5bc8d8f1",
   "metadata": {
    "_kg_hide-output": false,
    "collapsed": true,
    "execution": {
     "iopub.execute_input": "2023-04-21T13:38:06.796355Z",
     "iopub.status.busy": "2023-04-21T13:38:06.795533Z",
     "iopub.status.idle": "2023-04-21T13:38:06.801262Z",
     "shell.execute_reply": "2023-04-21T13:38:06.799969Z"
    },
    "papermill": {
     "duration": 0.017717,
     "end_time": "2023-04-21T13:38:06.803984",
     "exception": false,
     "start_time": "2023-04-21T13:38:06.786267",
     "status": "completed"
    },
    "tags": []
   },
   "outputs": [],
   "source": [
    "# Ordering Spam, egg, Spam, Spam, bacon and Spam (4 more servings of Spam)\n",
    "spam_amount = spam_amount + 4"
   ]
  },
  {
   "cell_type": "markdown",
   "id": "cb175914",
   "metadata": {
    "papermill": {
     "duration": 0.007675,
     "end_time": "2023-04-21T13:38:06.820122",
     "exception": false,
     "start_time": "2023-04-21T13:38:06.812447",
     "status": "completed"
    },
    "tags": []
   },
   "source": [
    "The first line above is a **comment**. In Python, comments begin with the `#` symbol.\n",
    "\n",
    "Next we see an example of reassignment. Reassigning the value of an existing variable looks just the same as creating a variable - it still uses the `=` assignment operator.\n",
    "\n",
    "In this case, the value we're assigning to `spam_amount` involves some simple arithmetic on its previous value. When it encounters this line, Python evaluates the expression on the right-hand-side of the `=` (0 + 4 = 4), and then assigns that value to the variable on the left-hand-side."
   ]
  },
  {
   "cell_type": "code",
   "execution_count": 5,
   "id": "f61f9874",
   "metadata": {
    "_kg_hide-output": false,
    "collapsed": true,
    "execution": {
     "iopub.execute_input": "2023-04-21T13:38:06.838190Z",
     "iopub.status.busy": "2023-04-21T13:38:06.837522Z",
     "iopub.status.idle": "2023-04-21T13:38:06.844341Z",
     "shell.execute_reply": "2023-04-21T13:38:06.842913Z"
    },
    "papermill": {
     "duration": 0.018656,
     "end_time": "2023-04-21T13:38:06.846797",
     "exception": false,
     "start_time": "2023-04-21T13:38:06.828141",
     "status": "completed"
    },
    "tags": []
   },
   "outputs": [
    {
     "name": "stdout",
     "output_type": "stream",
     "text": [
      "But I don't want ANY spam!\n",
      "Spam Spam Spam\n"
     ]
    }
   ],
   "source": [
    "if spam_amount > 0:\n",
    "    print(\"But I don't want ANY spam!\")\n",
    "\n",
    "viking_song = \"Spam Spam Spam\"\n",
    "print(viking_song)"
   ]
  },
  {
   "cell_type": "markdown",
   "id": "3f1deab9",
   "metadata": {
    "papermill": {
     "duration": 0.00811,
     "end_time": "2023-04-21T13:38:06.863977",
     "exception": false,
     "start_time": "2023-04-21T13:38:06.855867",
     "status": "completed"
    },
    "tags": []
   },
   "source": [
    "We won't talk much about \"conditionals\" until later, but, even if you've never coded before, you can probably guess what this does. Python is prized for its readability and the simplicity. \n",
    "\n",
    "Note how we indicated which code belongs to the `if`. `\"But I don't want ANY spam!\"` is only supposed to be printed if `spam_amount` is positive. But the later code (like `print(viking_song)`) should be executed no matter what. How do we (and Python) know that?\n",
    "\n",
    "The colon (`:`) at the end of the `if` line indicates that a new **code block** is starting. Subsequent lines which are indented are part of that code block. \n",
    "> **Note**: If you've coded before, you might know that some other languages use `{`curly braces`}` to mark the beginning and end of code blocks. Python's use of meaningful whitespace can be surprising to programmers who are accustomed to other languages, but in practice it can lead to more consistent and readable code than languages that do not enforce indentation of code blocks. \n",
    "\n",
    "The later lines dealing with `viking_song` are not indented with an extra 4 spaces, so they're not a part of the `if`'s code block. We'll see more examples of indented code blocks later when we define functions and using loops.\n",
    "\n",
    "This code snippet is also our first sighting of a **string** in Python:\n",
    "\n",
    "```python\n",
    "\"But I don't want ANY spam!\"\n",
    "```\n",
    "\n",
    "Strings can be marked either by double or single quotation marks. (But because this particular string *contains* a single-quote character, we might confuse Python by trying to surround it with single-quotes, unless we're careful.)"
   ]
  },
  {
   "cell_type": "code",
   "execution_count": 6,
   "id": "1d2b9c32",
   "metadata": {
    "_kg_hide-output": false,
    "collapsed": true,
    "execution": {
     "iopub.execute_input": "2023-04-21T13:38:06.882892Z",
     "iopub.status.busy": "2023-04-21T13:38:06.882399Z",
     "iopub.status.idle": "2023-04-21T13:38:06.888879Z",
     "shell.execute_reply": "2023-04-21T13:38:06.887428Z"
    },
    "papermill": {
     "duration": 0.018509,
     "end_time": "2023-04-21T13:38:06.891145",
     "exception": false,
     "start_time": "2023-04-21T13:38:06.872636",
     "status": "completed"
    },
    "tags": []
   },
   "outputs": [
    {
     "name": "stdout",
     "output_type": "stream",
     "text": [
      "Spam Spam Spam Spam \n"
     ]
    }
   ],
   "source": [
    "viking_song = \"Spam \" * spam_amount\n",
    "print(viking_song)"
   ]
  },
  {
   "cell_type": "markdown",
   "id": "d862f4aa",
   "metadata": {
    "papermill": {
     "duration": 0.007764,
     "end_time": "2023-04-21T13:38:06.907168",
     "exception": false,
     "start_time": "2023-04-21T13:38:06.899404",
     "status": "completed"
    },
    "tags": []
   },
   "source": [
    "The `*` operator can be used to multiply two numbers (`3 * 3` evaluates to 9), but we can also multiply a string by a number, to get a version that's been repeated that many times. Python offers a number of cheeky little time-saving tricks like this where operators like `*` and `+` have a different meaning depending on what kind of thing they're applied to. (The technical term for this is [operator overloading](https://en.wikipedia.org/wiki/Operator_overloading).)"
   ]
  },
  {
   "cell_type": "markdown",
   "id": "84628a4e",
   "metadata": {
    "papermill": {
     "duration": 0.007837,
     "end_time": "2023-04-21T13:38:06.923098",
     "exception": false,
     "start_time": "2023-04-21T13:38:06.915261",
     "status": "completed"
    },
    "tags": []
   },
   "source": [
    "## Numbers and arithmetic in Python\n",
    "\n",
    "We've already seen an example of a variable containing a number above:"
   ]
  },
  {
   "cell_type": "code",
   "execution_count": 7,
   "id": "00adcaf6",
   "metadata": {
    "collapsed": true,
    "execution": {
     "iopub.execute_input": "2023-04-21T13:38:06.941609Z",
     "iopub.status.busy": "2023-04-21T13:38:06.941176Z",
     "iopub.status.idle": "2023-04-21T13:38:06.945753Z",
     "shell.execute_reply": "2023-04-21T13:38:06.944593Z"
    },
    "papermill": {
     "duration": 0.017003,
     "end_time": "2023-04-21T13:38:06.948170",
     "exception": false,
     "start_time": "2023-04-21T13:38:06.931167",
     "status": "completed"
    },
    "tags": []
   },
   "outputs": [],
   "source": [
    "spam_amount = 0"
   ]
  },
  {
   "cell_type": "markdown",
   "id": "cecc8587",
   "metadata": {
    "papermill": {
     "duration": 0.007951,
     "end_time": "2023-04-21T13:38:06.964328",
     "exception": false,
     "start_time": "2023-04-21T13:38:06.956377",
     "status": "completed"
    },
    "tags": []
   },
   "source": [
    "\"Number\" is a fine informal name for the kind of thing, but if we wanted to be more technical, we could ask Python how it would describe the type of thing that `spam_amount` is:"
   ]
  },
  {
   "cell_type": "code",
   "execution_count": 8,
   "id": "86c8c503",
   "metadata": {
    "collapsed": true,
    "execution": {
     "iopub.execute_input": "2023-04-21T13:38:06.982871Z",
     "iopub.status.busy": "2023-04-21T13:38:06.982133Z",
     "iopub.status.idle": "2023-04-21T13:38:06.990523Z",
     "shell.execute_reply": "2023-04-21T13:38:06.989286Z"
    },
    "papermill": {
     "duration": 0.020797,
     "end_time": "2023-04-21T13:38:06.993276",
     "exception": false,
     "start_time": "2023-04-21T13:38:06.972479",
     "status": "completed"
    },
    "tags": []
   },
   "outputs": [
    {
     "data": {
      "text/plain": [
       "int"
      ]
     },
     "execution_count": 8,
     "metadata": {},
     "output_type": "execute_result"
    }
   ],
   "source": [
    "type(spam_amount)"
   ]
  },
  {
   "cell_type": "markdown",
   "id": "e1138473",
   "metadata": {
    "papermill": {
     "duration": 0.008243,
     "end_time": "2023-04-21T13:38:07.010141",
     "exception": false,
     "start_time": "2023-04-21T13:38:07.001898",
     "status": "completed"
    },
    "tags": []
   },
   "source": [
    "It's an `int` - short for integer. There's another sort of number we commonly encounter in Python:"
   ]
  },
  {
   "cell_type": "code",
   "execution_count": 9,
   "id": "ab1d89a1",
   "metadata": {
    "collapsed": true,
    "execution": {
     "iopub.execute_input": "2023-04-21T13:38:07.029847Z",
     "iopub.status.busy": "2023-04-21T13:38:07.029390Z",
     "iopub.status.idle": "2023-04-21T13:38:07.036975Z",
     "shell.execute_reply": "2023-04-21T13:38:07.035753Z"
    },
    "papermill": {
     "duration": 0.020547,
     "end_time": "2023-04-21T13:38:07.039626",
     "exception": false,
     "start_time": "2023-04-21T13:38:07.019079",
     "status": "completed"
    },
    "tags": []
   },
   "outputs": [
    {
     "data": {
      "text/plain": [
       "float"
      ]
     },
     "execution_count": 9,
     "metadata": {},
     "output_type": "execute_result"
    }
   ],
   "source": [
    "type(19.95)"
   ]
  },
  {
   "cell_type": "markdown",
   "id": "2863e9e4",
   "metadata": {
    "papermill": {
     "duration": 0.008492,
     "end_time": "2023-04-21T13:38:07.056730",
     "exception": false,
     "start_time": "2023-04-21T13:38:07.048238",
     "status": "completed"
    },
    "tags": []
   },
   "source": [
    "A `float` is a number with a decimal place - very useful for representing things like weights or proportions.\n",
    "\n",
    "`type()` is the second built-in function we've seen (after `print()`), and it's another good one to remember. It's very useful to be able to ask Python \"what kind of thing is this?\". "
   ]
  },
  {
   "cell_type": "markdown",
   "id": "a43de165",
   "metadata": {
    "papermill": {
     "duration": 0.008475,
     "end_time": "2023-04-21T13:38:07.073892",
     "exception": false,
     "start_time": "2023-04-21T13:38:07.065417",
     "status": "completed"
    },
    "tags": []
   },
   "source": [
    "A natural thing to want to do with numbers is perform arithmetic. We've seen the `+` operator for addition, and the `*` operator for multiplication. Python also has us covered for the rest of the basic buttons on your calculator:\n",
    "\n",
    "| Operator     | Name           | Description                                            |\n",
    "|--------------|----------------|--------------------------------------------------------|\n",
    "| ``a + b``    | Addition       | Sum of ``a`` and ``b``                                 |\n",
    "| ``a - b``    | Subtraction    | Difference of ``a`` and ``b``                          |\n",
    "| ``a * b``    | Multiplication | Product of ``a`` and ``b``                             |\n",
    "| ``a / b``    | True division  | Quotient of ``a`` and ``b``                            |\n",
    "| ``a // b``   | Floor division | Quotient of ``a`` and ``b``, removing fractional parts |\n",
    "| ``a % b``    | Modulus        | Integer remainder after division of ``a`` by ``b``     |\n",
    "| ``a ** b``   | Exponentiation | ``a`` raised to the power of ``b``                     |\n",
    "| ``-a``       | Negation       | The negative of ``a``                                  |\n",
    "\n",
    "<span style=\"display:none\"></span>\n",
    "\n",
    "One interesting observation here is that, whereas your calculator probably just has one button for division, Python can do two kinds. \"True division\" is basically what your calculator does:"
   ]
  },
  {
   "cell_type": "code",
   "execution_count": 10,
   "id": "df82c4cd",
   "metadata": {
    "collapsed": true,
    "execution": {
     "iopub.execute_input": "2023-04-21T13:38:07.094115Z",
     "iopub.status.busy": "2023-04-21T13:38:07.092919Z",
     "iopub.status.idle": "2023-04-21T13:38:07.099737Z",
     "shell.execute_reply": "2023-04-21T13:38:07.098075Z"
    },
    "papermill": {
     "duration": 0.019601,
     "end_time": "2023-04-21T13:38:07.102519",
     "exception": false,
     "start_time": "2023-04-21T13:38:07.082918",
     "status": "completed"
    },
    "tags": []
   },
   "outputs": [
    {
     "name": "stdout",
     "output_type": "stream",
     "text": [
      "2.5\n",
      "3.0\n"
     ]
    }
   ],
   "source": [
    "print(5 / 2)\n",
    "print(6 / 2)"
   ]
  },
  {
   "cell_type": "markdown",
   "id": "c90396cd",
   "metadata": {
    "papermill": {
     "duration": 0.009409,
     "end_time": "2023-04-21T13:38:07.120657",
     "exception": false,
     "start_time": "2023-04-21T13:38:07.111248",
     "status": "completed"
    },
    "tags": []
   },
   "source": [
    "It always gives us a `float`. \n",
    "\n",
    "The `//` operator gives us a result that's rounded down to the next integer."
   ]
  },
  {
   "cell_type": "code",
   "execution_count": 11,
   "id": "9a8165c6",
   "metadata": {
    "collapsed": true,
    "execution": {
     "iopub.execute_input": "2023-04-21T13:38:07.140157Z",
     "iopub.status.busy": "2023-04-21T13:38:07.139741Z",
     "iopub.status.idle": "2023-04-21T13:38:07.146250Z",
     "shell.execute_reply": "2023-04-21T13:38:07.144874Z"
    },
    "papermill": {
     "duration": 0.019877,
     "end_time": "2023-04-21T13:38:07.149255",
     "exception": false,
     "start_time": "2023-04-21T13:38:07.129378",
     "status": "completed"
    },
    "tags": []
   },
   "outputs": [
    {
     "name": "stdout",
     "output_type": "stream",
     "text": [
      "2\n",
      "3\n"
     ]
    }
   ],
   "source": [
    "print(5 // 2)\n",
    "print(6 // 2)"
   ]
  },
  {
   "cell_type": "markdown",
   "id": "3e881ba8",
   "metadata": {
    "papermill": {
     "duration": 0.009729,
     "end_time": "2023-04-21T13:38:07.169472",
     "exception": false,
     "start_time": "2023-04-21T13:38:07.159743",
     "status": "completed"
    },
    "tags": []
   },
   "source": [
    "Can you think of where this would be useful? You'll see an example soon in the coding challenges."
   ]
  },
  {
   "cell_type": "markdown",
   "id": "f74828d2",
   "metadata": {
    "papermill": {
     "duration": 0.009127,
     "end_time": "2023-04-21T13:38:07.187706",
     "exception": false,
     "start_time": "2023-04-21T13:38:07.178579",
     "status": "completed"
    },
    "tags": []
   },
   "source": [
    "### Order of operations\n",
    "\n",
    "The arithmetic we learned in primary school has conventions about the order in which operations are evaluated. Some remember these by a mnemonic such as **PEMDAS** - **P**arentheses, **E**xponents, **M**ultiplication/**D**ivision, **A**ddition/**S**ubtraction.\n",
    "\n",
    "Python follows similar rules about which calculations to perform first. They're mostly pretty intuitive."
   ]
  },
  {
   "cell_type": "code",
   "execution_count": 12,
   "id": "baa873b5",
   "metadata": {
    "collapsed": true,
    "execution": {
     "iopub.execute_input": "2023-04-21T13:38:07.207341Z",
     "iopub.status.busy": "2023-04-21T13:38:07.206888Z",
     "iopub.status.idle": "2023-04-21T13:38:07.215147Z",
     "shell.execute_reply": "2023-04-21T13:38:07.213477Z"
    },
    "papermill": {
     "duration": 0.02152,
     "end_time": "2023-04-21T13:38:07.218224",
     "exception": false,
     "start_time": "2023-04-21T13:38:07.196704",
     "status": "completed"
    },
    "tags": []
   },
   "outputs": [
    {
     "data": {
      "text/plain": [
       "7"
      ]
     },
     "execution_count": 12,
     "metadata": {},
     "output_type": "execute_result"
    }
   ],
   "source": [
    "8 - 3 + 2"
   ]
  },
  {
   "cell_type": "code",
   "execution_count": 13,
   "id": "7d2f5214",
   "metadata": {
    "collapsed": true,
    "execution": {
     "iopub.execute_input": "2023-04-21T13:38:07.240029Z",
     "iopub.status.busy": "2023-04-21T13:38:07.239260Z",
     "iopub.status.idle": "2023-04-21T13:38:07.246037Z",
     "shell.execute_reply": "2023-04-21T13:38:07.245039Z"
    },
    "papermill": {
     "duration": 0.020827,
     "end_time": "2023-04-21T13:38:07.248557",
     "exception": false,
     "start_time": "2023-04-21T13:38:07.227730",
     "status": "completed"
    },
    "tags": []
   },
   "outputs": [
    {
     "data": {
      "text/plain": [
       "5"
      ]
     },
     "execution_count": 13,
     "metadata": {},
     "output_type": "execute_result"
    }
   ],
   "source": [
    "-3 + 4 * 2"
   ]
  },
  {
   "cell_type": "markdown",
   "id": "7afff281",
   "metadata": {
    "papermill": {
     "duration": 0.009546,
     "end_time": "2023-04-21T13:38:07.267874",
     "exception": false,
     "start_time": "2023-04-21T13:38:07.258328",
     "status": "completed"
    },
    "tags": []
   },
   "source": [
    "Sometimes the default order of operations isn't what we want:"
   ]
  },
  {
   "cell_type": "code",
   "execution_count": 14,
   "id": "54beec46",
   "metadata": {
    "collapsed": true,
    "execution": {
     "iopub.execute_input": "2023-04-21T13:38:07.288782Z",
     "iopub.status.busy": "2023-04-21T13:38:07.287984Z",
     "iopub.status.idle": "2023-04-21T13:38:07.294843Z",
     "shell.execute_reply": "2023-04-21T13:38:07.293348Z"
    },
    "papermill": {
     "duration": 0.020543,
     "end_time": "2023-04-21T13:38:07.297736",
     "exception": false,
     "start_time": "2023-04-21T13:38:07.277193",
     "status": "completed"
    },
    "tags": []
   },
   "outputs": [
    {
     "name": "stdout",
     "output_type": "stream",
     "text": [
      "Height in meters = 26.9 ?\n"
     ]
    }
   ],
   "source": [
    "hat_height_cm = 25\n",
    "my_height_cm = 190\n",
    "# How tall am I, in meters, when wearing my hat?\n",
    "total_height_meters = hat_height_cm + my_height_cm / 100\n",
    "print(\"Height in meters =\", total_height_meters, \"?\")"
   ]
  },
  {
   "cell_type": "markdown",
   "id": "be5cf28f",
   "metadata": {
    "papermill": {
     "duration": 0.009382,
     "end_time": "2023-04-21T13:38:07.317320",
     "exception": false,
     "start_time": "2023-04-21T13:38:07.307938",
     "status": "completed"
    },
    "tags": []
   },
   "source": [
    "Parentheses are useful here. You can add them to force Python to evaluate sub-expressions in whatever order you want."
   ]
  },
  {
   "cell_type": "code",
   "execution_count": 15,
   "id": "cd83073b",
   "metadata": {
    "collapsed": true,
    "execution": {
     "iopub.execute_input": "2023-04-21T13:38:07.337668Z",
     "iopub.status.busy": "2023-04-21T13:38:07.337204Z",
     "iopub.status.idle": "2023-04-21T13:38:07.344254Z",
     "shell.execute_reply": "2023-04-21T13:38:07.342415Z"
    },
    "papermill": {
     "duration": 0.020139,
     "end_time": "2023-04-21T13:38:07.346791",
     "exception": false,
     "start_time": "2023-04-21T13:38:07.326652",
     "status": "completed"
    },
    "tags": []
   },
   "outputs": [
    {
     "name": "stdout",
     "output_type": "stream",
     "text": [
      "Height in meters = 2.15\n"
     ]
    }
   ],
   "source": [
    "total_height_meters = (hat_height_cm + my_height_cm) / 100\n",
    "print(\"Height in meters =\", total_height_meters)"
   ]
  },
  {
   "cell_type": "markdown",
   "id": "9ba75c13",
   "metadata": {
    "papermill": {
     "duration": 0.009057,
     "end_time": "2023-04-21T13:38:07.365374",
     "exception": false,
     "start_time": "2023-04-21T13:38:07.356317",
     "status": "completed"
    },
    "tags": []
   },
   "source": [
    "### Builtin functions for working with numbers\n",
    "\n",
    "`min` and `max` return the minimum and maximum of their arguments, respectively..."
   ]
  },
  {
   "cell_type": "code",
   "execution_count": 16,
   "id": "94c062e9",
   "metadata": {
    "collapsed": true,
    "execution": {
     "iopub.execute_input": "2023-04-21T13:38:07.387109Z",
     "iopub.status.busy": "2023-04-21T13:38:07.385760Z",
     "iopub.status.idle": "2023-04-21T13:38:07.392948Z",
     "shell.execute_reply": "2023-04-21T13:38:07.391260Z"
    },
    "papermill": {
     "duration": 0.020652,
     "end_time": "2023-04-21T13:38:07.395563",
     "exception": false,
     "start_time": "2023-04-21T13:38:07.374911",
     "status": "completed"
    },
    "tags": []
   },
   "outputs": [
    {
     "name": "stdout",
     "output_type": "stream",
     "text": [
      "1\n",
      "3\n"
     ]
    }
   ],
   "source": [
    "print(min(1, 2, 3))\n",
    "print(max(1, 2, 3))"
   ]
  },
  {
   "cell_type": "markdown",
   "id": "e1849de2",
   "metadata": {
    "papermill": {
     "duration": 0.009222,
     "end_time": "2023-04-21T13:38:07.415069",
     "exception": false,
     "start_time": "2023-04-21T13:38:07.405847",
     "status": "completed"
    },
    "tags": []
   },
   "source": [
    "`abs` returns the absolute value of an argument:"
   ]
  },
  {
   "cell_type": "code",
   "execution_count": 17,
   "id": "1c6b8aa3",
   "metadata": {
    "collapsed": true,
    "execution": {
     "iopub.execute_input": "2023-04-21T13:38:07.437699Z",
     "iopub.status.busy": "2023-04-21T13:38:07.437211Z",
     "iopub.status.idle": "2023-04-21T13:38:07.442949Z",
     "shell.execute_reply": "2023-04-21T13:38:07.441658Z"
    },
    "papermill": {
     "duration": 0.021556,
     "end_time": "2023-04-21T13:38:07.446658",
     "exception": false,
     "start_time": "2023-04-21T13:38:07.425102",
     "status": "completed"
    },
    "tags": []
   },
   "outputs": [
    {
     "name": "stdout",
     "output_type": "stream",
     "text": [
      "32\n",
      "32\n"
     ]
    }
   ],
   "source": [
    "print(abs(32))\n",
    "print(abs(-32))"
   ]
  },
  {
   "cell_type": "markdown",
   "id": "594c9f70",
   "metadata": {
    "papermill": {
     "duration": 0.009464,
     "end_time": "2023-04-21T13:38:07.466190",
     "exception": false,
     "start_time": "2023-04-21T13:38:07.456726",
     "status": "completed"
    },
    "tags": []
   },
   "source": [
    "In addition to being the names of Python's two main numerical types, `int` and `float` can also be called as functions which convert their arguments to the corresponding type:"
   ]
  },
  {
   "cell_type": "code",
   "execution_count": 18,
   "id": "63a99986",
   "metadata": {
    "collapsed": true,
    "execution": {
     "iopub.execute_input": "2023-04-21T13:38:07.488158Z",
     "iopub.status.busy": "2023-04-21T13:38:07.487004Z",
     "iopub.status.idle": "2023-04-21T13:38:07.494197Z",
     "shell.execute_reply": "2023-04-21T13:38:07.492834Z"
    },
    "papermill": {
     "duration": 0.020825,
     "end_time": "2023-04-21T13:38:07.496886",
     "exception": false,
     "start_time": "2023-04-21T13:38:07.476061",
     "status": "completed"
    },
    "tags": []
   },
   "outputs": [
    {
     "name": "stdout",
     "output_type": "stream",
     "text": [
      "10.0\n",
      "3\n",
      "808\n"
     ]
    }
   ],
   "source": [
    "print(float(10))\n",
    "print(int(3.33))\n",
    "# They can even be called on strings!\n",
    "print(int('807') + 1)"
   ]
  },
  {
   "cell_type": "markdown",
   "id": "81bc803f",
   "metadata": {
    "papermill": {
     "duration": 0.009895,
     "end_time": "2023-04-21T13:38:07.517185",
     "exception": false,
     "start_time": "2023-04-21T13:38:07.507290",
     "status": "completed"
    },
    "tags": []
   },
   "source": [
    "# Your Turn\n",
    "\n",
    "Now is your chance. Try your **[first Python programming exercise](https://www.kaggle.com/kernels/fork/1275163)**!"
   ]
  },
  {
   "cell_type": "markdown",
   "id": "a8d9770e",
   "metadata": {
    "papermill": {
     "duration": 0.009446,
     "end_time": "2023-04-21T13:38:07.536569",
     "exception": false,
     "start_time": "2023-04-21T13:38:07.527123",
     "status": "completed"
    },
    "tags": []
   },
   "source": [
    "---\n",
    "\n",
    "\n",
    "\n",
    "\n",
    "*Have questions or comments? Visit the [course discussion forum](https://www.kaggle.com/learn/python/discussion) to chat with other learners.*"
   ]
  }
 ],
 "metadata": {
  "anaconda-cloud": {},
  "celltoolbar": "Edit Metadata",
  "kernelspec": {
   "display_name": "Python 3",
   "language": "python",
   "name": "python3"
  },
  "language_info": {
   "codemirror_mode": {
    "name": "ipython",
    "version": 3
   },
   "file_extension": ".py",
   "mimetype": "text/x-python",
   "name": "python",
   "nbconvert_exporter": "python",
   "pygments_lexer": "ipython3",
   "version": "3.7.12"
  },
  "learntools_metadata": {
   "lesson_index": 0,
   "type": "tutorial"
  },
  "papermill": {
   "default_parameters": {},
   "duration": 13.20834,
   "end_time": "2023-04-21T13:38:08.269547",
   "environment_variables": {},
   "exception": null,
   "input_path": "__notebook__.ipynb",
   "output_path": "__notebook__.ipynb",
   "parameters": {},
   "start_time": "2023-04-21T13:37:55.061207",
   "version": "2.4.0"
  }
 },
 "nbformat": 4,
 "nbformat_minor": 5
}
