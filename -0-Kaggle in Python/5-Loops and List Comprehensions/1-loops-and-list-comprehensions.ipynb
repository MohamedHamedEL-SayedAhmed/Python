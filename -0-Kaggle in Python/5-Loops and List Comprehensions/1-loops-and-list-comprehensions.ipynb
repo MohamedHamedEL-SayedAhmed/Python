{
 "cells": [
  {
   "cell_type": "markdown",
   "id": "c12a21de",
   "metadata": {
    "papermill": {
     "duration": 0.007468,
     "end_time": "2023-04-21T13:38:20.036493",
     "exception": false,
     "start_time": "2023-04-21T13:38:20.029025",
     "status": "completed"
    },
    "tags": []
   },
   "source": [
    "# Loops\n",
    "\n",
    "Loops are a way to repeatedly execute some code. Here's an example:"
   ]
  },
  {
   "cell_type": "code",
   "execution_count": 1,
   "id": "ae076e95",
   "metadata": {
    "execution": {
     "iopub.execute_input": "2023-04-21T13:38:20.051430Z",
     "iopub.status.busy": "2023-04-21T13:38:20.050854Z",
     "iopub.status.idle": "2023-04-21T13:38:20.066394Z",
     "shell.execute_reply": "2023-04-21T13:38:20.065301Z"
    },
    "papermill": {
     "duration": 0.025629,
     "end_time": "2023-04-21T13:38:20.068822",
     "exception": false,
     "start_time": "2023-04-21T13:38:20.043193",
     "status": "completed"
    },
    "tags": []
   },
   "outputs": [
    {
     "name": "stdout",
     "output_type": "stream",
     "text": [
      "Mercury Venus Earth Mars Jupiter Saturn Uranus Neptune "
     ]
    }
   ],
   "source": [
    "planets = ['Mercury', 'Venus', 'Earth', 'Mars', 'Jupiter', 'Saturn', 'Uranus', 'Neptune']\n",
    "for planet in planets:\n",
    "    print(planet, end=' ') # print all on same line"
   ]
  },
  {
   "cell_type": "markdown",
   "id": "89c1b54d",
   "metadata": {
    "papermill": {
     "duration": 0.006056,
     "end_time": "2023-04-21T13:38:20.081325",
     "exception": false,
     "start_time": "2023-04-21T13:38:20.075269",
     "status": "completed"
    },
    "tags": []
   },
   "source": [
    "The ``for`` loop specifies \n",
    "- the variable name to use (in this case, `planet`)\n",
    "- the set of values to loop over (in this case, `planets`)\n",
    "\n",
    "You use the word \"``in``\" to link them together.\n",
    "\n",
    "The object to the right of the \"``in``\" can be any object that supports iteration. Basically, if it can be thought of as a group of things, you can probably loop over it. In addition to lists, we can iterate over the elements of a tuple:"
   ]
  },
  {
   "cell_type": "code",
   "execution_count": 2,
   "id": "a307842b",
   "metadata": {
    "execution": {
     "iopub.execute_input": "2023-04-21T13:38:20.097247Z",
     "iopub.status.busy": "2023-04-21T13:38:20.096130Z",
     "iopub.status.idle": "2023-04-21T13:38:20.104735Z",
     "shell.execute_reply": "2023-04-21T13:38:20.103771Z"
    },
    "papermill": {
     "duration": 0.018366,
     "end_time": "2023-04-21T13:38:20.106944",
     "exception": false,
     "start_time": "2023-04-21T13:38:20.088578",
     "status": "completed"
    },
    "tags": []
   },
   "outputs": [
    {
     "data": {
      "text/plain": [
       "360"
      ]
     },
     "execution_count": 2,
     "metadata": {},
     "output_type": "execute_result"
    }
   ],
   "source": [
    "multiplicands = (2, 2, 2, 3, 3, 5)\n",
    "product = 1\n",
    "for mult in multiplicands:\n",
    "    product = product * mult\n",
    "product"
   ]
  },
  {
   "cell_type": "markdown",
   "id": "c2d8ab62",
   "metadata": {
    "papermill": {
     "duration": 0.006092,
     "end_time": "2023-04-21T13:38:20.119619",
     "exception": false,
     "start_time": "2023-04-21T13:38:20.113527",
     "status": "completed"
    },
    "tags": []
   },
   "source": [
    "You can even loop through each character in a string:"
   ]
  },
  {
   "cell_type": "code",
   "execution_count": 3,
   "id": "9cdd65b6",
   "metadata": {
    "execution": {
     "iopub.execute_input": "2023-04-21T13:38:20.135173Z",
     "iopub.status.busy": "2023-04-21T13:38:20.133900Z",
     "iopub.status.idle": "2023-04-21T13:38:20.140967Z",
     "shell.execute_reply": "2023-04-21T13:38:20.139602Z"
    },
    "papermill": {
     "duration": 0.017415,
     "end_time": "2023-04-21T13:38:20.143416",
     "exception": false,
     "start_time": "2023-04-21T13:38:20.126001",
     "status": "completed"
    },
    "tags": []
   },
   "outputs": [
    {
     "name": "stdout",
     "output_type": "stream",
     "text": [
      "HELLO"
     ]
    }
   ],
   "source": [
    "s = 'steganograpHy is the practicE of conceaLing a file, message, image, or video within another fiLe, message, image, Or video.'\n",
    "msg = ''\n",
    "# print all the uppercase letters in s, one at a time\n",
    "for char in s:\n",
    "    if char.isupper():\n",
    "        print(char, end='')        "
   ]
  },
  {
   "cell_type": "markdown",
   "id": "e3601bc4",
   "metadata": {
    "papermill": {
     "duration": 0.006196,
     "end_time": "2023-04-21T13:38:20.156194",
     "exception": false,
     "start_time": "2023-04-21T13:38:20.149998",
     "status": "completed"
    },
    "tags": []
   },
   "source": [
    "### range()\n",
    "\n",
    "`range()` is a function that returns a sequence of numbers. It turns out to be very useful for writing loops.\n",
    "\n",
    "For example, if we want to repeat some action 5 times:"
   ]
  },
  {
   "cell_type": "code",
   "execution_count": 4,
   "id": "0e03d5c0",
   "metadata": {
    "execution": {
     "iopub.execute_input": "2023-04-21T13:38:20.171210Z",
     "iopub.status.busy": "2023-04-21T13:38:20.170546Z",
     "iopub.status.idle": "2023-04-21T13:38:20.176610Z",
     "shell.execute_reply": "2023-04-21T13:38:20.175194Z"
    },
    "papermill": {
     "duration": 0.016378,
     "end_time": "2023-04-21T13:38:20.179099",
     "exception": false,
     "start_time": "2023-04-21T13:38:20.162721",
     "status": "completed"
    },
    "tags": []
   },
   "outputs": [
    {
     "name": "stdout",
     "output_type": "stream",
     "text": [
      "Doing important work. i = 0\n",
      "Doing important work. i = 1\n",
      "Doing important work. i = 2\n",
      "Doing important work. i = 3\n",
      "Doing important work. i = 4\n"
     ]
    }
   ],
   "source": [
    "for i in range(5):\n",
    "    print(\"Doing important work. i =\", i)"
   ]
  },
  {
   "cell_type": "markdown",
   "id": "aa4753e3",
   "metadata": {
    "papermill": {
     "duration": 0.006429,
     "end_time": "2023-04-21T13:38:20.192185",
     "exception": false,
     "start_time": "2023-04-21T13:38:20.185756",
     "status": "completed"
    },
    "tags": []
   },
   "source": [
    "## ``while`` loops\n",
    "The other type of loop in Python is a ``while`` loop, which iterates until some condition is met:"
   ]
  },
  {
   "cell_type": "code",
   "execution_count": 5,
   "id": "b4a5a663",
   "metadata": {
    "execution": {
     "iopub.execute_input": "2023-04-21T13:38:20.207418Z",
     "iopub.status.busy": "2023-04-21T13:38:20.206985Z",
     "iopub.status.idle": "2023-04-21T13:38:20.213127Z",
     "shell.execute_reply": "2023-04-21T13:38:20.211922Z"
    },
    "papermill": {
     "duration": 0.016774,
     "end_time": "2023-04-21T13:38:20.215591",
     "exception": false,
     "start_time": "2023-04-21T13:38:20.198817",
     "status": "completed"
    },
    "tags": []
   },
   "outputs": [
    {
     "name": "stdout",
     "output_type": "stream",
     "text": [
      "0 1 2 3 4 5 6 7 8 9 "
     ]
    }
   ],
   "source": [
    "i = 0\n",
    "while i < 10:\n",
    "    print(i, end=' ')\n",
    "    i += 1 # increase the value of i by 1"
   ]
  },
  {
   "cell_type": "markdown",
   "id": "e8c14ea1",
   "metadata": {
    "papermill": {
     "duration": 0.006512,
     "end_time": "2023-04-21T13:38:20.230170",
     "exception": false,
     "start_time": "2023-04-21T13:38:20.223658",
     "status": "completed"
    },
    "tags": []
   },
   "source": [
    "The argument of the ``while`` loop is evaluated as a boolean statement, and the loop is executed until the statement evaluates to False."
   ]
  },
  {
   "cell_type": "markdown",
   "id": "eb3b6e84",
   "metadata": {
    "papermill": {
     "duration": 0.006399,
     "end_time": "2023-04-21T13:38:20.243280",
     "exception": false,
     "start_time": "2023-04-21T13:38:20.236881",
     "status": "completed"
    },
    "tags": []
   },
   "source": [
    "# List comprehensions\n",
    "\n",
    "List comprehensions are one of Python's most beloved and unique features. The easiest way to understand them is probably to just look at a few examples:"
   ]
  },
  {
   "cell_type": "code",
   "execution_count": 6,
   "id": "868b05e8",
   "metadata": {
    "execution": {
     "iopub.execute_input": "2023-04-21T13:38:20.259243Z",
     "iopub.status.busy": "2023-04-21T13:38:20.258169Z",
     "iopub.status.idle": "2023-04-21T13:38:20.265317Z",
     "shell.execute_reply": "2023-04-21T13:38:20.264442Z"
    },
    "papermill": {
     "duration": 0.017482,
     "end_time": "2023-04-21T13:38:20.267583",
     "exception": false,
     "start_time": "2023-04-21T13:38:20.250101",
     "status": "completed"
    },
    "tags": []
   },
   "outputs": [
    {
     "data": {
      "text/plain": [
       "[0, 1, 4, 9, 16, 25, 36, 49, 64, 81]"
      ]
     },
     "execution_count": 6,
     "metadata": {},
     "output_type": "execute_result"
    }
   ],
   "source": [
    "squares = [n**2 for n in range(10)]\n",
    "squares"
   ]
  },
  {
   "cell_type": "markdown",
   "id": "101443ed",
   "metadata": {
    "papermill": {
     "duration": 0.006633,
     "end_time": "2023-04-21T13:38:20.281814",
     "exception": false,
     "start_time": "2023-04-21T13:38:20.275181",
     "status": "completed"
    },
    "tags": []
   },
   "source": [
    "Here's how we would do the same thing without a list comprehension:"
   ]
  },
  {
   "cell_type": "code",
   "execution_count": 7,
   "id": "5e7ee154",
   "metadata": {
    "execution": {
     "iopub.execute_input": "2023-04-21T13:38:20.298003Z",
     "iopub.status.busy": "2023-04-21T13:38:20.297086Z",
     "iopub.status.idle": "2023-04-21T13:38:20.305149Z",
     "shell.execute_reply": "2023-04-21T13:38:20.304214Z"
    },
    "papermill": {
     "duration": 0.018783,
     "end_time": "2023-04-21T13:38:20.307575",
     "exception": false,
     "start_time": "2023-04-21T13:38:20.288792",
     "status": "completed"
    },
    "tags": []
   },
   "outputs": [
    {
     "data": {
      "text/plain": [
       "[0, 1, 4, 9, 16, 25, 36, 49, 64, 81]"
      ]
     },
     "execution_count": 7,
     "metadata": {},
     "output_type": "execute_result"
    }
   ],
   "source": [
    "squares = []\n",
    "for n in range(10):\n",
    "    squares.append(n**2)\n",
    "squares"
   ]
  },
  {
   "cell_type": "markdown",
   "id": "8d8fa142",
   "metadata": {
    "papermill": {
     "duration": 0.006835,
     "end_time": "2023-04-21T13:38:20.321626",
     "exception": false,
     "start_time": "2023-04-21T13:38:20.314791",
     "status": "completed"
    },
    "tags": []
   },
   "source": [
    "We can also add an `if` condition:"
   ]
  },
  {
   "cell_type": "code",
   "execution_count": 8,
   "id": "fd1a5474",
   "metadata": {
    "execution": {
     "iopub.execute_input": "2023-04-21T13:38:20.337814Z",
     "iopub.status.busy": "2023-04-21T13:38:20.337411Z",
     "iopub.status.idle": "2023-04-21T13:38:20.345384Z",
     "shell.execute_reply": "2023-04-21T13:38:20.344077Z"
    },
    "papermill": {
     "duration": 0.019176,
     "end_time": "2023-04-21T13:38:20.347951",
     "exception": false,
     "start_time": "2023-04-21T13:38:20.328775",
     "status": "completed"
    },
    "tags": []
   },
   "outputs": [
    {
     "data": {
      "text/plain": [
       "['Venus', 'Earth', 'Mars']"
      ]
     },
     "execution_count": 8,
     "metadata": {},
     "output_type": "execute_result"
    }
   ],
   "source": [
    "short_planets = [planet for planet in planets if len(planet) < 6]\n",
    "short_planets"
   ]
  },
  {
   "cell_type": "markdown",
   "id": "571648fb",
   "metadata": {
    "papermill": {
     "duration": 0.007067,
     "end_time": "2023-04-21T13:38:20.362491",
     "exception": false,
     "start_time": "2023-04-21T13:38:20.355424",
     "status": "completed"
    },
    "tags": []
   },
   "source": [
    "(If you're familiar with SQL, you might think of this as being like a \"WHERE\" clause)\n",
    "\n",
    "Here's an example of filtering with an `if` condition *and* applying some transformation to the loop variable:"
   ]
  },
  {
   "cell_type": "code",
   "execution_count": 9,
   "id": "ee9e3e63",
   "metadata": {
    "execution": {
     "iopub.execute_input": "2023-04-21T13:38:20.379638Z",
     "iopub.status.busy": "2023-04-21T13:38:20.378763Z",
     "iopub.status.idle": "2023-04-21T13:38:20.386774Z",
     "shell.execute_reply": "2023-04-21T13:38:20.385441Z"
    },
    "papermill": {
     "duration": 0.019257,
     "end_time": "2023-04-21T13:38:20.389212",
     "exception": false,
     "start_time": "2023-04-21T13:38:20.369955",
     "status": "completed"
    },
    "tags": []
   },
   "outputs": [
    {
     "data": {
      "text/plain": [
       "['VENUS!', 'EARTH!', 'MARS!']"
      ]
     },
     "execution_count": 9,
     "metadata": {},
     "output_type": "execute_result"
    }
   ],
   "source": [
    "# str.upper() returns an all-caps version of a string\n",
    "loud_short_planets = [planet.upper() + '!' for planet in planets if len(planet) < 6]\n",
    "loud_short_planets"
   ]
  },
  {
   "cell_type": "markdown",
   "id": "2405f1b2",
   "metadata": {
    "papermill": {
     "duration": 0.007029,
     "end_time": "2023-04-21T13:38:20.403800",
     "exception": false,
     "start_time": "2023-04-21T13:38:20.396771",
     "status": "completed"
    },
    "tags": []
   },
   "source": [
    "People usually write these on a single line, but you might find the structure clearer when it's split up over 3 lines:"
   ]
  },
  {
   "cell_type": "code",
   "execution_count": 10,
   "id": "5bc00919",
   "metadata": {
    "execution": {
     "iopub.execute_input": "2023-04-21T13:38:20.420318Z",
     "iopub.status.busy": "2023-04-21T13:38:20.419893Z",
     "iopub.status.idle": "2023-04-21T13:38:20.427003Z",
     "shell.execute_reply": "2023-04-21T13:38:20.426114Z"
    },
    "papermill": {
     "duration": 0.018227,
     "end_time": "2023-04-21T13:38:20.429381",
     "exception": false,
     "start_time": "2023-04-21T13:38:20.411154",
     "status": "completed"
    },
    "tags": []
   },
   "outputs": [
    {
     "data": {
      "text/plain": [
       "['VENUS!', 'EARTH!', 'MARS!']"
      ]
     },
     "execution_count": 10,
     "metadata": {},
     "output_type": "execute_result"
    }
   ],
   "source": [
    "[\n",
    "    planet.upper() + '!' \n",
    "    for planet in planets \n",
    "    if len(planet) < 6\n",
    "]"
   ]
  },
  {
   "cell_type": "markdown",
   "id": "94901b4a",
   "metadata": {
    "papermill": {
     "duration": 0.007462,
     "end_time": "2023-04-21T13:38:20.444366",
     "exception": false,
     "start_time": "2023-04-21T13:38:20.436904",
     "status": "completed"
    },
    "tags": []
   },
   "source": [
    "(Continuing the SQL analogy, you could think of these three lines as SELECT, FROM, and WHERE)\n",
    "\n",
    "The expression on the left doesn't technically have to involve the loop variable (though it'd be pretty unusual for it not to). What do you think the expression below will evaluate to? Press the 'output' button to check. "
   ]
  },
  {
   "cell_type": "code",
   "execution_count": 11,
   "id": "8824ec46",
   "metadata": {
    "_kg_hide-output": true,
    "execution": {
     "iopub.execute_input": "2023-04-21T13:38:20.461291Z",
     "iopub.status.busy": "2023-04-21T13:38:20.460836Z",
     "iopub.status.idle": "2023-04-21T13:38:20.467918Z",
     "shell.execute_reply": "2023-04-21T13:38:20.466819Z"
    },
    "papermill": {
     "duration": 0.01847,
     "end_time": "2023-04-21T13:38:20.470389",
     "exception": false,
     "start_time": "2023-04-21T13:38:20.451919",
     "status": "completed"
    },
    "tags": []
   },
   "outputs": [
    {
     "data": {
      "text/plain": [
       "[32, 32, 32, 32, 32, 32, 32, 32]"
      ]
     },
     "execution_count": 11,
     "metadata": {},
     "output_type": "execute_result"
    }
   ],
   "source": [
    "[32 for planet in planets]"
   ]
  },
  {
   "cell_type": "markdown",
   "id": "040c6d8b",
   "metadata": {
    "papermill": {
     "duration": 0.007517,
     "end_time": "2023-04-21T13:38:20.485847",
     "exception": false,
     "start_time": "2023-04-21T13:38:20.478330",
     "status": "completed"
    },
    "tags": []
   },
   "source": [
    "List comprehensions combined with functions like `min`, `max`, and `sum` can lead to impressive one-line solutions for problems that would otherwise require several lines of code. \n",
    "\n",
    "For example, compare the following two cells of code that do the same thing.\n"
   ]
  },
  {
   "cell_type": "code",
   "execution_count": 12,
   "id": "e3ef27d5",
   "metadata": {
    "collapsed": true,
    "execution": {
     "iopub.execute_input": "2023-04-21T13:38:20.503650Z",
     "iopub.status.busy": "2023-04-21T13:38:20.502701Z",
     "iopub.status.idle": "2023-04-21T13:38:20.508722Z",
     "shell.execute_reply": "2023-04-21T13:38:20.507702Z"
    },
    "papermill": {
     "duration": 0.017423,
     "end_time": "2023-04-21T13:38:20.511067",
     "exception": false,
     "start_time": "2023-04-21T13:38:20.493644",
     "status": "completed"
    },
    "tags": []
   },
   "outputs": [],
   "source": [
    "def count_negatives(nums):\n",
    "    \"\"\"Return the number of negative numbers in the given list.\n",
    "    \n",
    "    >>> count_negatives([5, -1, -2, 0, 3])\n",
    "    2\n",
    "    \"\"\"\n",
    "    n_negative = 0\n",
    "    for num in nums:\n",
    "        if num < 0:\n",
    "            n_negative = n_negative + 1\n",
    "    return n_negative"
   ]
  },
  {
   "cell_type": "markdown",
   "id": "50ccb27a",
   "metadata": {
    "papermill": {
     "duration": 0.007839,
     "end_time": "2023-04-21T13:38:20.527152",
     "exception": false,
     "start_time": "2023-04-21T13:38:20.519313",
     "status": "completed"
    },
    "tags": []
   },
   "source": [
    "Here's a solution using a list comprehension:"
   ]
  },
  {
   "cell_type": "code",
   "execution_count": 13,
   "id": "1e411003",
   "metadata": {
    "collapsed": true,
    "execution": {
     "iopub.execute_input": "2023-04-21T13:38:20.545075Z",
     "iopub.status.busy": "2023-04-21T13:38:20.544269Z",
     "iopub.status.idle": "2023-04-21T13:38:20.550280Z",
     "shell.execute_reply": "2023-04-21T13:38:20.549035Z"
    },
    "papermill": {
     "duration": 0.01778,
     "end_time": "2023-04-21T13:38:20.552724",
     "exception": false,
     "start_time": "2023-04-21T13:38:20.534944",
     "status": "completed"
    },
    "tags": []
   },
   "outputs": [],
   "source": [
    "def count_negatives(nums):\n",
    "    return len([num for num in nums if num < 0])"
   ]
  },
  {
   "cell_type": "markdown",
   "id": "cd4c612f",
   "metadata": {
    "papermill": {
     "duration": 0.007479,
     "end_time": "2023-04-21T13:38:20.568076",
     "exception": false,
     "start_time": "2023-04-21T13:38:20.560597",
     "status": "completed"
    },
    "tags": []
   },
   "source": [
    "Much better, right?\n",
    "\n",
    "Well if all we care about is minimizing the length of our code, this third solution is better still!"
   ]
  },
  {
   "cell_type": "code",
   "execution_count": 14,
   "id": "2967c28b",
   "metadata": {
    "collapsed": true,
    "execution": {
     "iopub.execute_input": "2023-04-21T13:38:20.585630Z",
     "iopub.status.busy": "2023-04-21T13:38:20.585197Z",
     "iopub.status.idle": "2023-04-21T13:38:20.590482Z",
     "shell.execute_reply": "2023-04-21T13:38:20.589298Z"
    },
    "papermill": {
     "duration": 0.017027,
     "end_time": "2023-04-21T13:38:20.592936",
     "exception": false,
     "start_time": "2023-04-21T13:38:20.575909",
     "status": "completed"
    },
    "tags": []
   },
   "outputs": [],
   "source": [
    "def count_negatives(nums):\n",
    "    # Reminder: in the \"booleans and conditionals\" exercises, we learned about a quirk of \n",
    "    # Python where it calculates something like True + True + False + True to be equal to 3.\n",
    "    return sum([num < 0 for num in nums])"
   ]
  },
  {
   "cell_type": "markdown",
   "id": "60e19971",
   "metadata": {
    "papermill": {
     "duration": 0.007712,
     "end_time": "2023-04-21T13:38:20.608579",
     "exception": false,
     "start_time": "2023-04-21T13:38:20.600867",
     "status": "completed"
    },
    "tags": []
   },
   "source": [
    "Which of these solutions is the \"best\" is entirely subjective. Solving a problem with less code is always nice, but it's worth keeping in mind the following lines from [The Zen of Python](https://en.wikipedia.org/wiki/Zen_of_Python):\n",
    "\n",
    "> Readability counts.  \n",
    "> Explicit is better than implicit.\n",
    "\n",
    "So, use these tools to make compact readable programs. But when you have to choose, favor code that is easy for others to understand."
   ]
  },
  {
   "cell_type": "markdown",
   "id": "d53f26b5",
   "metadata": {
    "papermill": {
     "duration": 0.007512,
     "end_time": "2023-04-21T13:38:20.623954",
     "exception": false,
     "start_time": "2023-04-21T13:38:20.616442",
     "status": "completed"
    },
    "tags": []
   },
   "source": [
    "# Your Turn\n",
    "\n",
    "You know what's next -- we have some **[fun coding challenges](https://www.kaggle.com/kernels/fork/1275177)** for you! This next set of coding problems is shorter, so try it now."
   ]
  },
  {
   "cell_type": "markdown",
   "id": "a4280236",
   "metadata": {
    "papermill": {
     "duration": 0.007488,
     "end_time": "2023-04-21T13:38:20.639386",
     "exception": false,
     "start_time": "2023-04-21T13:38:20.631898",
     "status": "completed"
    },
    "tags": []
   },
   "source": [
    "---\n",
    "\n",
    "\n",
    "\n",
    "\n",
    "*Have questions or comments? Visit the [course discussion forum](https://www.kaggle.com/learn/python/discussion) to chat with other learners.*"
   ]
  }
 ],
 "metadata": {
  "anaconda-cloud": {},
  "kernelspec": {
   "display_name": "Python 3",
   "language": "python",
   "name": "python3"
  },
  "language_info": {
   "codemirror_mode": {
    "name": "ipython",
    "version": 3
   },
   "file_extension": ".py",
   "mimetype": "text/x-python",
   "name": "python",
   "nbconvert_exporter": "python",
   "pygments_lexer": "ipython3",
   "version": "3.7.12"
  },
  "learntools_metadata": {
   "lesson_index": 4,
   "type": "tutorial"
  },
  "papermill": {
   "default_parameters": {},
   "duration": 11.208422,
   "end_time": "2023-04-21T13:38:21.269576",
   "environment_variables": {},
   "exception": null,
   "input_path": "__notebook__.ipynb",
   "output_path": "__notebook__.ipynb",
   "parameters": {},
   "start_time": "2023-04-21T13:38:10.061154",
   "version": "2.4.0"
  }
 },
 "nbformat": 4,
 "nbformat_minor": 5
}
