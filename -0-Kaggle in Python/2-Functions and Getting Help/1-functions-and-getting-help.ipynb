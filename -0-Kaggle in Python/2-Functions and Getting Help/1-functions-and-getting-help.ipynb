{
 "cells": [
  {
   "cell_type": "markdown",
   "id": "8a195918",
   "metadata": {
    "papermill": {
     "duration": 0.009306,
     "end_time": "2023-04-21T13:38:25.140967",
     "exception": false,
     "start_time": "2023-04-21T13:38:25.131661",
     "status": "completed"
    },
    "tags": []
   },
   "source": [
    "You've already seen and used functions such as `print` and `abs`. But Python has many more functions, and defining your own functions is a big part of python programming.\n",
    "\n",
    "In this lesson, you will learn more about using and defining functions."
   ]
  },
  {
   "cell_type": "markdown",
   "id": "f03ed60d",
   "metadata": {
    "papermill": {
     "duration": 0.008143,
     "end_time": "2023-04-21T13:38:25.157946",
     "exception": false,
     "start_time": "2023-04-21T13:38:25.149803",
     "status": "completed"
    },
    "tags": []
   },
   "source": [
    "# Getting Help\n",
    "\n",
    "You saw the `abs` function in the previous tutorial, but what if you've forgotten what it does?\n",
    "\n",
    "The `help()` function is possibly the most important Python function you can learn. If you can remember how to use `help()`, you hold the key to understanding most other functions.\n",
    "\n",
    "Here is an example:"
   ]
  },
  {
   "cell_type": "code",
   "execution_count": 1,
   "id": "8cbc11c3",
   "metadata": {
    "execution": {
     "iopub.execute_input": "2023-04-21T13:38:25.176668Z",
     "iopub.status.busy": "2023-04-21T13:38:25.175772Z",
     "iopub.status.idle": "2023-04-21T13:38:25.190481Z",
     "shell.execute_reply": "2023-04-21T13:38:25.189024Z"
    },
    "papermill": {
     "duration": 0.028755,
     "end_time": "2023-04-21T13:38:25.194415",
     "exception": false,
     "start_time": "2023-04-21T13:38:25.165660",
     "status": "completed"
    },
    "tags": []
   },
   "outputs": [
    {
     "name": "stdout",
     "output_type": "stream",
     "text": [
      "Help on built-in function round in module builtins:\n",
      "\n",
      "round(number, ndigits=None)\n",
      "    Round a number to a given precision in decimal digits.\n",
      "    \n",
      "    The return value is an integer if ndigits is omitted or None.  Otherwise\n",
      "    the return value has the same type as the number.  ndigits may be negative.\n",
      "\n"
     ]
    }
   ],
   "source": [
    "help(round)"
   ]
  },
  {
   "cell_type": "markdown",
   "id": "ff26af7c",
   "metadata": {
    "papermill": {
     "duration": 0.008587,
     "end_time": "2023-04-21T13:38:25.210654",
     "exception": false,
     "start_time": "2023-04-21T13:38:25.202067",
     "status": "completed"
    },
    "tags": []
   },
   "source": [
    "`help()` displays two things:\n",
    "\n",
    "1. the header of that function `round(number, ndigits=None)`. In this case, this tells us that `round()` takes an argument we can describe as `number`. Additionally, we can optionally give a separate argument which could be described as `ndigits`.\n",
    "2. A brief English description of what the function does. "
   ]
  },
  {
   "cell_type": "markdown",
   "id": "8eb9a9ed",
   "metadata": {
    "papermill": {
     "duration": 0.007186,
     "end_time": "2023-04-21T13:38:25.226270",
     "exception": false,
     "start_time": "2023-04-21T13:38:25.219084",
     "status": "completed"
    },
    "tags": []
   },
   "source": [
    "**Common pitfall:** when you're looking up a function, remember to pass in the name of the function itself, and not the result of calling that function. \n",
    "\n",
    "What happens if we invoke help on a *call* to the function `round()`? Unhide the output of the cell below to see."
   ]
  },
  {
   "cell_type": "code",
   "execution_count": 2,
   "id": "0e94bd45",
   "metadata": {
    "_kg_hide-output": true,
    "collapsed": true,
    "execution": {
     "iopub.execute_input": "2023-04-21T13:38:25.245082Z",
     "iopub.status.busy": "2023-04-21T13:38:25.244575Z",
     "iopub.status.idle": "2023-04-21T13:38:25.283110Z",
     "shell.execute_reply": "2023-04-21T13:38:25.281718Z"
    },
    "papermill": {
     "duration": 0.052323,
     "end_time": "2023-04-21T13:38:25.286888",
     "exception": false,
     "start_time": "2023-04-21T13:38:25.234565",
     "status": "completed"
    },
    "tags": []
   },
   "outputs": [
    {
     "name": "stdout",
     "output_type": "stream",
     "text": [
      "Help on int object:\n",
      "\n",
      "class int(object)\n",
      " |  int([x]) -> integer\n",
      " |  int(x, base=10) -> integer\n",
      " |  \n",
      " |  Convert a number or string to an integer, or return 0 if no arguments\n",
      " |  are given.  If x is a number, return x.__int__().  For floating point\n",
      " |  numbers, this truncates towards zero.\n",
      " |  \n",
      " |  If x is not a number or if base is given, then x must be a string,\n",
      " |  bytes, or bytearray instance representing an integer literal in the\n",
      " |  given base.  The literal can be preceded by '+' or '-' and be surrounded\n",
      " |  by whitespace.  The base defaults to 10.  Valid bases are 0 and 2-36.\n",
      " |  Base 0 means to interpret the base from the string as an integer literal.\n",
      " |  >>> int('0b100', base=0)\n",
      " |  4\n",
      " |  \n",
      " |  Methods defined here:\n",
      " |  \n",
      " |  __abs__(self, /)\n",
      " |      abs(self)\n",
      " |  \n",
      " |  __add__(self, value, /)\n",
      " |      Return self+value.\n",
      " |  \n",
      " |  __and__(self, value, /)\n",
      " |      Return self&value.\n",
      " |  \n",
      " |  __bool__(self, /)\n",
      " |      self != 0\n",
      " |  \n",
      " |  __ceil__(...)\n",
      " |      Ceiling of an Integral returns itself.\n",
      " |  \n",
      " |  __divmod__(self, value, /)\n",
      " |      Return divmod(self, value).\n",
      " |  \n",
      " |  __eq__(self, value, /)\n",
      " |      Return self==value.\n",
      " |  \n",
      " |  __float__(self, /)\n",
      " |      float(self)\n",
      " |  \n",
      " |  __floor__(...)\n",
      " |      Flooring an Integral returns itself.\n",
      " |  \n",
      " |  __floordiv__(self, value, /)\n",
      " |      Return self//value.\n",
      " |  \n",
      " |  __format__(self, format_spec, /)\n",
      " |      Default object formatter.\n",
      " |  \n",
      " |  __ge__(self, value, /)\n",
      " |      Return self>=value.\n",
      " |  \n",
      " |  __getattribute__(self, name, /)\n",
      " |      Return getattr(self, name).\n",
      " |  \n",
      " |  __getnewargs__(self, /)\n",
      " |  \n",
      " |  __gt__(self, value, /)\n",
      " |      Return self>value.\n",
      " |  \n",
      " |  __hash__(self, /)\n",
      " |      Return hash(self).\n",
      " |  \n",
      " |  __index__(self, /)\n",
      " |      Return self converted to an integer, if self is suitable for use as an index into a list.\n",
      " |  \n",
      " |  __int__(self, /)\n",
      " |      int(self)\n",
      " |  \n",
      " |  __invert__(self, /)\n",
      " |      ~self\n",
      " |  \n",
      " |  __le__(self, value, /)\n",
      " |      Return self<=value.\n",
      " |  \n",
      " |  __lshift__(self, value, /)\n",
      " |      Return self<<value.\n",
      " |  \n",
      " |  __lt__(self, value, /)\n",
      " |      Return self<value.\n",
      " |  \n",
      " |  __mod__(self, value, /)\n",
      " |      Return self%value.\n",
      " |  \n",
      " |  __mul__(self, value, /)\n",
      " |      Return self*value.\n",
      " |  \n",
      " |  __ne__(self, value, /)\n",
      " |      Return self!=value.\n",
      " |  \n",
      " |  __neg__(self, /)\n",
      " |      -self\n",
      " |  \n",
      " |  __or__(self, value, /)\n",
      " |      Return self|value.\n",
      " |  \n",
      " |  __pos__(self, /)\n",
      " |      +self\n",
      " |  \n",
      " |  __pow__(self, value, mod=None, /)\n",
      " |      Return pow(self, value, mod).\n",
      " |  \n",
      " |  __radd__(self, value, /)\n",
      " |      Return value+self.\n",
      " |  \n",
      " |  __rand__(self, value, /)\n",
      " |      Return value&self.\n",
      " |  \n",
      " |  __rdivmod__(self, value, /)\n",
      " |      Return divmod(value, self).\n",
      " |  \n",
      " |  __repr__(self, /)\n",
      " |      Return repr(self).\n",
      " |  \n",
      " |  __rfloordiv__(self, value, /)\n",
      " |      Return value//self.\n",
      " |  \n",
      " |  __rlshift__(self, value, /)\n",
      " |      Return value<<self.\n",
      " |  \n",
      " |  __rmod__(self, value, /)\n",
      " |      Return value%self.\n",
      " |  \n",
      " |  __rmul__(self, value, /)\n",
      " |      Return value*self.\n",
      " |  \n",
      " |  __ror__(self, value, /)\n",
      " |      Return value|self.\n",
      " |  \n",
      " |  __round__(...)\n",
      " |      Rounding an Integral returns itself.\n",
      " |      Rounding with an ndigits argument also returns an integer.\n",
      " |  \n",
      " |  __rpow__(self, value, mod=None, /)\n",
      " |      Return pow(value, self, mod).\n",
      " |  \n",
      " |  __rrshift__(self, value, /)\n",
      " |      Return value>>self.\n",
      " |  \n",
      " |  __rshift__(self, value, /)\n",
      " |      Return self>>value.\n",
      " |  \n",
      " |  __rsub__(self, value, /)\n",
      " |      Return value-self.\n",
      " |  \n",
      " |  __rtruediv__(self, value, /)\n",
      " |      Return value/self.\n",
      " |  \n",
      " |  __rxor__(self, value, /)\n",
      " |      Return value^self.\n",
      " |  \n",
      " |  __sizeof__(self, /)\n",
      " |      Returns size in memory, in bytes.\n",
      " |  \n",
      " |  __str__(self, /)\n",
      " |      Return str(self).\n",
      " |  \n",
      " |  __sub__(self, value, /)\n",
      " |      Return self-value.\n",
      " |  \n",
      " |  __truediv__(self, value, /)\n",
      " |      Return self/value.\n",
      " |  \n",
      " |  __trunc__(...)\n",
      " |      Truncating an Integral returns itself.\n",
      " |  \n",
      " |  __xor__(self, value, /)\n",
      " |      Return self^value.\n",
      " |  \n",
      " |  bit_length(self, /)\n",
      " |      Number of bits necessary to represent self in binary.\n",
      " |      \n",
      " |      >>> bin(37)\n",
      " |      '0b100101'\n",
      " |      >>> (37).bit_length()\n",
      " |      6\n",
      " |  \n",
      " |  conjugate(...)\n",
      " |      Returns self, the complex conjugate of any int.\n",
      " |  \n",
      " |  to_bytes(self, /, length, byteorder, *, signed=False)\n",
      " |      Return an array of bytes representing an integer.\n",
      " |      \n",
      " |      length\n",
      " |        Length of bytes object to use.  An OverflowError is raised if the\n",
      " |        integer is not representable with the given number of bytes.\n",
      " |      byteorder\n",
      " |        The byte order used to represent the integer.  If byteorder is 'big',\n",
      " |        the most significant byte is at the beginning of the byte array.  If\n",
      " |        byteorder is 'little', the most significant byte is at the end of the\n",
      " |        byte array.  To request the native byte order of the host system, use\n",
      " |        `sys.byteorder' as the byte order value.\n",
      " |      signed\n",
      " |        Determines whether two's complement is used to represent the integer.\n",
      " |        If signed is False and a negative integer is given, an OverflowError\n",
      " |        is raised.\n",
      " |  \n",
      " |  ----------------------------------------------------------------------\n",
      " |  Class methods defined here:\n",
      " |  \n",
      " |  from_bytes(bytes, byteorder, *, signed=False) from builtins.type\n",
      " |      Return the integer represented by the given array of bytes.\n",
      " |      \n",
      " |      bytes\n",
      " |        Holds the array of bytes to convert.  The argument must either\n",
      " |        support the buffer protocol or be an iterable object producing bytes.\n",
      " |        Bytes and bytearray are examples of built-in objects that support the\n",
      " |        buffer protocol.\n",
      " |      byteorder\n",
      " |        The byte order used to represent the integer.  If byteorder is 'big',\n",
      " |        the most significant byte is at the beginning of the byte array.  If\n",
      " |        byteorder is 'little', the most significant byte is at the end of the\n",
      " |        byte array.  To request the native byte order of the host system, use\n",
      " |        `sys.byteorder' as the byte order value.\n",
      " |      signed\n",
      " |        Indicates whether two's complement is used to represent the integer.\n",
      " |  \n",
      " |  ----------------------------------------------------------------------\n",
      " |  Static methods defined here:\n",
      " |  \n",
      " |  __new__(*args, **kwargs) from builtins.type\n",
      " |      Create and return a new object.  See help(type) for accurate signature.\n",
      " |  \n",
      " |  ----------------------------------------------------------------------\n",
      " |  Data descriptors defined here:\n",
      " |  \n",
      " |  denominator\n",
      " |      the denominator of a rational number in lowest terms\n",
      " |  \n",
      " |  imag\n",
      " |      the imaginary part of a complex number\n",
      " |  \n",
      " |  numerator\n",
      " |      the numerator of a rational number in lowest terms\n",
      " |  \n",
      " |  real\n",
      " |      the real part of a complex number\n",
      "\n"
     ]
    }
   ],
   "source": [
    "help(round(-2.01))"
   ]
  },
  {
   "cell_type": "markdown",
   "id": "75f076a8",
   "metadata": {
    "papermill": {
     "duration": 0.008542,
     "end_time": "2023-04-21T13:38:25.304034",
     "exception": false,
     "start_time": "2023-04-21T13:38:25.295492",
     "status": "completed"
    },
    "tags": []
   },
   "source": [
    "Python evaluates an expression like this from the inside out. First it calculates the value of `round(-2.01)`, then it provides help on the output of that expression.\n",
    "\n",
    "<small>(And it turns out to have a lot to say about integers! After we talk later about objects, methods, and attributes in Python, the help output above will make more sense.)</small>\n",
    "\n",
    "`round` is a very simple function with a short docstring. `help` shines even more when dealing with more complex, configurable functions like `print`. Don't worry if the following output looks inscrutable... for now, just see if you can pick anything new out from this help."
   ]
  },
  {
   "cell_type": "code",
   "execution_count": 3,
   "id": "03e465bf",
   "metadata": {
    "collapsed": true,
    "execution": {
     "iopub.execute_input": "2023-04-21T13:38:25.324954Z",
     "iopub.status.busy": "2023-04-21T13:38:25.324011Z",
     "iopub.status.idle": "2023-04-21T13:38:25.331805Z",
     "shell.execute_reply": "2023-04-21T13:38:25.329973Z"
    },
    "papermill": {
     "duration": 0.0227,
     "end_time": "2023-04-21T13:38:25.335157",
     "exception": false,
     "start_time": "2023-04-21T13:38:25.312457",
     "status": "completed"
    },
    "tags": []
   },
   "outputs": [
    {
     "name": "stdout",
     "output_type": "stream",
     "text": [
      "Help on built-in function print in module builtins:\n",
      "\n",
      "print(...)\n",
      "    print(value, ..., sep=' ', end='\\n', file=sys.stdout, flush=False)\n",
      "    \n",
      "    Prints the values to a stream, or to sys.stdout by default.\n",
      "    Optional keyword arguments:\n",
      "    file:  a file-like object (stream); defaults to the current sys.stdout.\n",
      "    sep:   string inserted between values, default a space.\n",
      "    end:   string appended after the last value, default a newline.\n",
      "    flush: whether to forcibly flush the stream.\n",
      "\n"
     ]
    }
   ],
   "source": [
    "help(print)"
   ]
  },
  {
   "cell_type": "markdown",
   "id": "086e7f9c",
   "metadata": {
    "papermill": {
     "duration": 0.008012,
     "end_time": "2023-04-21T13:38:25.352012",
     "exception": false,
     "start_time": "2023-04-21T13:38:25.344000",
     "status": "completed"
    },
    "tags": []
   },
   "source": [
    "If you were looking for it, you might learn that print can take an argument called `sep`, and that this describes what we put between all the other arguments when we print them."
   ]
  },
  {
   "cell_type": "markdown",
   "id": "813c752f",
   "metadata": {
    "papermill": {
     "duration": 0.008132,
     "end_time": "2023-04-21T13:38:25.368850",
     "exception": false,
     "start_time": "2023-04-21T13:38:25.360718",
     "status": "completed"
    },
    "tags": []
   },
   "source": [
    "## Defining functions\n",
    "\n",
    "Builtin functions are great, but we can only get so far with them before we need to start defining our own functions. Below is a simple example."
   ]
  },
  {
   "cell_type": "code",
   "execution_count": 4,
   "id": "733e2448",
   "metadata": {
    "collapsed": true,
    "execution": {
     "iopub.execute_input": "2023-04-21T13:38:25.388810Z",
     "iopub.status.busy": "2023-04-21T13:38:25.387983Z",
     "iopub.status.idle": "2023-04-21T13:38:25.395152Z",
     "shell.execute_reply": "2023-04-21T13:38:25.393590Z"
    },
    "papermill": {
     "duration": 0.022163,
     "end_time": "2023-04-21T13:38:25.399059",
     "exception": false,
     "start_time": "2023-04-21T13:38:25.376896",
     "status": "completed"
    },
    "tags": []
   },
   "outputs": [],
   "source": [
    "def least_difference(a, b, c):\n",
    "    diff1 = abs(a - b)\n",
    "    diff2 = abs(b - c)\n",
    "    diff3 = abs(a - c)\n",
    "    return min(diff1, diff2, diff3)"
   ]
  },
  {
   "cell_type": "markdown",
   "id": "f82e3e31",
   "metadata": {
    "papermill": {
     "duration": 0.008821,
     "end_time": "2023-04-21T13:38:25.416818",
     "exception": false,
     "start_time": "2023-04-21T13:38:25.407997",
     "status": "completed"
    },
    "tags": []
   },
   "source": [
    "This creates a function called `least_difference`, which takes three arguments, `a`, `b`, and `c`.\n",
    "\n",
    "Functions start with a header introduced by the `def` keyword. The indented block of code following the `:` is run when the function is called.\n",
    "\n",
    "`return` is another keyword uniquely associated with functions. When Python encounters a `return` statement, it exits the function immediately, and passes the value on the right hand side to the calling context.\n",
    "\n",
    "Is it clear what `least_difference()` does from the source code? If we're not sure, we can always try it out on a few examples:"
   ]
  },
  {
   "cell_type": "code",
   "execution_count": 5,
   "id": "a30f8f32",
   "metadata": {
    "collapsed": true,
    "execution": {
     "iopub.execute_input": "2023-04-21T13:38:25.436830Z",
     "iopub.status.busy": "2023-04-21T13:38:25.435968Z",
     "iopub.status.idle": "2023-04-21T13:38:25.443538Z",
     "shell.execute_reply": "2023-04-21T13:38:25.442016Z"
    },
    "papermill": {
     "duration": 0.021796,
     "end_time": "2023-04-21T13:38:25.447260",
     "exception": false,
     "start_time": "2023-04-21T13:38:25.425464",
     "status": "completed"
    },
    "tags": []
   },
   "outputs": [
    {
     "name": "stdout",
     "output_type": "stream",
     "text": [
      "9 0 1\n"
     ]
    }
   ],
   "source": [
    "print(\n",
    "    least_difference(1, 10, 100),\n",
    "    least_difference(1, 10, 10),\n",
    "    least_difference(5, 6, 7), # Python allows trailing commas in argument lists. How nice is that?\n",
    ")"
   ]
  },
  {
   "cell_type": "markdown",
   "id": "a20918fc",
   "metadata": {
    "papermill": {
     "duration": 0.008114,
     "end_time": "2023-04-21T13:38:25.463933",
     "exception": false,
     "start_time": "2023-04-21T13:38:25.455819",
     "status": "completed"
    },
    "tags": []
   },
   "source": [
    "Or maybe the `help()` function can tell us something about it."
   ]
  },
  {
   "cell_type": "code",
   "execution_count": 6,
   "id": "f9f2832e",
   "metadata": {
    "collapsed": true,
    "execution": {
     "iopub.execute_input": "2023-04-21T13:38:25.483135Z",
     "iopub.status.busy": "2023-04-21T13:38:25.482651Z",
     "iopub.status.idle": "2023-04-21T13:38:25.490876Z",
     "shell.execute_reply": "2023-04-21T13:38:25.488524Z"
    },
    "papermill": {
     "duration": 0.021805,
     "end_time": "2023-04-21T13:38:25.493966",
     "exception": false,
     "start_time": "2023-04-21T13:38:25.472161",
     "status": "completed"
    },
    "tags": []
   },
   "outputs": [
    {
     "name": "stdout",
     "output_type": "stream",
     "text": [
      "Help on function least_difference in module __main__:\n",
      "\n",
      "least_difference(a, b, c)\n",
      "\n"
     ]
    }
   ],
   "source": [
    "help(least_difference)"
   ]
  },
  {
   "cell_type": "markdown",
   "id": "4fe0bc86",
   "metadata": {
    "papermill": {
     "duration": 0.008041,
     "end_time": "2023-04-21T13:38:25.510740",
     "exception": false,
     "start_time": "2023-04-21T13:38:25.502699",
     "status": "completed"
    },
    "tags": []
   },
   "source": [
    "Python isn't smart enough to read my code and turn it into a nice English description. However, when I write a function, I can provide a description in what's called the **docstring**.\n",
    "\n",
    "### Docstrings"
   ]
  },
  {
   "cell_type": "code",
   "execution_count": 7,
   "id": "4a0df5cf",
   "metadata": {
    "collapsed": true,
    "execution": {
     "iopub.execute_input": "2023-04-21T13:38:25.529798Z",
     "iopub.status.busy": "2023-04-21T13:38:25.529299Z",
     "iopub.status.idle": "2023-04-21T13:38:25.536951Z",
     "shell.execute_reply": "2023-04-21T13:38:25.535501Z"
    },
    "papermill": {
     "duration": 0.020821,
     "end_time": "2023-04-21T13:38:25.539804",
     "exception": false,
     "start_time": "2023-04-21T13:38:25.518983",
     "status": "completed"
    },
    "tags": []
   },
   "outputs": [],
   "source": [
    "def least_difference(a, b, c):\n",
    "    \"\"\"Return the smallest difference between any two numbers\n",
    "    among a, b and c.\n",
    "    \n",
    "    >>> least_difference(1, 5, -5)\n",
    "    4\n",
    "    \"\"\"\n",
    "    diff1 = abs(a - b)\n",
    "    diff2 = abs(b - c)\n",
    "    diff3 = abs(a - c)\n",
    "    return min(diff1, diff2, diff3)"
   ]
  },
  {
   "cell_type": "markdown",
   "id": "4c9791e8",
   "metadata": {
    "papermill": {
     "duration": 0.008313,
     "end_time": "2023-04-21T13:38:25.556704",
     "exception": false,
     "start_time": "2023-04-21T13:38:25.548391",
     "status": "completed"
    },
    "tags": []
   },
   "source": [
    "The docstring is a triple-quoted string (which may span multiple lines) that comes immediately after the header of a function. When we call `help()` on a function, it shows the docstring."
   ]
  },
  {
   "cell_type": "code",
   "execution_count": 8,
   "id": "5fd64ddb",
   "metadata": {
    "collapsed": true,
    "execution": {
     "iopub.execute_input": "2023-04-21T13:38:25.576966Z",
     "iopub.status.busy": "2023-04-21T13:38:25.576506Z",
     "iopub.status.idle": "2023-04-21T13:38:25.582206Z",
     "shell.execute_reply": "2023-04-21T13:38:25.581186Z"
    },
    "papermill": {
     "duration": 0.020073,
     "end_time": "2023-04-21T13:38:25.585772",
     "exception": false,
     "start_time": "2023-04-21T13:38:25.565699",
     "status": "completed"
    },
    "tags": []
   },
   "outputs": [
    {
     "name": "stdout",
     "output_type": "stream",
     "text": [
      "Help on function least_difference in module __main__:\n",
      "\n",
      "least_difference(a, b, c)\n",
      "    Return the smallest difference between any two numbers\n",
      "    among a, b and c.\n",
      "    \n",
      "    >>> least_difference(1, 5, -5)\n",
      "    4\n",
      "\n"
     ]
    }
   ],
   "source": [
    "help(least_difference)"
   ]
  },
  {
   "cell_type": "markdown",
   "id": "c3836dad",
   "metadata": {
    "papermill": {
     "duration": 0.008199,
     "end_time": "2023-04-21T13:38:25.604026",
     "exception": false,
     "start_time": "2023-04-21T13:38:25.595827",
     "status": "completed"
    },
    "tags": []
   },
   "source": [
    "> **Aside:**\n",
    "> The last two lines of the docstring are an example function call and result. (The `>>>` is a reference to the command prompt used in Python interactive shells.) Python doesn't run the example call - it's just there for the benefit of the reader. The convention of including 1 or more example calls in a function's docstring is far from universally observed, but it can be very effective at helping someone understand your function. For a real-world example, see [this docstring for the numpy function `np.eye`](https://github.com/numpy/numpy/blob/v1.14.2/numpy/lib/twodim_base.py#L140-L194)."
   ]
  },
  {
   "cell_type": "markdown",
   "id": "9b695620",
   "metadata": {
    "papermill": {
     "duration": 0.008263,
     "end_time": "2023-04-21T13:38:25.622020",
     "exception": false,
     "start_time": "2023-04-21T13:38:25.613757",
     "status": "completed"
    },
    "tags": []
   },
   "source": [
    "Good programmers use docstrings unless they expect to throw away the code soon after it's used (which is rare).  So, you should start writing docstrings, too!"
   ]
  },
  {
   "cell_type": "markdown",
   "id": "21347c7f",
   "metadata": {
    "papermill": {
     "duration": 0.007955,
     "end_time": "2023-04-21T13:38:25.638816",
     "exception": false,
     "start_time": "2023-04-21T13:38:25.630861",
     "status": "completed"
    },
    "tags": []
   },
   "source": [
    "## Functions that don't return\n",
    "\n",
    "What would happen if we didn't include the `return` keyword in our function?"
   ]
  },
  {
   "cell_type": "code",
   "execution_count": 9,
   "id": "2d00e038",
   "metadata": {
    "collapsed": true,
    "execution": {
     "iopub.execute_input": "2023-04-21T13:38:25.657551Z",
     "iopub.status.busy": "2023-04-21T13:38:25.657044Z",
     "iopub.status.idle": "2023-04-21T13:38:25.665538Z",
     "shell.execute_reply": "2023-04-21T13:38:25.663946Z"
    },
    "papermill": {
     "duration": 0.021371,
     "end_time": "2023-04-21T13:38:25.668624",
     "exception": false,
     "start_time": "2023-04-21T13:38:25.647253",
     "status": "completed"
    },
    "tags": []
   },
   "outputs": [
    {
     "name": "stdout",
     "output_type": "stream",
     "text": [
      "None None None\n"
     ]
    }
   ],
   "source": [
    "def least_difference(a, b, c):\n",
    "    \"\"\"Return the smallest difference between any two numbers\n",
    "    among a, b and c.\n",
    "    \"\"\"\n",
    "    diff1 = abs(a - b)\n",
    "    diff2 = abs(b - c)\n",
    "    diff3 = abs(a - c)\n",
    "    min(diff1, diff2, diff3)\n",
    "    \n",
    "print(\n",
    "    least_difference(1, 10, 100),\n",
    "    least_difference(1, 10, 10),\n",
    "    least_difference(5, 6, 7),\n",
    ")"
   ]
  },
  {
   "cell_type": "markdown",
   "id": "aa761171",
   "metadata": {
    "papermill": {
     "duration": 0.00817,
     "end_time": "2023-04-21T13:38:25.685413",
     "exception": false,
     "start_time": "2023-04-21T13:38:25.677243",
     "status": "completed"
    },
    "tags": []
   },
   "source": [
    "Python allows us to define such functions. The result of calling them is the special value `None`. (This is similar to the concept of \"null\" in other languages.)\n",
    "\n",
    "Without a `return` statement, `least_difference` is completely pointless, but a function with side effects may do something useful without returning anything. We've already seen two examples of this: `print()` and `help()` don't return anything. We only call them for their side effects (putting some text on the screen). Other examples of useful side effects include writing to a file, or modifying an input."
   ]
  },
  {
   "cell_type": "code",
   "execution_count": 10,
   "id": "b3a61ce4",
   "metadata": {
    "collapsed": true,
    "execution": {
     "iopub.execute_input": "2023-04-21T13:38:25.704258Z",
     "iopub.status.busy": "2023-04-21T13:38:25.703742Z",
     "iopub.status.idle": "2023-04-21T13:38:25.710361Z",
     "shell.execute_reply": "2023-04-21T13:38:25.709023Z"
    },
    "papermill": {
     "duration": 0.019955,
     "end_time": "2023-04-21T13:38:25.713785",
     "exception": false,
     "start_time": "2023-04-21T13:38:25.693830",
     "status": "completed"
    },
    "tags": []
   },
   "outputs": [
    {
     "name": "stdout",
     "output_type": "stream",
     "text": [
      "\n",
      "None\n"
     ]
    }
   ],
   "source": [
    "mystery = print()\n",
    "print(mystery)"
   ]
  },
  {
   "cell_type": "markdown",
   "id": "5a996623",
   "metadata": {
    "papermill": {
     "duration": 0.008874,
     "end_time": "2023-04-21T13:38:25.731623",
     "exception": false,
     "start_time": "2023-04-21T13:38:25.722749",
     "status": "completed"
    },
    "tags": []
   },
   "source": [
    "## Default arguments\n",
    "\n",
    "When we called `help(print)`, we saw that the `print` function has several optional arguments. For example, we can specify a value for `sep` to put some special string in between our printed arguments:"
   ]
  },
  {
   "cell_type": "code",
   "execution_count": 11,
   "id": "9a19679c",
   "metadata": {
    "collapsed": true,
    "execution": {
     "iopub.execute_input": "2023-04-21T13:38:25.751058Z",
     "iopub.status.busy": "2023-04-21T13:38:25.750303Z",
     "iopub.status.idle": "2023-04-21T13:38:25.757039Z",
     "shell.execute_reply": "2023-04-21T13:38:25.755698Z"
    },
    "papermill": {
     "duration": 0.019742,
     "end_time": "2023-04-21T13:38:25.759865",
     "exception": false,
     "start_time": "2023-04-21T13:38:25.740123",
     "status": "completed"
    },
    "tags": []
   },
   "outputs": [
    {
     "name": "stdout",
     "output_type": "stream",
     "text": [
      "1 < 2 < 3\n"
     ]
    }
   ],
   "source": [
    "print(1, 2, 3, sep=' < ')"
   ]
  },
  {
   "cell_type": "markdown",
   "id": "45a08179",
   "metadata": {
    "papermill": {
     "duration": 0.008779,
     "end_time": "2023-04-21T13:38:25.777722",
     "exception": false,
     "start_time": "2023-04-21T13:38:25.768943",
     "status": "completed"
    },
    "tags": []
   },
   "source": [
    "But if we don't specify a value, `sep` is treated as having a default value of `' '` (a single space)."
   ]
  },
  {
   "cell_type": "code",
   "execution_count": 12,
   "id": "22339a43",
   "metadata": {
    "collapsed": true,
    "execution": {
     "iopub.execute_input": "2023-04-21T13:38:25.798712Z",
     "iopub.status.busy": "2023-04-21T13:38:25.798257Z",
     "iopub.status.idle": "2023-04-21T13:38:25.805640Z",
     "shell.execute_reply": "2023-04-21T13:38:25.803896Z"
    },
    "papermill": {
     "duration": 0.021199,
     "end_time": "2023-04-21T13:38:25.808538",
     "exception": false,
     "start_time": "2023-04-21T13:38:25.787339",
     "status": "completed"
    },
    "tags": []
   },
   "outputs": [
    {
     "name": "stdout",
     "output_type": "stream",
     "text": [
      "1 2 3\n"
     ]
    }
   ],
   "source": [
    "print(1, 2, 3)"
   ]
  },
  {
   "cell_type": "markdown",
   "id": "d90a625f",
   "metadata": {
    "papermill": {
     "duration": 0.00881,
     "end_time": "2023-04-21T13:38:25.827116",
     "exception": false,
     "start_time": "2023-04-21T13:38:25.818306",
     "status": "completed"
    },
    "tags": []
   },
   "source": [
    "Adding optional arguments with default values to the functions we define turns out to be pretty easy:"
   ]
  },
  {
   "cell_type": "code",
   "execution_count": 13,
   "id": "f0775277",
   "metadata": {
    "collapsed": true,
    "execution": {
     "iopub.execute_input": "2023-04-21T13:38:25.848458Z",
     "iopub.status.busy": "2023-04-21T13:38:25.847937Z",
     "iopub.status.idle": "2023-04-21T13:38:25.856367Z",
     "shell.execute_reply": "2023-04-21T13:38:25.854954Z"
    },
    "papermill": {
     "duration": 0.022574,
     "end_time": "2023-04-21T13:38:25.858888",
     "exception": false,
     "start_time": "2023-04-21T13:38:25.836314",
     "status": "completed"
    },
    "tags": []
   },
   "outputs": [
    {
     "name": "stdout",
     "output_type": "stream",
     "text": [
      "Hello, Colin\n",
      "Hello, Kaggle\n",
      "Hello, world\n"
     ]
    }
   ],
   "source": [
    "def greet(who=\"Colin\"):\n",
    "    print(\"Hello,\", who)\n",
    "    \n",
    "greet()\n",
    "greet(who=\"Kaggle\")\n",
    "# (In this case, we don't need to specify the name of the argument, because it's unambiguous.)\n",
    "greet(\"world\")"
   ]
  },
  {
   "cell_type": "markdown",
   "id": "20cc096a",
   "metadata": {
    "papermill": {
     "duration": 0.00932,
     "end_time": "2023-04-21T13:38:25.877950",
     "exception": false,
     "start_time": "2023-04-21T13:38:25.868630",
     "status": "completed"
    },
    "tags": []
   },
   "source": [
    "## Functions Applied to Functions\n",
    "\n",
    "Here's something that's powerful, though it can feel very abstract at first.  You can supply functions as arguments to other functions.  Some example may make this clearer:"
   ]
  },
  {
   "cell_type": "code",
   "execution_count": 14,
   "id": "d9b0d078",
   "metadata": {
    "collapsed": true,
    "execution": {
     "iopub.execute_input": "2023-04-21T13:38:25.898150Z",
     "iopub.status.busy": "2023-04-21T13:38:25.897640Z",
     "iopub.status.idle": "2023-04-21T13:38:25.906084Z",
     "shell.execute_reply": "2023-04-21T13:38:25.904634Z"
    },
    "papermill": {
     "duration": 0.021616,
     "end_time": "2023-04-21T13:38:25.908614",
     "exception": false,
     "start_time": "2023-04-21T13:38:25.886998",
     "status": "completed"
    },
    "tags": []
   },
   "outputs": [
    {
     "name": "stdout",
     "output_type": "stream",
     "text": [
      "5\n",
      "25\n"
     ]
    }
   ],
   "source": [
    "def mult_by_five(x):\n",
    "    return 5 * x\n",
    "\n",
    "def call(fn, arg):\n",
    "    \"\"\"Call fn on arg\"\"\"\n",
    "    return fn(arg)\n",
    "\n",
    "def squared_call(fn, arg):\n",
    "    \"\"\"Call fn on the result of calling fn on arg\"\"\"\n",
    "    return fn(fn(arg))\n",
    "\n",
    "print(\n",
    "    call(mult_by_five, 1),\n",
    "    squared_call(mult_by_five, 1), \n",
    "    sep='\\n', # '\\n' is the newline character - it starts a new line\n",
    ")"
   ]
  },
  {
   "cell_type": "markdown",
   "id": "2ea5653d",
   "metadata": {
    "papermill": {
     "duration": 0.00879,
     "end_time": "2023-04-21T13:38:25.926504",
     "exception": false,
     "start_time": "2023-04-21T13:38:25.917714",
     "status": "completed"
    },
    "tags": []
   },
   "source": [
    "Functions that operate on other functions are called \"higher-order functions.\" You probably won't write your own for a little while. But there are higher-order functions built into Python that you might find useful to call. \n",
    "\n",
    "Here's an interesting example using the `max` function.\n",
    "\n",
    "By default, `max` returns the largest of its arguments. But if we pass in a function using the optional `key` argument, it returns the argument `x` that maximizes `key(x)` (aka the 'argmax')."
   ]
  },
  {
   "cell_type": "code",
   "execution_count": 15,
   "id": "d0b2d2e3",
   "metadata": {
    "collapsed": true,
    "execution": {
     "iopub.execute_input": "2023-04-21T13:38:25.947919Z",
     "iopub.status.busy": "2023-04-21T13:38:25.947045Z",
     "iopub.status.idle": "2023-04-21T13:38:25.954937Z",
     "shell.execute_reply": "2023-04-21T13:38:25.953497Z"
    },
    "papermill": {
     "duration": 0.021022,
     "end_time": "2023-04-21T13:38:25.957485",
     "exception": false,
     "start_time": "2023-04-21T13:38:25.936463",
     "status": "completed"
    },
    "tags": []
   },
   "outputs": [
    {
     "name": "stdout",
     "output_type": "stream",
     "text": [
      "Which number is biggest?\n",
      "100\n",
      "Which number is the biggest modulo 5?\n",
      "14\n"
     ]
    }
   ],
   "source": [
    "def mod_5(x):\n",
    "    \"\"\"Return the remainder of x after dividing by 5\"\"\"\n",
    "    return x % 5\n",
    "\n",
    "print(\n",
    "    'Which number is biggest?',\n",
    "    max(100, 51, 14),\n",
    "    'Which number is the biggest modulo 5?',\n",
    "    max(100, 51, 14, key=mod_5),\n",
    "    sep='\\n',\n",
    ")"
   ]
  },
  {
   "cell_type": "markdown",
   "id": "2957f0e9",
   "metadata": {
    "papermill": {
     "duration": 0.008856,
     "end_time": "2023-04-21T13:38:25.975509",
     "exception": false,
     "start_time": "2023-04-21T13:38:25.966653",
     "status": "completed"
    },
    "tags": []
   },
   "source": [
    "# Your Turn\n",
    "\n",
    "Functions open up a whole new world in Python programming. **[Try using them yourself](https://www.kaggle.com/kernels/fork/1275158)**."
   ]
  },
  {
   "cell_type": "markdown",
   "id": "b0508526",
   "metadata": {
    "papermill": {
     "duration": 0.008749,
     "end_time": "2023-04-21T13:38:25.993318",
     "exception": false,
     "start_time": "2023-04-21T13:38:25.984569",
     "status": "completed"
    },
    "tags": []
   },
   "source": [
    "---\n",
    "\n",
    "\n",
    "\n",
    "\n",
    "*Have questions or comments? Visit the [course discussion forum](https://www.kaggle.com/learn/python/discussion) to chat with other learners.*"
   ]
  }
 ],
 "metadata": {
  "kernelspec": {
   "display_name": "Python 3",
   "language": "python",
   "name": "python3"
  },
  "language_info": {
   "codemirror_mode": {
    "name": "ipython",
    "version": 3
   },
   "file_extension": ".py",
   "mimetype": "text/x-python",
   "name": "python",
   "nbconvert_exporter": "python",
   "pygments_lexer": "ipython3",
   "version": "3.7.12"
  },
  "learntools_metadata": {
   "lesson_index": 1,
   "type": "tutorial"
  },
  "papermill": {
   "default_parameters": {},
   "duration": 15.020621,
   "end_time": "2023-04-21T13:38:26.928085",
   "environment_variables": {},
   "exception": null,
   "input_path": "__notebook__.ipynb",
   "output_path": "__notebook__.ipynb",
   "parameters": {},
   "start_time": "2023-04-21T13:38:11.907464",
   "version": "2.4.0"
  }
 },
 "nbformat": 4,
 "nbformat_minor": 5
}
