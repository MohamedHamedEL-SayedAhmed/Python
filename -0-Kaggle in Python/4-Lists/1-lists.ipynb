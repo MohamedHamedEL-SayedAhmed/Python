{
 "cells": [
  {
   "cell_type": "markdown",
   "id": "37c97d16",
   "metadata": {
    "papermill": {
     "duration": 0.013785,
     "end_time": "2023-04-21T13:38:31.904863",
     "exception": false,
     "start_time": "2023-04-21T13:38:31.891078",
     "status": "completed"
    },
    "tags": []
   },
   "source": [
    "# Lists\n",
    "\n",
    "Lists in Python represent ordered sequences of values. Here is an example of how to create them:"
   ]
  },
  {
   "cell_type": "code",
   "execution_count": 1,
   "id": "ecdfd8c3",
   "metadata": {
    "collapsed": true,
    "execution": {
     "iopub.execute_input": "2023-04-21T13:38:31.937537Z",
     "iopub.status.busy": "2023-04-21T13:38:31.936276Z",
     "iopub.status.idle": "2023-04-21T13:38:31.949287Z",
     "shell.execute_reply": "2023-04-21T13:38:31.948303Z"
    },
    "papermill": {
     "duration": 0.032163,
     "end_time": "2023-04-21T13:38:31.951893",
     "exception": false,
     "start_time": "2023-04-21T13:38:31.919730",
     "status": "completed"
    },
    "tags": []
   },
   "outputs": [],
   "source": [
    "primes = [2, 3, 5, 7]"
   ]
  },
  {
   "cell_type": "markdown",
   "id": "afd43617",
   "metadata": {
    "papermill": {
     "duration": 0.013247,
     "end_time": "2023-04-21T13:38:31.983439",
     "exception": false,
     "start_time": "2023-04-21T13:38:31.970192",
     "status": "completed"
    },
    "tags": []
   },
   "source": [
    "We can put other types of things in lists:"
   ]
  },
  {
   "cell_type": "code",
   "execution_count": 2,
   "id": "a0f6cccb",
   "metadata": {
    "collapsed": true,
    "execution": {
     "iopub.execute_input": "2023-04-21T13:38:32.020621Z",
     "iopub.status.busy": "2023-04-21T13:38:32.019824Z",
     "iopub.status.idle": "2023-04-21T13:38:32.025106Z",
     "shell.execute_reply": "2023-04-21T13:38:32.024285Z"
    },
    "papermill": {
     "duration": 0.025064,
     "end_time": "2023-04-21T13:38:32.027757",
     "exception": false,
     "start_time": "2023-04-21T13:38:32.002693",
     "status": "completed"
    },
    "tags": []
   },
   "outputs": [],
   "source": [
    "planets = ['Mercury', 'Venus', 'Earth', 'Mars', 'Jupiter', 'Saturn', 'Uranus', 'Neptune']"
   ]
  },
  {
   "cell_type": "markdown",
   "id": "9f6171f6",
   "metadata": {
    "papermill": {
     "duration": 0.012362,
     "end_time": "2023-04-21T13:38:32.052869",
     "exception": false,
     "start_time": "2023-04-21T13:38:32.040507",
     "status": "completed"
    },
    "tags": []
   },
   "source": [
    "We can even make a list of lists:"
   ]
  },
  {
   "cell_type": "code",
   "execution_count": 3,
   "id": "e4b44f25",
   "metadata": {
    "collapsed": true,
    "execution": {
     "iopub.execute_input": "2023-04-21T13:38:32.080863Z",
     "iopub.status.busy": "2023-04-21T13:38:32.080212Z",
     "iopub.status.idle": "2023-04-21T13:38:32.086196Z",
     "shell.execute_reply": "2023-04-21T13:38:32.085374Z"
    },
    "papermill": {
     "duration": 0.022808,
     "end_time": "2023-04-21T13:38:32.088459",
     "exception": false,
     "start_time": "2023-04-21T13:38:32.065651",
     "status": "completed"
    },
    "tags": []
   },
   "outputs": [],
   "source": [
    "hands = [\n",
    "    ['J', 'Q', 'K'],\n",
    "    ['2', '2', '2'],\n",
    "    ['6', 'A', 'K'], # (Comma after the last element is optional)\n",
    "]\n",
    "# (I could also have written this on one line, but it can get hard to read)\n",
    "hands = [['J', 'Q', 'K'], ['2', '2', '2'], ['6', 'A', 'K']]"
   ]
  },
  {
   "cell_type": "markdown",
   "id": "8a59edfb",
   "metadata": {
    "papermill": {
     "duration": 0.013038,
     "end_time": "2023-04-21T13:38:32.114165",
     "exception": false,
     "start_time": "2023-04-21T13:38:32.101127",
     "status": "completed"
    },
    "tags": []
   },
   "source": [
    "A list can contain a mix of different types of variables:"
   ]
  },
  {
   "cell_type": "code",
   "execution_count": 4,
   "id": "babc2376",
   "metadata": {
    "collapsed": true,
    "execution": {
     "iopub.execute_input": "2023-04-21T13:38:32.141848Z",
     "iopub.status.busy": "2023-04-21T13:38:32.141182Z",
     "iopub.status.idle": "2023-04-21T13:38:32.146281Z",
     "shell.execute_reply": "2023-04-21T13:38:32.145415Z"
    },
    "papermill": {
     "duration": 0.021715,
     "end_time": "2023-04-21T13:38:32.148576",
     "exception": false,
     "start_time": "2023-04-21T13:38:32.126861",
     "status": "completed"
    },
    "tags": []
   },
   "outputs": [],
   "source": [
    "my_favourite_things = [32, 'raindrops on roses', help]\n",
    "# (Yes, Python's help function is *definitely* one of my favourite things)"
   ]
  },
  {
   "cell_type": "markdown",
   "id": "cc10595f",
   "metadata": {
    "papermill": {
     "duration": 0.012763,
     "end_time": "2023-04-21T13:38:32.174260",
     "exception": false,
     "start_time": "2023-04-21T13:38:32.161497",
     "status": "completed"
    },
    "tags": []
   },
   "source": [
    "## Indexing\n",
    "\n",
    "You can access individual list elements with square brackets.\n",
    "\n",
    "Which planet is closest to the sun? Python uses *zero-based* indexing, so the first element has index 0."
   ]
  },
  {
   "cell_type": "code",
   "execution_count": 5,
   "id": "4a38be67",
   "metadata": {
    "execution": {
     "iopub.execute_input": "2023-04-21T13:38:32.202310Z",
     "iopub.status.busy": "2023-04-21T13:38:32.201572Z",
     "iopub.status.idle": "2023-04-21T13:38:32.209738Z",
     "shell.execute_reply": "2023-04-21T13:38:32.208515Z"
    },
    "papermill": {
     "duration": 0.025648,
     "end_time": "2023-04-21T13:38:32.212543",
     "exception": false,
     "start_time": "2023-04-21T13:38:32.186895",
     "status": "completed"
    },
    "tags": []
   },
   "outputs": [
    {
     "data": {
      "text/plain": [
       "'Mercury'"
      ]
     },
     "execution_count": 5,
     "metadata": {},
     "output_type": "execute_result"
    }
   ],
   "source": [
    "planets[0]"
   ]
  },
  {
   "cell_type": "markdown",
   "id": "48149b76",
   "metadata": {
    "papermill": {
     "duration": 0.012493,
     "end_time": "2023-04-21T13:38:32.237999",
     "exception": false,
     "start_time": "2023-04-21T13:38:32.225506",
     "status": "completed"
    },
    "tags": []
   },
   "source": [
    "What's the next closest planet?"
   ]
  },
  {
   "cell_type": "code",
   "execution_count": 6,
   "id": "b30876a5",
   "metadata": {
    "execution": {
     "iopub.execute_input": "2023-04-21T13:38:32.265868Z",
     "iopub.status.busy": "2023-04-21T13:38:32.265207Z",
     "iopub.status.idle": "2023-04-21T13:38:32.272024Z",
     "shell.execute_reply": "2023-04-21T13:38:32.270979Z"
    },
    "papermill": {
     "duration": 0.023358,
     "end_time": "2023-04-21T13:38:32.274329",
     "exception": false,
     "start_time": "2023-04-21T13:38:32.250971",
     "status": "completed"
    },
    "tags": []
   },
   "outputs": [
    {
     "data": {
      "text/plain": [
       "'Venus'"
      ]
     },
     "execution_count": 6,
     "metadata": {},
     "output_type": "execute_result"
    }
   ],
   "source": [
    "planets[1]"
   ]
  },
  {
   "cell_type": "markdown",
   "id": "ab981c88",
   "metadata": {
    "papermill": {
     "duration": 0.012609,
     "end_time": "2023-04-21T13:38:32.299895",
     "exception": false,
     "start_time": "2023-04-21T13:38:32.287286",
     "status": "completed"
    },
    "tags": []
   },
   "source": [
    "Which planet is *furthest* from the sun?\n",
    "\n",
    "Elements at the end of the list can be accessed with negative numbers, starting from -1:"
   ]
  },
  {
   "cell_type": "code",
   "execution_count": 7,
   "id": "d19168fb",
   "metadata": {
    "execution": {
     "iopub.execute_input": "2023-04-21T13:38:32.328171Z",
     "iopub.status.busy": "2023-04-21T13:38:32.327509Z",
     "iopub.status.idle": "2023-04-21T13:38:32.334426Z",
     "shell.execute_reply": "2023-04-21T13:38:32.333326Z"
    },
    "papermill": {
     "duration": 0.023721,
     "end_time": "2023-04-21T13:38:32.336670",
     "exception": false,
     "start_time": "2023-04-21T13:38:32.312949",
     "status": "completed"
    },
    "tags": []
   },
   "outputs": [
    {
     "data": {
      "text/plain": [
       "'Neptune'"
      ]
     },
     "execution_count": 7,
     "metadata": {},
     "output_type": "execute_result"
    }
   ],
   "source": [
    "planets[-1]"
   ]
  },
  {
   "cell_type": "code",
   "execution_count": 8,
   "id": "c523fca7",
   "metadata": {
    "execution": {
     "iopub.execute_input": "2023-04-21T13:38:32.365018Z",
     "iopub.status.busy": "2023-04-21T13:38:32.364368Z",
     "iopub.status.idle": "2023-04-21T13:38:32.371375Z",
     "shell.execute_reply": "2023-04-21T13:38:32.370188Z"
    },
    "papermill": {
     "duration": 0.023915,
     "end_time": "2023-04-21T13:38:32.373627",
     "exception": false,
     "start_time": "2023-04-21T13:38:32.349712",
     "status": "completed"
    },
    "tags": []
   },
   "outputs": [
    {
     "data": {
      "text/plain": [
       "'Uranus'"
      ]
     },
     "execution_count": 8,
     "metadata": {},
     "output_type": "execute_result"
    }
   ],
   "source": [
    "planets[-2]"
   ]
  },
  {
   "cell_type": "markdown",
   "id": "afb51c0e",
   "metadata": {
    "papermill": {
     "duration": 0.012888,
     "end_time": "2023-04-21T13:38:32.399883",
     "exception": false,
     "start_time": "2023-04-21T13:38:32.386995",
     "status": "completed"
    },
    "tags": []
   },
   "source": [
    "## Slicing\n",
    "\n",
    "What are the first three planets? We can answer this question using *slicing*:"
   ]
  },
  {
   "cell_type": "code",
   "execution_count": 9,
   "id": "b0481d7c",
   "metadata": {
    "execution": {
     "iopub.execute_input": "2023-04-21T13:38:32.428683Z",
     "iopub.status.busy": "2023-04-21T13:38:32.428000Z",
     "iopub.status.idle": "2023-04-21T13:38:32.435007Z",
     "shell.execute_reply": "2023-04-21T13:38:32.433956Z"
    },
    "papermill": {
     "duration": 0.024087,
     "end_time": "2023-04-21T13:38:32.437288",
     "exception": false,
     "start_time": "2023-04-21T13:38:32.413201",
     "status": "completed"
    },
    "tags": []
   },
   "outputs": [
    {
     "data": {
      "text/plain": [
       "['Mercury', 'Venus', 'Earth']"
      ]
     },
     "execution_count": 9,
     "metadata": {},
     "output_type": "execute_result"
    }
   ],
   "source": [
    "planets[0:3]"
   ]
  },
  {
   "cell_type": "markdown",
   "id": "6d135f04",
   "metadata": {
    "papermill": {
     "duration": 0.013244,
     "end_time": "2023-04-21T13:38:32.463898",
     "exception": false,
     "start_time": "2023-04-21T13:38:32.450654",
     "status": "completed"
    },
    "tags": []
   },
   "source": [
    "`planets[0:3]` is our way of asking for the elements of `planets` starting from index 0 and continuing up to *but not including* index 3.\n",
    "\n",
    "The starting and ending indices are both optional. If I leave out the start index, it's assumed to be 0. So I could rewrite the expression above as:"
   ]
  },
  {
   "cell_type": "code",
   "execution_count": 10,
   "id": "f9444939",
   "metadata": {
    "execution": {
     "iopub.execute_input": "2023-04-21T13:38:32.493112Z",
     "iopub.status.busy": "2023-04-21T13:38:32.492436Z",
     "iopub.status.idle": "2023-04-21T13:38:32.499513Z",
     "shell.execute_reply": "2023-04-21T13:38:32.498323Z"
    },
    "papermill": {
     "duration": 0.024435,
     "end_time": "2023-04-21T13:38:32.501868",
     "exception": false,
     "start_time": "2023-04-21T13:38:32.477433",
     "status": "completed"
    },
    "tags": []
   },
   "outputs": [
    {
     "data": {
      "text/plain": [
       "['Mercury', 'Venus', 'Earth']"
      ]
     },
     "execution_count": 10,
     "metadata": {},
     "output_type": "execute_result"
    }
   ],
   "source": [
    "planets[:3]"
   ]
  },
  {
   "cell_type": "markdown",
   "id": "07ddcaf5",
   "metadata": {
    "papermill": {
     "duration": 0.013294,
     "end_time": "2023-04-21T13:38:32.528811",
     "exception": false,
     "start_time": "2023-04-21T13:38:32.515517",
     "status": "completed"
    },
    "tags": []
   },
   "source": [
    "If I leave out the end index, it's assumed to be the length of the list."
   ]
  },
  {
   "cell_type": "code",
   "execution_count": 11,
   "id": "dee0e7b6",
   "metadata": {
    "execution": {
     "iopub.execute_input": "2023-04-21T13:38:32.558291Z",
     "iopub.status.busy": "2023-04-21T13:38:32.557505Z",
     "iopub.status.idle": "2023-04-21T13:38:32.564753Z",
     "shell.execute_reply": "2023-04-21T13:38:32.563706Z"
    },
    "papermill": {
     "duration": 0.024614,
     "end_time": "2023-04-21T13:38:32.567021",
     "exception": false,
     "start_time": "2023-04-21T13:38:32.542407",
     "status": "completed"
    },
    "tags": []
   },
   "outputs": [
    {
     "data": {
      "text/plain": [
       "['Mars', 'Jupiter', 'Saturn', 'Uranus', 'Neptune']"
      ]
     },
     "execution_count": 11,
     "metadata": {},
     "output_type": "execute_result"
    }
   ],
   "source": [
    "planets[3:]"
   ]
  },
  {
   "cell_type": "markdown",
   "id": "9c1a18b7",
   "metadata": {
    "papermill": {
     "duration": 0.01359,
     "end_time": "2023-04-21T13:38:32.594286",
     "exception": false,
     "start_time": "2023-04-21T13:38:32.580696",
     "status": "completed"
    },
    "tags": []
   },
   "source": [
    "i.e. the expression above means \"give me all the planets from index 3 onward\".\n",
    "\n",
    "We can also use negative indices when slicing:"
   ]
  },
  {
   "cell_type": "code",
   "execution_count": 12,
   "id": "f6e4319c",
   "metadata": {
    "execution": {
     "iopub.execute_input": "2023-04-21T13:38:32.624154Z",
     "iopub.status.busy": "2023-04-21T13:38:32.623478Z",
     "iopub.status.idle": "2023-04-21T13:38:32.630491Z",
     "shell.execute_reply": "2023-04-21T13:38:32.629461Z"
    },
    "papermill": {
     "duration": 0.024457,
     "end_time": "2023-04-21T13:38:32.632678",
     "exception": false,
     "start_time": "2023-04-21T13:38:32.608221",
     "status": "completed"
    },
    "tags": []
   },
   "outputs": [
    {
     "data": {
      "text/plain": [
       "['Venus', 'Earth', 'Mars', 'Jupiter', 'Saturn', 'Uranus']"
      ]
     },
     "execution_count": 12,
     "metadata": {},
     "output_type": "execute_result"
    }
   ],
   "source": [
    "# All the planets except the first and last\n",
    "planets[1:-1]"
   ]
  },
  {
   "cell_type": "code",
   "execution_count": 13,
   "id": "97518a79",
   "metadata": {
    "execution": {
     "iopub.execute_input": "2023-04-21T13:38:32.662383Z",
     "iopub.status.busy": "2023-04-21T13:38:32.661947Z",
     "iopub.status.idle": "2023-04-21T13:38:32.668863Z",
     "shell.execute_reply": "2023-04-21T13:38:32.667831Z"
    },
    "papermill": {
     "duration": 0.02463,
     "end_time": "2023-04-21T13:38:32.671181",
     "exception": false,
     "start_time": "2023-04-21T13:38:32.646551",
     "status": "completed"
    },
    "tags": []
   },
   "outputs": [
    {
     "data": {
      "text/plain": [
       "['Saturn', 'Uranus', 'Neptune']"
      ]
     },
     "execution_count": 13,
     "metadata": {},
     "output_type": "execute_result"
    }
   ],
   "source": [
    "# The last 3 planets\n",
    "planets[-3:]"
   ]
  },
  {
   "cell_type": "markdown",
   "id": "8d9f8e61",
   "metadata": {
    "papermill": {
     "duration": 0.013678,
     "end_time": "2023-04-21T13:38:32.698797",
     "exception": false,
     "start_time": "2023-04-21T13:38:32.685119",
     "status": "completed"
    },
    "tags": []
   },
   "source": [
    "## Changing lists\n",
    "\n",
    "Lists are \"mutable\", meaning they can be modified \"in place\".\n",
    "\n",
    "One way to modify a list is to assign to an index or slice expression.\n",
    "\n",
    "For example, let's say we want to rename Mars:"
   ]
  },
  {
   "cell_type": "code",
   "execution_count": 14,
   "id": "59476606",
   "metadata": {
    "execution": {
     "iopub.execute_input": "2023-04-21T13:38:32.729283Z",
     "iopub.status.busy": "2023-04-21T13:38:32.728593Z",
     "iopub.status.idle": "2023-04-21T13:38:32.735737Z",
     "shell.execute_reply": "2023-04-21T13:38:32.734608Z"
    },
    "papermill": {
     "duration": 0.024987,
     "end_time": "2023-04-21T13:38:32.737999",
     "exception": false,
     "start_time": "2023-04-21T13:38:32.713012",
     "status": "completed"
    },
    "tags": []
   },
   "outputs": [
    {
     "data": {
      "text/plain": [
       "['Mercury',\n",
       " 'Venus',\n",
       " 'Earth',\n",
       " 'Malacandra',\n",
       " 'Jupiter',\n",
       " 'Saturn',\n",
       " 'Uranus',\n",
       " 'Neptune']"
      ]
     },
     "execution_count": 14,
     "metadata": {},
     "output_type": "execute_result"
    }
   ],
   "source": [
    "planets[3] = 'Malacandra'\n",
    "planets"
   ]
  },
  {
   "cell_type": "markdown",
   "id": "8957cf6f",
   "metadata": {
    "papermill": {
     "duration": 0.013905,
     "end_time": "2023-04-21T13:38:32.766177",
     "exception": false,
     "start_time": "2023-04-21T13:38:32.752272",
     "status": "completed"
    },
    "tags": []
   },
   "source": [
    "Hm, that's quite a mouthful. Let's compensate by shortening the names of the first 3 planets."
   ]
  },
  {
   "cell_type": "code",
   "execution_count": 15,
   "id": "26a39a48",
   "metadata": {
    "execution": {
     "iopub.execute_input": "2023-04-21T13:38:32.796783Z",
     "iopub.status.busy": "2023-04-21T13:38:32.796112Z",
     "iopub.status.idle": "2023-04-21T13:38:32.803257Z",
     "shell.execute_reply": "2023-04-21T13:38:32.801857Z"
    },
    "papermill": {
     "duration": 0.025269,
     "end_time": "2023-04-21T13:38:32.805538",
     "exception": false,
     "start_time": "2023-04-21T13:38:32.780269",
     "status": "completed"
    },
    "tags": []
   },
   "outputs": [
    {
     "name": "stdout",
     "output_type": "stream",
     "text": [
      "['Mur', 'Vee', 'Ur', 'Malacandra', 'Jupiter', 'Saturn', 'Uranus', 'Neptune']\n"
     ]
    }
   ],
   "source": [
    "planets[:3] = ['Mur', 'Vee', 'Ur']\n",
    "print(planets)\n",
    "# That was silly. Let's give them back their old names\n",
    "planets[:4] = ['Mercury', 'Venus', 'Earth', 'Mars',]"
   ]
  },
  {
   "cell_type": "markdown",
   "id": "ec81eb9a",
   "metadata": {
    "papermill": {
     "duration": 0.014083,
     "end_time": "2023-04-21T13:38:32.834013",
     "exception": false,
     "start_time": "2023-04-21T13:38:32.819930",
     "status": "completed"
    },
    "tags": []
   },
   "source": [
    "## List functions\n",
    "\n",
    "Python has several useful functions for working with lists.\n",
    "\n",
    "`len` gives the length of a list:"
   ]
  },
  {
   "cell_type": "code",
   "execution_count": 16,
   "id": "7c0b2462",
   "metadata": {
    "execution": {
     "iopub.execute_input": "2023-04-21T13:38:32.865061Z",
     "iopub.status.busy": "2023-04-21T13:38:32.864337Z",
     "iopub.status.idle": "2023-04-21T13:38:32.871251Z",
     "shell.execute_reply": "2023-04-21T13:38:32.870009Z"
    },
    "papermill": {
     "duration": 0.025028,
     "end_time": "2023-04-21T13:38:32.873612",
     "exception": false,
     "start_time": "2023-04-21T13:38:32.848584",
     "status": "completed"
    },
    "tags": []
   },
   "outputs": [
    {
     "data": {
      "text/plain": [
       "8"
      ]
     },
     "execution_count": 16,
     "metadata": {},
     "output_type": "execute_result"
    }
   ],
   "source": [
    "# How many planets are there?\n",
    "len(planets)"
   ]
  },
  {
   "cell_type": "markdown",
   "id": "f2edeef1",
   "metadata": {
    "papermill": {
     "duration": 0.014636,
     "end_time": "2023-04-21T13:38:32.902857",
     "exception": false,
     "start_time": "2023-04-21T13:38:32.888221",
     "status": "completed"
    },
    "tags": []
   },
   "source": [
    "`sorted` returns a sorted version of a list:"
   ]
  },
  {
   "cell_type": "code",
   "execution_count": 17,
   "id": "73cb8c6a",
   "metadata": {
    "execution": {
     "iopub.execute_input": "2023-04-21T13:38:32.933906Z",
     "iopub.status.busy": "2023-04-21T13:38:32.933471Z",
     "iopub.status.idle": "2023-04-21T13:38:32.940173Z",
     "shell.execute_reply": "2023-04-21T13:38:32.939056Z"
    },
    "papermill": {
     "duration": 0.02535,
     "end_time": "2023-04-21T13:38:32.942919",
     "exception": false,
     "start_time": "2023-04-21T13:38:32.917569",
     "status": "completed"
    },
    "tags": []
   },
   "outputs": [
    {
     "data": {
      "text/plain": [
       "['Earth', 'Jupiter', 'Mars', 'Mercury', 'Neptune', 'Saturn', 'Uranus', 'Venus']"
      ]
     },
     "execution_count": 17,
     "metadata": {},
     "output_type": "execute_result"
    }
   ],
   "source": [
    "# The planets sorted in alphabetical order\n",
    "sorted(planets)"
   ]
  },
  {
   "cell_type": "markdown",
   "id": "c3daa98d",
   "metadata": {
    "papermill": {
     "duration": 0.01463,
     "end_time": "2023-04-21T13:38:32.972874",
     "exception": false,
     "start_time": "2023-04-21T13:38:32.958244",
     "status": "completed"
    },
    "tags": []
   },
   "source": [
    "`sum` does what you might expect:"
   ]
  },
  {
   "cell_type": "code",
   "execution_count": 18,
   "id": "26b2e4d3",
   "metadata": {
    "execution": {
     "iopub.execute_input": "2023-04-21T13:38:33.005135Z",
     "iopub.status.busy": "2023-04-21T13:38:33.004476Z",
     "iopub.status.idle": "2023-04-21T13:38:33.011581Z",
     "shell.execute_reply": "2023-04-21T13:38:33.010541Z"
    },
    "papermill": {
     "duration": 0.026121,
     "end_time": "2023-04-21T13:38:33.013796",
     "exception": false,
     "start_time": "2023-04-21T13:38:32.987675",
     "status": "completed"
    },
    "tags": []
   },
   "outputs": [
    {
     "data": {
      "text/plain": [
       "17"
      ]
     },
     "execution_count": 18,
     "metadata": {},
     "output_type": "execute_result"
    }
   ],
   "source": [
    "primes = [2, 3, 5, 7]\n",
    "sum(primes)"
   ]
  },
  {
   "cell_type": "markdown",
   "id": "2eeb0d4b",
   "metadata": {
    "papermill": {
     "duration": 0.014853,
     "end_time": "2023-04-21T13:38:33.043541",
     "exception": false,
     "start_time": "2023-04-21T13:38:33.028688",
     "status": "completed"
    },
    "tags": []
   },
   "source": [
    "We've previously used the `min` and `max` to get the minimum or maximum of several arguments. But we can also pass in a single list argument."
   ]
  },
  {
   "cell_type": "code",
   "execution_count": 19,
   "id": "950fb1b4",
   "metadata": {
    "execution": {
     "iopub.execute_input": "2023-04-21T13:38:33.075680Z",
     "iopub.status.busy": "2023-04-21T13:38:33.074552Z",
     "iopub.status.idle": "2023-04-21T13:38:33.081065Z",
     "shell.execute_reply": "2023-04-21T13:38:33.080064Z"
    },
    "papermill": {
     "duration": 0.024904,
     "end_time": "2023-04-21T13:38:33.083330",
     "exception": false,
     "start_time": "2023-04-21T13:38:33.058426",
     "status": "completed"
    },
    "tags": []
   },
   "outputs": [
    {
     "data": {
      "text/plain": [
       "7"
      ]
     },
     "execution_count": 19,
     "metadata": {},
     "output_type": "execute_result"
    }
   ],
   "source": [
    "max(primes)"
   ]
  },
  {
   "cell_type": "markdown",
   "id": "0fe0f5e7",
   "metadata": {
    "papermill": {
     "duration": 0.015613,
     "end_time": "2023-04-21T13:38:33.114285",
     "exception": false,
     "start_time": "2023-04-21T13:38:33.098672",
     "status": "completed"
    },
    "tags": []
   },
   "source": [
    "## Interlude: objects\n",
    "\n",
    "I've used the term 'object' a lot so far - you may have even read that *everything* in Python is an object. What does that mean?\n",
    "\n",
    "In short, objects carry some things around with them. You access that stuff using Python's dot syntax.\n",
    "\n",
    "For example, numbers in Python carry around an associated variable called `imag` representing their imaginary part. (You'll probably never need to use this unless you're doing some very weird math.)"
   ]
  },
  {
   "cell_type": "code",
   "execution_count": 20,
   "id": "3cc3a0aa",
   "metadata": {
    "execution": {
     "iopub.execute_input": "2023-04-21T13:38:33.147384Z",
     "iopub.status.busy": "2023-04-21T13:38:33.146683Z",
     "iopub.status.idle": "2023-04-21T13:38:33.152613Z",
     "shell.execute_reply": "2023-04-21T13:38:33.151549Z"
    },
    "papermill": {
     "duration": 0.024891,
     "end_time": "2023-04-21T13:38:33.154963",
     "exception": false,
     "start_time": "2023-04-21T13:38:33.130072",
     "status": "completed"
    },
    "tags": []
   },
   "outputs": [
    {
     "name": "stdout",
     "output_type": "stream",
     "text": [
      "0\n",
      "3.0\n"
     ]
    }
   ],
   "source": [
    "x = 12\n",
    "# x is a real number, so its imaginary part is 0.\n",
    "print(x.imag)\n",
    "# Here's how to make a complex number, in case you've ever been curious:\n",
    "c = 12 + 3j\n",
    "print(c.imag)"
   ]
  },
  {
   "cell_type": "markdown",
   "id": "ed808a75",
   "metadata": {
    "papermill": {
     "duration": 0.01507,
     "end_time": "2023-04-21T13:38:33.185750",
     "exception": false,
     "start_time": "2023-04-21T13:38:33.170680",
     "status": "completed"
    },
    "tags": []
   },
   "source": [
    "The things an object carries around can also include functions. A function attached to an object is called a **method**. (Non-function things attached to an object, such as `imag`, are called *attributes*).\n",
    "\n",
    "For example, numbers have a method called `bit_length`. Again, we access it using dot syntax:"
   ]
  },
  {
   "cell_type": "code",
   "execution_count": 21,
   "id": "34fb9f10",
   "metadata": {
    "execution": {
     "iopub.execute_input": "2023-04-21T13:38:33.219496Z",
     "iopub.status.busy": "2023-04-21T13:38:33.218705Z",
     "iopub.status.idle": "2023-04-21T13:38:33.226461Z",
     "shell.execute_reply": "2023-04-21T13:38:33.224939Z"
    },
    "papermill": {
     "duration": 0.02805,
     "end_time": "2023-04-21T13:38:33.229386",
     "exception": false,
     "start_time": "2023-04-21T13:38:33.201336",
     "status": "completed"
    },
    "tags": []
   },
   "outputs": [
    {
     "data": {
      "text/plain": [
       "<function int.bit_length()>"
      ]
     },
     "execution_count": 21,
     "metadata": {},
     "output_type": "execute_result"
    }
   ],
   "source": [
    "x.bit_length"
   ]
  },
  {
   "cell_type": "markdown",
   "id": "ba80082e",
   "metadata": {
    "papermill": {
     "duration": 0.015051,
     "end_time": "2023-04-21T13:38:33.260017",
     "exception": false,
     "start_time": "2023-04-21T13:38:33.244966",
     "status": "completed"
    },
    "tags": []
   },
   "source": [
    "To actually call it, we add parentheses:"
   ]
  },
  {
   "cell_type": "code",
   "execution_count": 22,
   "id": "716938a9",
   "metadata": {
    "execution": {
     "iopub.execute_input": "2023-04-21T13:38:33.294353Z",
     "iopub.status.busy": "2023-04-21T13:38:33.293225Z",
     "iopub.status.idle": "2023-04-21T13:38:33.300043Z",
     "shell.execute_reply": "2023-04-21T13:38:33.298859Z"
    },
    "papermill": {
     "duration": 0.026168,
     "end_time": "2023-04-21T13:38:33.302479",
     "exception": false,
     "start_time": "2023-04-21T13:38:33.276311",
     "status": "completed"
    },
    "tags": []
   },
   "outputs": [
    {
     "data": {
      "text/plain": [
       "4"
      ]
     },
     "execution_count": 22,
     "metadata": {},
     "output_type": "execute_result"
    }
   ],
   "source": [
    "x.bit_length()"
   ]
  },
  {
   "cell_type": "markdown",
   "id": "0ded3f75",
   "metadata": {
    "papermill": {
     "duration": 0.015414,
     "end_time": "2023-04-21T13:38:33.333480",
     "exception": false,
     "start_time": "2023-04-21T13:38:33.318066",
     "status": "completed"
    },
    "tags": []
   },
   "source": [
    "> **Aside:** You've actually been calling methods already if you've been doing the exercises. In the exercise notebooks `q1`, `q2`, `q3`, etc. are all objects which have methods called `check`, `hint`, and `solution`.\n",
    "\n",
    "In the same way that we can pass functions to the `help` function (e.g. `help(max)`), we can also pass in methods:"
   ]
  },
  {
   "cell_type": "code",
   "execution_count": 23,
   "id": "29411929",
   "metadata": {
    "execution": {
     "iopub.execute_input": "2023-04-21T13:38:33.367260Z",
     "iopub.status.busy": "2023-04-21T13:38:33.366754Z",
     "iopub.status.idle": "2023-04-21T13:38:33.373833Z",
     "shell.execute_reply": "2023-04-21T13:38:33.372563Z"
    },
    "papermill": {
     "duration": 0.027308,
     "end_time": "2023-04-21T13:38:33.376373",
     "exception": false,
     "start_time": "2023-04-21T13:38:33.349065",
     "status": "completed"
    },
    "tags": []
   },
   "outputs": [
    {
     "name": "stdout",
     "output_type": "stream",
     "text": [
      "Help on built-in function bit_length:\n",
      "\n",
      "bit_length() method of builtins.int instance\n",
      "    Number of bits necessary to represent self in binary.\n",
      "    \n",
      "    >>> bin(37)\n",
      "    '0b100101'\n",
      "    >>> (37).bit_length()\n",
      "    6\n",
      "\n"
     ]
    }
   ],
   "source": [
    "help(x.bit_length)"
   ]
  },
  {
   "cell_type": "markdown",
   "id": "67427e2a",
   "metadata": {
    "papermill": {
     "duration": 0.015389,
     "end_time": "2023-04-21T13:38:33.407337",
     "exception": false,
     "start_time": "2023-04-21T13:38:33.391948",
     "status": "completed"
    },
    "tags": []
   },
   "source": [
    "<!-- TODO:\n",
    "dir?\n",
    "A useful builtin method for interacting with objects is `dir`. `dir` asks: what are the names of all the things (methods, and attributes) that this object is carrying around?\n",
    "help(x)?\n",
    "-->\n",
    "\n",
    "The examples above were utterly obscure. None of the types of objects we've looked at so far (numbers, functions, booleans) have attributes or methods you're likely ever to use.\n",
    "\n",
    "But it turns out that lists have several methods which you'll use all the time."
   ]
  },
  {
   "cell_type": "markdown",
   "id": "fa864eda",
   "metadata": {
    "papermill": {
     "duration": 0.015726,
     "end_time": "2023-04-21T13:38:33.438691",
     "exception": false,
     "start_time": "2023-04-21T13:38:33.422965",
     "status": "completed"
    },
    "tags": []
   },
   "source": [
    "## List methods"
   ]
  },
  {
   "cell_type": "markdown",
   "id": "ffdfba73",
   "metadata": {
    "papermill": {
     "duration": 0.015294,
     "end_time": "2023-04-21T13:38:33.469700",
     "exception": false,
     "start_time": "2023-04-21T13:38:33.454406",
     "status": "completed"
    },
    "tags": []
   },
   "source": [
    "`list.append` modifies a list by adding an item to the end:"
   ]
  },
  {
   "cell_type": "code",
   "execution_count": 24,
   "id": "07da9a00",
   "metadata": {
    "collapsed": true,
    "execution": {
     "iopub.execute_input": "2023-04-21T13:38:33.502712Z",
     "iopub.status.busy": "2023-04-21T13:38:33.502313Z",
     "iopub.status.idle": "2023-04-21T13:38:33.507400Z",
     "shell.execute_reply": "2023-04-21T13:38:33.506149Z"
    },
    "papermill": {
     "duration": 0.024537,
     "end_time": "2023-04-21T13:38:33.509870",
     "exception": false,
     "start_time": "2023-04-21T13:38:33.485333",
     "status": "completed"
    },
    "tags": []
   },
   "outputs": [],
   "source": [
    "# Pluto is a planet darn it!\n",
    "planets.append('Pluto')"
   ]
  },
  {
   "cell_type": "markdown",
   "id": "d177465c",
   "metadata": {
    "papermill": {
     "duration": 0.015394,
     "end_time": "2023-04-21T13:38:33.541229",
     "exception": false,
     "start_time": "2023-04-21T13:38:33.525835",
     "status": "completed"
    },
    "tags": []
   },
   "source": [
    "Why does the cell above have no output? Let's check the documentation by calling `help(planets.append)`.\n",
    "\n",
    "> **Aside:** `append` is a method carried around by *all* objects of type list, not just `planets`, so we also could have called `help(list.append)`. However, if we try to call `help(append)`, Python will complain that no variable exists called \"append\". The \"append\" name only exists within lists - it doesn't exist as a standalone name like builtin functions such as `max` or `len`."
   ]
  },
  {
   "cell_type": "code",
   "execution_count": 25,
   "id": "b10e09d7",
   "metadata": {
    "execution": {
     "iopub.execute_input": "2023-04-21T13:38:33.574911Z",
     "iopub.status.busy": "2023-04-21T13:38:33.574261Z",
     "iopub.status.idle": "2023-04-21T13:38:33.580675Z",
     "shell.execute_reply": "2023-04-21T13:38:33.579653Z"
    },
    "papermill": {
     "duration": 0.026666,
     "end_time": "2023-04-21T13:38:33.583789",
     "exception": false,
     "start_time": "2023-04-21T13:38:33.557123",
     "status": "completed"
    },
    "tags": []
   },
   "outputs": [
    {
     "name": "stdout",
     "output_type": "stream",
     "text": [
      "Help on built-in function append:\n",
      "\n",
      "append(object, /) method of builtins.list instance\n",
      "    Append object to the end of the list.\n",
      "\n"
     ]
    }
   ],
   "source": [
    "help(planets.append)"
   ]
  },
  {
   "cell_type": "markdown",
   "id": "ef868d57",
   "metadata": {
    "papermill": {
     "duration": 0.015731,
     "end_time": "2023-04-21T13:38:33.616087",
     "exception": false,
     "start_time": "2023-04-21T13:38:33.600356",
     "status": "completed"
    },
    "tags": []
   },
   "source": [
    "The `-> None` part is telling us that `list.append` doesn't return anything. But if we check the value of `planets`, we can see that the method call modified the value of `planets`:"
   ]
  },
  {
   "cell_type": "code",
   "execution_count": 26,
   "id": "24e688da",
   "metadata": {
    "execution": {
     "iopub.execute_input": "2023-04-21T13:38:33.650540Z",
     "iopub.status.busy": "2023-04-21T13:38:33.649369Z",
     "iopub.status.idle": "2023-04-21T13:38:33.657025Z",
     "shell.execute_reply": "2023-04-21T13:38:33.655987Z"
    },
    "papermill": {
     "duration": 0.027284,
     "end_time": "2023-04-21T13:38:33.659316",
     "exception": false,
     "start_time": "2023-04-21T13:38:33.632032",
     "status": "completed"
    },
    "tags": []
   },
   "outputs": [
    {
     "data": {
      "text/plain": [
       "['Mercury',\n",
       " 'Venus',\n",
       " 'Earth',\n",
       " 'Mars',\n",
       " 'Jupiter',\n",
       " 'Saturn',\n",
       " 'Uranus',\n",
       " 'Neptune',\n",
       " 'Pluto']"
      ]
     },
     "execution_count": 26,
     "metadata": {},
     "output_type": "execute_result"
    }
   ],
   "source": [
    "planets"
   ]
  },
  {
   "cell_type": "markdown",
   "id": "402710e3",
   "metadata": {
    "papermill": {
     "duration": 0.01555,
     "end_time": "2023-04-21T13:38:33.690816",
     "exception": false,
     "start_time": "2023-04-21T13:38:33.675266",
     "status": "completed"
    },
    "tags": []
   },
   "source": [
    "`list.pop` removes and returns the last element of a list:"
   ]
  },
  {
   "cell_type": "code",
   "execution_count": 27,
   "id": "5d977ed9",
   "metadata": {
    "execution": {
     "iopub.execute_input": "2023-04-21T13:38:33.724531Z",
     "iopub.status.busy": "2023-04-21T13:38:33.724155Z",
     "iopub.status.idle": "2023-04-21T13:38:33.730924Z",
     "shell.execute_reply": "2023-04-21T13:38:33.729731Z"
    },
    "papermill": {
     "duration": 0.026461,
     "end_time": "2023-04-21T13:38:33.733134",
     "exception": false,
     "start_time": "2023-04-21T13:38:33.706673",
     "status": "completed"
    },
    "tags": []
   },
   "outputs": [
    {
     "data": {
      "text/plain": [
       "'Pluto'"
      ]
     },
     "execution_count": 27,
     "metadata": {},
     "output_type": "execute_result"
    }
   ],
   "source": [
    "planets.pop()"
   ]
  },
  {
   "cell_type": "code",
   "execution_count": 28,
   "id": "1399d786",
   "metadata": {
    "execution": {
     "iopub.execute_input": "2023-04-21T13:38:33.767154Z",
     "iopub.status.busy": "2023-04-21T13:38:33.766399Z",
     "iopub.status.idle": "2023-04-21T13:38:33.773310Z",
     "shell.execute_reply": "2023-04-21T13:38:33.772247Z"
    },
    "papermill": {
     "duration": 0.026589,
     "end_time": "2023-04-21T13:38:33.775804",
     "exception": false,
     "start_time": "2023-04-21T13:38:33.749215",
     "status": "completed"
    },
    "tags": []
   },
   "outputs": [
    {
     "data": {
      "text/plain": [
       "['Mercury', 'Venus', 'Earth', 'Mars', 'Jupiter', 'Saturn', 'Uranus', 'Neptune']"
      ]
     },
     "execution_count": 28,
     "metadata": {},
     "output_type": "execute_result"
    }
   ],
   "source": [
    "planets"
   ]
  },
  {
   "cell_type": "markdown",
   "id": "5a6d21bc",
   "metadata": {
    "papermill": {
     "duration": 0.01609,
     "end_time": "2023-04-21T13:38:33.808251",
     "exception": false,
     "start_time": "2023-04-21T13:38:33.792161",
     "status": "completed"
    },
    "tags": []
   },
   "source": [
    "### Searching lists\n",
    "\n",
    "Where does Earth fall in the order of planets? We can get its index using the `list.index` method."
   ]
  },
  {
   "cell_type": "code",
   "execution_count": 29,
   "id": "7c5322e2",
   "metadata": {
    "execution": {
     "iopub.execute_input": "2023-04-21T13:38:33.842942Z",
     "iopub.status.busy": "2023-04-21T13:38:33.842543Z",
     "iopub.status.idle": "2023-04-21T13:38:33.849368Z",
     "shell.execute_reply": "2023-04-21T13:38:33.848300Z"
    },
    "papermill": {
     "duration": 0.027323,
     "end_time": "2023-04-21T13:38:33.851871",
     "exception": false,
     "start_time": "2023-04-21T13:38:33.824548",
     "status": "completed"
    },
    "tags": []
   },
   "outputs": [
    {
     "data": {
      "text/plain": [
       "2"
      ]
     },
     "execution_count": 29,
     "metadata": {},
     "output_type": "execute_result"
    }
   ],
   "source": [
    "planets.index('Earth')"
   ]
  },
  {
   "cell_type": "markdown",
   "id": "3c1ed7fc",
   "metadata": {
    "papermill": {
     "duration": 0.016193,
     "end_time": "2023-04-21T13:38:33.884724",
     "exception": false,
     "start_time": "2023-04-21T13:38:33.868531",
     "status": "completed"
    },
    "tags": []
   },
   "source": [
    "It comes third (i.e. at index 2 - 0 indexing!).\n",
    "\n",
    "At what index does Pluto occur?"
   ]
  },
  {
   "cell_type": "code",
   "execution_count": 30,
   "id": "1b6614f6",
   "metadata": {
    "execution": {
     "iopub.execute_input": "2023-04-21T13:38:33.919968Z",
     "iopub.status.busy": "2023-04-21T13:38:33.919582Z",
     "iopub.status.idle": "2023-04-21T13:38:33.984668Z",
     "shell.execute_reply": "2023-04-21T13:38:33.983531Z"
    },
    "papermill": {
     "duration": 0.086155,
     "end_time": "2023-04-21T13:38:33.987375",
     "exception": false,
     "start_time": "2023-04-21T13:38:33.901220",
     "status": "completed"
    },
    "tags": [
     "raises-exception"
    ]
   },
   "outputs": [
    {
     "ename": "ValueError",
     "evalue": "'Pluto' is not in list",
     "output_type": "error",
     "traceback": [
      "\u001b[0;31m---------------------------------------------------------------------------\u001b[0m",
      "\u001b[0;31mValueError\u001b[0m                                Traceback (most recent call last)",
      "\u001b[0;32m/tmp/ipykernel_19/2263615293.py\u001b[0m in \u001b[0;36m<module>\u001b[0;34m\u001b[0m\n\u001b[0;32m----> 1\u001b[0;31m \u001b[0mplanets\u001b[0m\u001b[0;34m.\u001b[0m\u001b[0mindex\u001b[0m\u001b[0;34m(\u001b[0m\u001b[0;34m'Pluto'\u001b[0m\u001b[0;34m)\u001b[0m\u001b[0;34m\u001b[0m\u001b[0;34m\u001b[0m\u001b[0m\n\u001b[0m",
      "\u001b[0;31mValueError\u001b[0m: 'Pluto' is not in list"
     ]
    }
   ],
   "source": [
    "planets.index('Pluto')"
   ]
  },
  {
   "cell_type": "markdown",
   "id": "be1bcf9a",
   "metadata": {
    "papermill": {
     "duration": 0.016218,
     "end_time": "2023-04-21T13:38:34.020514",
     "exception": false,
     "start_time": "2023-04-21T13:38:34.004296",
     "status": "completed"
    },
    "tags": []
   },
   "source": [
    "Oh, that's right...\n",
    "\n",
    "To avoid unpleasant surprises like this, we can use the `in` operator to determine whether a list contains a particular value:"
   ]
  },
  {
   "cell_type": "code",
   "execution_count": 31,
   "id": "c4e98d12",
   "metadata": {
    "collapsed": true,
    "execution": {
     "iopub.execute_input": "2023-04-21T13:38:34.055851Z",
     "iopub.status.busy": "2023-04-21T13:38:34.055383Z",
     "iopub.status.idle": "2023-04-21T13:38:34.062671Z",
     "shell.execute_reply": "2023-04-21T13:38:34.061473Z"
    },
    "papermill": {
     "duration": 0.02828,
     "end_time": "2023-04-21T13:38:34.065454",
     "exception": false,
     "start_time": "2023-04-21T13:38:34.037174",
     "status": "completed"
    },
    "tags": []
   },
   "outputs": [
    {
     "data": {
      "text/plain": [
       "True"
      ]
     },
     "execution_count": 31,
     "metadata": {},
     "output_type": "execute_result"
    }
   ],
   "source": [
    "# Is Earth a planet?\n",
    "\"Earth\" in planets"
   ]
  },
  {
   "cell_type": "code",
   "execution_count": 32,
   "id": "421a8191",
   "metadata": {
    "collapsed": true,
    "execution": {
     "iopub.execute_input": "2023-04-21T13:38:34.101525Z",
     "iopub.status.busy": "2023-04-21T13:38:34.100981Z",
     "iopub.status.idle": "2023-04-21T13:38:34.108647Z",
     "shell.execute_reply": "2023-04-21T13:38:34.107313Z"
    },
    "papermill": {
     "duration": 0.029164,
     "end_time": "2023-04-21T13:38:34.111507",
     "exception": false,
     "start_time": "2023-04-21T13:38:34.082343",
     "status": "completed"
    },
    "tags": []
   },
   "outputs": [
    {
     "data": {
      "text/plain": [
       "False"
      ]
     },
     "execution_count": 32,
     "metadata": {},
     "output_type": "execute_result"
    }
   ],
   "source": [
    "# Is Calbefraques a planet?\n",
    "\"Calbefraques\" in planets"
   ]
  },
  {
   "cell_type": "markdown",
   "id": "9bb498fa",
   "metadata": {
    "papermill": {
     "duration": 0.016898,
     "end_time": "2023-04-21T13:38:34.145581",
     "exception": false,
     "start_time": "2023-04-21T13:38:34.128683",
     "status": "completed"
    },
    "tags": []
   },
   "source": [
    "There are a few more interesting list methods we haven't covered. If you want to learn about all the methods and attributes attached to a particular object, we can call `help()` on the object itself. For example, `help(planets)` will tell us about *all* the list methods: "
   ]
  },
  {
   "cell_type": "code",
   "execution_count": 33,
   "id": "4153332d",
   "metadata": {
    "_kg_hide-output": true,
    "execution": {
     "iopub.execute_input": "2023-04-21T13:38:34.182005Z",
     "iopub.status.busy": "2023-04-21T13:38:34.181591Z",
     "iopub.status.idle": "2023-04-21T13:38:34.207243Z",
     "shell.execute_reply": "2023-04-21T13:38:34.205740Z"
    },
    "papermill": {
     "duration": 0.047352,
     "end_time": "2023-04-21T13:38:34.209811",
     "exception": false,
     "start_time": "2023-04-21T13:38:34.162459",
     "status": "completed"
    },
    "tags": []
   },
   "outputs": [
    {
     "name": "stdout",
     "output_type": "stream",
     "text": [
      "Help on list object:\n",
      "\n",
      "class list(object)\n",
      " |  list(iterable=(), /)\n",
      " |  \n",
      " |  Built-in mutable sequence.\n",
      " |  \n",
      " |  If no argument is given, the constructor creates a new empty list.\n",
      " |  The argument must be an iterable if specified.\n",
      " |  \n",
      " |  Methods defined here:\n",
      " |  \n",
      " |  __add__(self, value, /)\n",
      " |      Return self+value.\n",
      " |  \n",
      " |  __contains__(self, key, /)\n",
      " |      Return key in self.\n",
      " |  \n",
      " |  __delitem__(self, key, /)\n",
      " |      Delete self[key].\n",
      " |  \n",
      " |  __eq__(self, value, /)\n",
      " |      Return self==value.\n",
      " |  \n",
      " |  __ge__(self, value, /)\n",
      " |      Return self>=value.\n",
      " |  \n",
      " |  __getattribute__(self, name, /)\n",
      " |      Return getattr(self, name).\n",
      " |  \n",
      " |  __getitem__(...)\n",
      " |      x.__getitem__(y) <==> x[y]\n",
      " |  \n",
      " |  __gt__(self, value, /)\n",
      " |      Return self>value.\n",
      " |  \n",
      " |  __iadd__(self, value, /)\n",
      " |      Implement self+=value.\n",
      " |  \n",
      " |  __imul__(self, value, /)\n",
      " |      Implement self*=value.\n",
      " |  \n",
      " |  __init__(self, /, *args, **kwargs)\n",
      " |      Initialize self.  See help(type(self)) for accurate signature.\n",
      " |  \n",
      " |  __iter__(self, /)\n",
      " |      Implement iter(self).\n",
      " |  \n",
      " |  __le__(self, value, /)\n",
      " |      Return self<=value.\n",
      " |  \n",
      " |  __len__(self, /)\n",
      " |      Return len(self).\n",
      " |  \n",
      " |  __lt__(self, value, /)\n",
      " |      Return self<value.\n",
      " |  \n",
      " |  __mul__(self, value, /)\n",
      " |      Return self*value.\n",
      " |  \n",
      " |  __ne__(self, value, /)\n",
      " |      Return self!=value.\n",
      " |  \n",
      " |  __repr__(self, /)\n",
      " |      Return repr(self).\n",
      " |  \n",
      " |  __reversed__(self, /)\n",
      " |      Return a reverse iterator over the list.\n",
      " |  \n",
      " |  __rmul__(self, value, /)\n",
      " |      Return value*self.\n",
      " |  \n",
      " |  __setitem__(self, key, value, /)\n",
      " |      Set self[key] to value.\n",
      " |  \n",
      " |  __sizeof__(self, /)\n",
      " |      Return the size of the list in memory, in bytes.\n",
      " |  \n",
      " |  append(self, object, /)\n",
      " |      Append object to the end of the list.\n",
      " |  \n",
      " |  clear(self, /)\n",
      " |      Remove all items from list.\n",
      " |  \n",
      " |  copy(self, /)\n",
      " |      Return a shallow copy of the list.\n",
      " |  \n",
      " |  count(self, value, /)\n",
      " |      Return number of occurrences of value.\n",
      " |  \n",
      " |  extend(self, iterable, /)\n",
      " |      Extend list by appending elements from the iterable.\n",
      " |  \n",
      " |  index(self, value, start=0, stop=9223372036854775807, /)\n",
      " |      Return first index of value.\n",
      " |      \n",
      " |      Raises ValueError if the value is not present.\n",
      " |  \n",
      " |  insert(self, index, object, /)\n",
      " |      Insert object before index.\n",
      " |  \n",
      " |  pop(self, index=-1, /)\n",
      " |      Remove and return item at index (default last).\n",
      " |      \n",
      " |      Raises IndexError if list is empty or index is out of range.\n",
      " |  \n",
      " |  remove(self, value, /)\n",
      " |      Remove first occurrence of value.\n",
      " |      \n",
      " |      Raises ValueError if the value is not present.\n",
      " |  \n",
      " |  reverse(self, /)\n",
      " |      Reverse *IN PLACE*.\n",
      " |  \n",
      " |  sort(self, /, *, key=None, reverse=False)\n",
      " |      Stable sort *IN PLACE*.\n",
      " |  \n",
      " |  ----------------------------------------------------------------------\n",
      " |  Static methods defined here:\n",
      " |  \n",
      " |  __new__(*args, **kwargs) from builtins.type\n",
      " |      Create and return a new object.  See help(type) for accurate signature.\n",
      " |  \n",
      " |  ----------------------------------------------------------------------\n",
      " |  Data and other attributes defined here:\n",
      " |  \n",
      " |  __hash__ = None\n",
      "\n"
     ]
    }
   ],
   "source": [
    "help(planets)"
   ]
  },
  {
   "cell_type": "markdown",
   "id": "45db9581",
   "metadata": {
    "papermill": {
     "duration": 0.016904,
     "end_time": "2023-04-21T13:38:34.244326",
     "exception": false,
     "start_time": "2023-04-21T13:38:34.227422",
     "status": "completed"
    },
    "tags": []
   },
   "source": [
    "Click the \"output\" button to see the full help page. Lists have lots of methods with weird-looking names like `__eq__` and `__iadd__`. Don't worry too much about these for now. (You'll probably never call such methods directly. But they get called behind the scenes when we use syntax like indexing or comparison operators.) The most interesting methods are toward the bottom of the list (`append`, `clear`, `copy`, etc.)."
   ]
  },
  {
   "cell_type": "markdown",
   "id": "ae17bf53",
   "metadata": {
    "papermill": {
     "duration": 0.016696,
     "end_time": "2023-04-21T13:38:34.277973",
     "exception": false,
     "start_time": "2023-04-21T13:38:34.261277",
     "status": "completed"
    },
    "tags": []
   },
   "source": [
    "## Tuples\n",
    "\n",
    "Tuples are almost exactly the same as lists. They differ in just two ways.\n",
    "\n",
    "**1:** The syntax for creating them uses parentheses instead of square brackets"
   ]
  },
  {
   "cell_type": "code",
   "execution_count": 34,
   "id": "44b32c93",
   "metadata": {
    "execution": {
     "iopub.execute_input": "2023-04-21T13:38:34.314789Z",
     "iopub.status.busy": "2023-04-21T13:38:34.314383Z",
     "iopub.status.idle": "2023-04-21T13:38:34.319879Z",
     "shell.execute_reply": "2023-04-21T13:38:34.318555Z"
    },
    "papermill": {
     "duration": 0.027342,
     "end_time": "2023-04-21T13:38:34.322497",
     "exception": false,
     "start_time": "2023-04-21T13:38:34.295155",
     "status": "completed"
    },
    "tags": []
   },
   "outputs": [],
   "source": [
    "t = (1, 2, 3)"
   ]
  },
  {
   "cell_type": "code",
   "execution_count": 35,
   "id": "2bbee343",
   "metadata": {
    "execution": {
     "iopub.execute_input": "2023-04-21T13:38:34.360263Z",
     "iopub.status.busy": "2023-04-21T13:38:34.358961Z",
     "iopub.status.idle": "2023-04-21T13:38:34.366997Z",
     "shell.execute_reply": "2023-04-21T13:38:34.365657Z"
    },
    "papermill": {
     "duration": 0.029209,
     "end_time": "2023-04-21T13:38:34.369420",
     "exception": false,
     "start_time": "2023-04-21T13:38:34.340211",
     "status": "completed"
    },
    "tags": []
   },
   "outputs": [
    {
     "data": {
      "text/plain": [
       "(1, 2, 3)"
      ]
     },
     "execution_count": 35,
     "metadata": {},
     "output_type": "execute_result"
    }
   ],
   "source": [
    "t = 1, 2, 3 # equivalent to above\n",
    "t"
   ]
  },
  {
   "cell_type": "markdown",
   "id": "6faaf538",
   "metadata": {
    "papermill": {
     "duration": 0.017774,
     "end_time": "2023-04-21T13:38:34.405450",
     "exception": false,
     "start_time": "2023-04-21T13:38:34.387676",
     "status": "completed"
    },
    "tags": []
   },
   "source": [
    "**2:** They cannot be modified (they are *immutable*)."
   ]
  },
  {
   "cell_type": "code",
   "execution_count": 36,
   "id": "dfa02288",
   "metadata": {
    "execution": {
     "iopub.execute_input": "2023-04-21T13:38:34.442407Z",
     "iopub.status.busy": "2023-04-21T13:38:34.441967Z",
     "iopub.status.idle": "2023-04-21T13:38:34.457288Z",
     "shell.execute_reply": "2023-04-21T13:38:34.455897Z"
    },
    "papermill": {
     "duration": 0.037147,
     "end_time": "2023-04-21T13:38:34.460284",
     "exception": false,
     "start_time": "2023-04-21T13:38:34.423137",
     "status": "completed"
    },
    "tags": [
     "raises-exception"
    ]
   },
   "outputs": [
    {
     "ename": "TypeError",
     "evalue": "'tuple' object does not support item assignment",
     "output_type": "error",
     "traceback": [
      "\u001b[0;31m---------------------------------------------------------------------------\u001b[0m",
      "\u001b[0;31mTypeError\u001b[0m                                 Traceback (most recent call last)",
      "\u001b[0;32m/tmp/ipykernel_19/816329950.py\u001b[0m in \u001b[0;36m<module>\u001b[0;34m\u001b[0m\n\u001b[0;32m----> 1\u001b[0;31m \u001b[0mt\u001b[0m\u001b[0;34m[\u001b[0m\u001b[0;36m0\u001b[0m\u001b[0;34m]\u001b[0m \u001b[0;34m=\u001b[0m \u001b[0;36m100\u001b[0m\u001b[0;34m\u001b[0m\u001b[0;34m\u001b[0m\u001b[0m\n\u001b[0m",
      "\u001b[0;31mTypeError\u001b[0m: 'tuple' object does not support item assignment"
     ]
    }
   ],
   "source": [
    "t[0] = 100"
   ]
  },
  {
   "cell_type": "markdown",
   "id": "30616f6f",
   "metadata": {
    "papermill": {
     "duration": 0.01967,
     "end_time": "2023-04-21T13:38:34.498789",
     "exception": false,
     "start_time": "2023-04-21T13:38:34.479119",
     "status": "completed"
    },
    "tags": []
   },
   "source": [
    "Tuples are often used for functions that have multiple return values.\n",
    "\n",
    "For example, the ``as_integer_ratio()`` method of float objects returns a numerator and a denominator in the form of a tuple:"
   ]
  },
  {
   "cell_type": "code",
   "execution_count": 37,
   "id": "7e7444c2",
   "metadata": {
    "execution": {
     "iopub.execute_input": "2023-04-21T13:38:34.536795Z",
     "iopub.status.busy": "2023-04-21T13:38:34.536386Z",
     "iopub.status.idle": "2023-04-21T13:38:34.543827Z",
     "shell.execute_reply": "2023-04-21T13:38:34.542592Z"
    },
    "papermill": {
     "duration": 0.029317,
     "end_time": "2023-04-21T13:38:34.546337",
     "exception": false,
     "start_time": "2023-04-21T13:38:34.517020",
     "status": "completed"
    },
    "tags": []
   },
   "outputs": [
    {
     "data": {
      "text/plain": [
       "(1, 8)"
      ]
     },
     "execution_count": 37,
     "metadata": {},
     "output_type": "execute_result"
    }
   ],
   "source": [
    "x = 0.125\n",
    "x.as_integer_ratio()"
   ]
  },
  {
   "cell_type": "markdown",
   "id": "0df3f88f",
   "metadata": {
    "papermill": {
     "duration": 0.017352,
     "end_time": "2023-04-21T13:38:34.581613",
     "exception": false,
     "start_time": "2023-04-21T13:38:34.564261",
     "status": "completed"
    },
    "tags": []
   },
   "source": [
    "These multiple return values can be individually assigned as follows:"
   ]
  },
  {
   "cell_type": "code",
   "execution_count": 38,
   "id": "fb267973",
   "metadata": {
    "execution": {
     "iopub.execute_input": "2023-04-21T13:38:34.619225Z",
     "iopub.status.busy": "2023-04-21T13:38:34.618798Z",
     "iopub.status.idle": "2023-04-21T13:38:34.624292Z",
     "shell.execute_reply": "2023-04-21T13:38:34.623149Z"
    },
    "papermill": {
     "duration": 0.027875,
     "end_time": "2023-04-21T13:38:34.627322",
     "exception": false,
     "start_time": "2023-04-21T13:38:34.599447",
     "status": "completed"
    },
    "tags": []
   },
   "outputs": [
    {
     "name": "stdout",
     "output_type": "stream",
     "text": [
      "0.125\n"
     ]
    }
   ],
   "source": [
    "numerator, denominator = x.as_integer_ratio()\n",
    "print(numerator / denominator)"
   ]
  },
  {
   "cell_type": "markdown",
   "id": "c113cd8c",
   "metadata": {
    "papermill": {
     "duration": 0.018384,
     "end_time": "2023-04-21T13:38:34.663626",
     "exception": false,
     "start_time": "2023-04-21T13:38:34.645242",
     "status": "completed"
    },
    "tags": []
   },
   "source": [
    "Finally we have some insight into the classic Stupid Python Trick™ for swapping two variables!"
   ]
  },
  {
   "cell_type": "code",
   "execution_count": 39,
   "id": "e6dd3d72",
   "metadata": {
    "execution": {
     "iopub.execute_input": "2023-04-21T13:38:34.703815Z",
     "iopub.status.busy": "2023-04-21T13:38:34.703369Z",
     "iopub.status.idle": "2023-04-21T13:38:34.710338Z",
     "shell.execute_reply": "2023-04-21T13:38:34.709008Z"
    },
    "papermill": {
     "duration": 0.029147,
     "end_time": "2023-04-21T13:38:34.712599",
     "exception": false,
     "start_time": "2023-04-21T13:38:34.683452",
     "status": "completed"
    },
    "tags": []
   },
   "outputs": [
    {
     "name": "stdout",
     "output_type": "stream",
     "text": [
      "0 1\n"
     ]
    }
   ],
   "source": [
    "a = 1\n",
    "b = 0\n",
    "a, b = b, a\n",
    "print(a, b)"
   ]
  },
  {
   "cell_type": "markdown",
   "id": "b0b7e859",
   "metadata": {
    "papermill": {
     "duration": 0.01819,
     "end_time": "2023-04-21T13:38:34.749470",
     "exception": false,
     "start_time": "2023-04-21T13:38:34.731280",
     "status": "completed"
    },
    "tags": []
   },
   "source": [
    "# Your Turn\n",
    "\n",
    "You learn best by writing code, not just reading it. So try **[the coding challenge](https://www.kaggle.com/kernels/fork/1275173)** now."
   ]
  },
  {
   "cell_type": "markdown",
   "id": "cf7c29e0",
   "metadata": {
    "papermill": {
     "duration": 0.018051,
     "end_time": "2023-04-21T13:38:34.785678",
     "exception": false,
     "start_time": "2023-04-21T13:38:34.767627",
     "status": "completed"
    },
    "tags": []
   },
   "source": [
    "---\n",
    "\n",
    "\n",
    "\n",
    "\n",
    "*Have questions or comments? Visit the [course discussion forum](https://www.kaggle.com/learn/python/discussion) to chat with other learners.*"
   ]
  }
 ],
 "metadata": {
  "anaconda-cloud": {},
  "kernelspec": {
   "display_name": "Python 3",
   "language": "python",
   "name": "python3"
  },
  "language_info": {
   "codemirror_mode": {
    "name": "ipython",
    "version": 3
   },
   "file_extension": ".py",
   "mimetype": "text/x-python",
   "name": "python",
   "nbconvert_exporter": "python",
   "pygments_lexer": "ipython3",
   "version": "3.7.12"
  },
  "learntools_metadata": {
   "lesson_index": 3,
   "type": "tutorial"
  },
  "papermill": {
   "default_parameters": {},
   "duration": 14.147689,
   "end_time": "2023-04-21T13:38:35.527008",
   "environment_variables": {},
   "exception": null,
   "input_path": "__notebook__.ipynb",
   "output_path": "__notebook__.ipynb",
   "parameters": {},
   "start_time": "2023-04-21T13:38:21.379319",
   "version": "2.4.0"
  }
 },
 "nbformat": 4,
 "nbformat_minor": 5
}
