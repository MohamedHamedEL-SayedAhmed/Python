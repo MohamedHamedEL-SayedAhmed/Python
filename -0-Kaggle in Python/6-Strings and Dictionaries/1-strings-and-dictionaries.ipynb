{
 "cells": [
  {
   "cell_type": "markdown",
   "id": "d17e20f9",
   "metadata": {
    "papermill": {
     "duration": 0.013221,
     "end_time": "2023-04-21T13:38:06.705699",
     "exception": false,
     "start_time": "2023-04-21T13:38:06.692478",
     "status": "completed"
    },
    "tags": []
   },
   "source": [
    "This lesson will cover two essential Python types: **strings** and **dictionaries**."
   ]
  },
  {
   "cell_type": "markdown",
   "id": "878d5ad2",
   "metadata": {
    "papermill": {
     "duration": 0.012358,
     "end_time": "2023-04-21T13:38:06.729906",
     "exception": false,
     "start_time": "2023-04-21T13:38:06.717548",
     "status": "completed"
    },
    "tags": []
   },
   "source": [
    "# Strings"
   ]
  },
  {
   "cell_type": "markdown",
   "id": "70bbb790",
   "metadata": {
    "papermill": {
     "duration": 0.012488,
     "end_time": "2023-04-21T13:38:06.757846",
     "exception": false,
     "start_time": "2023-04-21T13:38:06.745358",
     "status": "completed"
    },
    "tags": []
   },
   "source": [
    "One place where the Python language really shines is in the manipulation of strings.\n",
    "This section will cover some of Python's built-in string methods and formatting operations.\n",
    "\n",
    "Such string manipulation patterns come up often in the context of data science work.\n",
    "\n",
    "## String syntax\n",
    "\n",
    "You've already seen plenty of strings in examples during the previous lessons, but just to recap, strings in Python can be defined using either single or double quotations. They are functionally equivalent."
   ]
  },
  {
   "cell_type": "code",
   "execution_count": 1,
   "id": "f403dbbc",
   "metadata": {
    "execution": {
     "iopub.execute_input": "2023-04-21T13:38:06.797727Z",
     "iopub.status.busy": "2023-04-21T13:38:06.797138Z",
     "iopub.status.idle": "2023-04-21T13:38:06.814537Z",
     "shell.execute_reply": "2023-04-21T13:38:06.813246Z"
    },
    "papermill": {
     "duration": 0.040443,
     "end_time": "2023-04-21T13:38:06.817310",
     "exception": false,
     "start_time": "2023-04-21T13:38:06.776867",
     "status": "completed"
    },
    "tags": []
   },
   "outputs": [
    {
     "data": {
      "text/plain": [
       "True"
      ]
     },
     "execution_count": 1,
     "metadata": {},
     "output_type": "execute_result"
    }
   ],
   "source": [
    "x = 'Pluto is a planet'\n",
    "y = \"Pluto is a planet\"\n",
    "x == y"
   ]
  },
  {
   "cell_type": "markdown",
   "id": "87fc2e1b",
   "metadata": {
    "papermill": {
     "duration": 0.011975,
     "end_time": "2023-04-21T13:38:06.841743",
     "exception": false,
     "start_time": "2023-04-21T13:38:06.829768",
     "status": "completed"
    },
    "tags": []
   },
   "source": [
    "Double quotes are convenient if your string contains a single quote character (e.g. representing an apostrophe).\n",
    "\n",
    "Similarly, it's easy to create a string that contains double-quotes if you wrap it in single quotes:"
   ]
  },
  {
   "cell_type": "code",
   "execution_count": 2,
   "id": "0b903411",
   "metadata": {
    "execution": {
     "iopub.execute_input": "2023-04-21T13:38:06.870780Z",
     "iopub.status.busy": "2023-04-21T13:38:06.870237Z",
     "iopub.status.idle": "2023-04-21T13:38:06.877099Z",
     "shell.execute_reply": "2023-04-21T13:38:06.875928Z"
    },
    "papermill": {
     "duration": 0.025487,
     "end_time": "2023-04-21T13:38:06.879493",
     "exception": false,
     "start_time": "2023-04-21T13:38:06.854006",
     "status": "completed"
    },
    "tags": []
   },
   "outputs": [
    {
     "name": "stdout",
     "output_type": "stream",
     "text": [
      "Pluto's a planet!\n",
      "My dog is named \"Pluto\"\n"
     ]
    }
   ],
   "source": [
    "print(\"Pluto's a planet!\")\n",
    "print('My dog is named \"Pluto\"')"
   ]
  },
  {
   "cell_type": "markdown",
   "id": "87aa222c",
   "metadata": {
    "papermill": {
     "duration": 0.01271,
     "end_time": "2023-04-21T13:38:06.904386",
     "exception": false,
     "start_time": "2023-04-21T13:38:06.891676",
     "status": "completed"
    },
    "tags": []
   },
   "source": [
    "If we try to put a single quote character inside a single-quoted string, Python gets confused:"
   ]
  },
  {
   "cell_type": "code",
   "execution_count": 3,
   "id": "4783cee4",
   "metadata": {
    "execution": {
     "iopub.execute_input": "2023-04-21T13:38:06.933087Z",
     "iopub.status.busy": "2023-04-21T13:38:06.932124Z",
     "iopub.status.idle": "2023-04-21T13:38:06.939557Z",
     "shell.execute_reply": "2023-04-21T13:38:06.938551Z"
    },
    "papermill": {
     "duration": 0.024853,
     "end_time": "2023-04-21T13:38:06.942104",
     "exception": false,
     "start_time": "2023-04-21T13:38:06.917251",
     "status": "completed"
    },
    "tags": [
     "raises-exception"
    ]
   },
   "outputs": [
    {
     "ename": "SyntaxError",
     "evalue": "invalid syntax (1561186517.py, line 1)",
     "output_type": "error",
     "traceback": [
      "\u001b[0;36m  File \u001b[0;32m\"/tmp/ipykernel_19/1561186517.py\"\u001b[0;36m, line \u001b[0;32m1\u001b[0m\n\u001b[0;31m    'Pluto's a planet!'\u001b[0m\n\u001b[0m           ^\u001b[0m\n\u001b[0;31mSyntaxError\u001b[0m\u001b[0;31m:\u001b[0m invalid syntax\n"
     ]
    }
   ],
   "source": [
    "'Pluto's a planet!'"
   ]
  },
  {
   "cell_type": "markdown",
   "id": "7630def2",
   "metadata": {
    "papermill": {
     "duration": 0.012546,
     "end_time": "2023-04-21T13:38:06.967312",
     "exception": false,
     "start_time": "2023-04-21T13:38:06.954766",
     "status": "completed"
    },
    "tags": []
   },
   "source": [
    "We can fix this by \"escaping\" the single quote with a backslash. "
   ]
  },
  {
   "cell_type": "code",
   "execution_count": 4,
   "id": "096644be",
   "metadata": {
    "execution": {
     "iopub.execute_input": "2023-04-21T13:38:06.995729Z",
     "iopub.status.busy": "2023-04-21T13:38:06.994287Z",
     "iopub.status.idle": "2023-04-21T13:38:07.004330Z",
     "shell.execute_reply": "2023-04-21T13:38:07.003124Z"
    },
    "papermill": {
     "duration": 0.027892,
     "end_time": "2023-04-21T13:38:07.007915",
     "exception": false,
     "start_time": "2023-04-21T13:38:06.980023",
     "status": "completed"
    },
    "tags": []
   },
   "outputs": [
    {
     "data": {
      "text/plain": [
       "\"Pluto's a planet!\""
      ]
     },
     "execution_count": 4,
     "metadata": {},
     "output_type": "execute_result"
    }
   ],
   "source": [
    "'Pluto\\'s a planet!'"
   ]
  },
  {
   "cell_type": "markdown",
   "id": "a876deea",
   "metadata": {
    "papermill": {
     "duration": 0.012455,
     "end_time": "2023-04-21T13:38:07.040745",
     "exception": false,
     "start_time": "2023-04-21T13:38:07.028290",
     "status": "completed"
    },
    "tags": []
   },
   "source": [
    "The table below summarizes some important uses of the backslash character.\n",
    "\n",
    "| What you type... | What you get | example               | `print(example)`             |\n",
    "|--------------|----------------|--------------------------------------------------------|\n",
    "| `\\'`         | `'`            | `'What\\'s up?'`         | `What's up?`                 |  \n",
    "| `\\\"`         | `\"`            | `\"That's \\\"cool\\\"\"`     | `That's \"cool\"`              |  \n",
    "| `\\\\`         | `\\`            |  `\"Look, a mountain: /\\\\\"` |  `Look, a mountain: /\\`  |\n",
    "| `\\n`        |   <br/>      |   `\"1\\n2 3\"`                       |   `1`<br/>`2 3`              |"
   ]
  },
  {
   "cell_type": "markdown",
   "id": "8f94fb0f",
   "metadata": {
    "papermill": {
     "duration": 0.012208,
     "end_time": "2023-04-21T13:38:07.065466",
     "exception": false,
     "start_time": "2023-04-21T13:38:07.053258",
     "status": "completed"
    },
    "tags": []
   },
   "source": [
    "The last sequence, `\\n`, represents the *newline character*. It causes Python to start a new line."
   ]
  },
  {
   "cell_type": "code",
   "execution_count": 5,
   "id": "a7365b79",
   "metadata": {
    "execution": {
     "iopub.execute_input": "2023-04-21T13:38:07.092821Z",
     "iopub.status.busy": "2023-04-21T13:38:07.092324Z",
     "iopub.status.idle": "2023-04-21T13:38:07.099068Z",
     "shell.execute_reply": "2023-04-21T13:38:07.097543Z"
    },
    "papermill": {
     "duration": 0.023213,
     "end_time": "2023-04-21T13:38:07.101524",
     "exception": false,
     "start_time": "2023-04-21T13:38:07.078311",
     "status": "completed"
    },
    "tags": []
   },
   "outputs": [
    {
     "name": "stdout",
     "output_type": "stream",
     "text": [
      "hello\n",
      "world\n"
     ]
    }
   ],
   "source": [
    "hello = \"hello\\nworld\"\n",
    "print(hello)"
   ]
  },
  {
   "cell_type": "markdown",
   "id": "1fad4e62",
   "metadata": {
    "papermill": {
     "duration": 0.013592,
     "end_time": "2023-04-21T13:38:07.127875",
     "exception": false,
     "start_time": "2023-04-21T13:38:07.114283",
     "status": "completed"
    },
    "tags": []
   },
   "source": [
    "In addition, Python's triple quote syntax for strings lets us include newlines literally (i.e. by just hitting 'Enter' on our keyboard, rather than using the special '\\n' sequence). We've already seen this in the docstrings we use to document our functions, but we can use them anywhere we want to define a string."
   ]
  },
  {
   "cell_type": "code",
   "execution_count": 6,
   "id": "b9272225",
   "metadata": {
    "execution": {
     "iopub.execute_input": "2023-04-21T13:38:07.158977Z",
     "iopub.status.busy": "2023-04-21T13:38:07.157907Z",
     "iopub.status.idle": "2023-04-21T13:38:07.170841Z",
     "shell.execute_reply": "2023-04-21T13:38:07.168949Z"
    },
    "papermill": {
     "duration": 0.031972,
     "end_time": "2023-04-21T13:38:07.174048",
     "exception": false,
     "start_time": "2023-04-21T13:38:07.142076",
     "status": "completed"
    },
    "tags": []
   },
   "outputs": [
    {
     "name": "stdout",
     "output_type": "stream",
     "text": [
      "hello\n",
      "world\n"
     ]
    },
    {
     "data": {
      "text/plain": [
       "True"
      ]
     },
     "execution_count": 6,
     "metadata": {},
     "output_type": "execute_result"
    }
   ],
   "source": [
    "triplequoted_hello = \"\"\"hello\n",
    "world\"\"\"\n",
    "print(triplequoted_hello)\n",
    "triplequoted_hello == hello"
   ]
  },
  {
   "cell_type": "markdown",
   "id": "8087f1f9",
   "metadata": {
    "papermill": {
     "duration": 0.020711,
     "end_time": "2023-04-21T13:38:07.214277",
     "exception": false,
     "start_time": "2023-04-21T13:38:07.193566",
     "status": "completed"
    },
    "tags": []
   },
   "source": [
    "The `print()` function automatically adds a newline character unless we specify a value for the keyword argument `end` other than the default value of `'\\n'`:"
   ]
  },
  {
   "cell_type": "code",
   "execution_count": 7,
   "id": "dca5f6e6",
   "metadata": {
    "execution": {
     "iopub.execute_input": "2023-04-21T13:38:07.242750Z",
     "iopub.status.busy": "2023-04-21T13:38:07.241463Z",
     "iopub.status.idle": "2023-04-21T13:38:07.249298Z",
     "shell.execute_reply": "2023-04-21T13:38:07.248036Z"
    },
    "papermill": {
     "duration": 0.024321,
     "end_time": "2023-04-21T13:38:07.251659",
     "exception": false,
     "start_time": "2023-04-21T13:38:07.227338",
     "status": "completed"
    },
    "tags": []
   },
   "outputs": [
    {
     "name": "stdout",
     "output_type": "stream",
     "text": [
      "hello\n",
      "world\n",
      "hellopluto"
     ]
    }
   ],
   "source": [
    "print(\"hello\")\n",
    "print(\"world\")\n",
    "print(\"hello\", end='')\n",
    "print(\"pluto\", end='')"
   ]
  },
  {
   "cell_type": "markdown",
   "id": "57126e96",
   "metadata": {
    "papermill": {
     "duration": 0.012576,
     "end_time": "2023-04-21T13:38:07.277506",
     "exception": false,
     "start_time": "2023-04-21T13:38:07.264930",
     "status": "completed"
    },
    "tags": []
   },
   "source": [
    "## Strings are sequences\n",
    "\n",
    "Strings can be thought of as sequences of characters. Almost everything we've seen that we can do to a list, we can also do to a string."
   ]
  },
  {
   "cell_type": "code",
   "execution_count": 8,
   "id": "a6502d4e",
   "metadata": {
    "execution": {
     "iopub.execute_input": "2023-04-21T13:38:07.305783Z",
     "iopub.status.busy": "2023-04-21T13:38:07.305252Z",
     "iopub.status.idle": "2023-04-21T13:38:07.313396Z",
     "shell.execute_reply": "2023-04-21T13:38:07.312056Z"
    },
    "papermill": {
     "duration": 0.025697,
     "end_time": "2023-04-21T13:38:07.316166",
     "exception": false,
     "start_time": "2023-04-21T13:38:07.290469",
     "status": "completed"
    },
    "tags": []
   },
   "outputs": [
    {
     "data": {
      "text/plain": [
       "'P'"
      ]
     },
     "execution_count": 8,
     "metadata": {},
     "output_type": "execute_result"
    }
   ],
   "source": [
    "# Indexing\n",
    "planet = 'Pluto'\n",
    "planet[0]"
   ]
  },
  {
   "cell_type": "code",
   "execution_count": 9,
   "id": "70d51a2d",
   "metadata": {
    "execution": {
     "iopub.execute_input": "2023-04-21T13:38:07.345404Z",
     "iopub.status.busy": "2023-04-21T13:38:07.344129Z",
     "iopub.status.idle": "2023-04-21T13:38:07.352791Z",
     "shell.execute_reply": "2023-04-21T13:38:07.351521Z"
    },
    "papermill": {
     "duration": 0.025813,
     "end_time": "2023-04-21T13:38:07.355296",
     "exception": false,
     "start_time": "2023-04-21T13:38:07.329483",
     "status": "completed"
    },
    "tags": []
   },
   "outputs": [
    {
     "data": {
      "text/plain": [
       "'uto'"
      ]
     },
     "execution_count": 9,
     "metadata": {},
     "output_type": "execute_result"
    }
   ],
   "source": [
    "# Slicing\n",
    "planet[-3:]"
   ]
  },
  {
   "cell_type": "code",
   "execution_count": 10,
   "id": "b731ebf7",
   "metadata": {
    "execution": {
     "iopub.execute_input": "2023-04-21T13:38:07.384288Z",
     "iopub.status.busy": "2023-04-21T13:38:07.383394Z",
     "iopub.status.idle": "2023-04-21T13:38:07.391754Z",
     "shell.execute_reply": "2023-04-21T13:38:07.390455Z"
    },
    "papermill": {
     "duration": 0.025153,
     "end_time": "2023-04-21T13:38:07.394081",
     "exception": false,
     "start_time": "2023-04-21T13:38:07.368928",
     "status": "completed"
    },
    "tags": []
   },
   "outputs": [
    {
     "data": {
      "text/plain": [
       "5"
      ]
     },
     "execution_count": 10,
     "metadata": {},
     "output_type": "execute_result"
    }
   ],
   "source": [
    "# How long is this string?\n",
    "len(planet)"
   ]
  },
  {
   "cell_type": "code",
   "execution_count": 11,
   "id": "3c6fd7f0",
   "metadata": {
    "execution": {
     "iopub.execute_input": "2023-04-21T13:38:07.423278Z",
     "iopub.status.busy": "2023-04-21T13:38:07.421920Z",
     "iopub.status.idle": "2023-04-21T13:38:07.430907Z",
     "shell.execute_reply": "2023-04-21T13:38:07.429549Z"
    },
    "papermill": {
     "duration": 0.026145,
     "end_time": "2023-04-21T13:38:07.433468",
     "exception": false,
     "start_time": "2023-04-21T13:38:07.407323",
     "status": "completed"
    },
    "tags": []
   },
   "outputs": [
    {
     "data": {
      "text/plain": [
       "['P! ', 'l! ', 'u! ', 't! ', 'o! ']"
      ]
     },
     "execution_count": 11,
     "metadata": {},
     "output_type": "execute_result"
    }
   ],
   "source": [
    "# Yes, we can even loop over them\n",
    "[char+'! ' for char in planet]"
   ]
  },
  {
   "cell_type": "markdown",
   "id": "f5a98b29",
   "metadata": {
    "papermill": {
     "duration": 0.013241,
     "end_time": "2023-04-21T13:38:07.460749",
     "exception": false,
     "start_time": "2023-04-21T13:38:07.447508",
     "status": "completed"
    },
    "tags": []
   },
   "source": [
    "But a major way in which they differ from lists is that they are *immutable*. We can't modify them."
   ]
  },
  {
   "cell_type": "code",
   "execution_count": 12,
   "id": "968de854",
   "metadata": {
    "execution": {
     "iopub.execute_input": "2023-04-21T13:38:07.490711Z",
     "iopub.status.busy": "2023-04-21T13:38:07.490163Z",
     "iopub.status.idle": "2023-04-21T13:38:07.557864Z",
     "shell.execute_reply": "2023-04-21T13:38:07.556503Z"
    },
    "papermill": {
     "duration": 0.086305,
     "end_time": "2023-04-21T13:38:07.560591",
     "exception": false,
     "start_time": "2023-04-21T13:38:07.474286",
     "status": "completed"
    },
    "tags": [
     "raises-exception"
    ]
   },
   "outputs": [
    {
     "ename": "TypeError",
     "evalue": "'str' object does not support item assignment",
     "output_type": "error",
     "traceback": [
      "\u001b[0;31m---------------------------------------------------------------------------\u001b[0m",
      "\u001b[0;31mTypeError\u001b[0m                                 Traceback (most recent call last)",
      "\u001b[0;32m/tmp/ipykernel_19/2683731249.py\u001b[0m in \u001b[0;36m<module>\u001b[0;34m\u001b[0m\n\u001b[0;32m----> 1\u001b[0;31m \u001b[0mplanet\u001b[0m\u001b[0;34m[\u001b[0m\u001b[0;36m0\u001b[0m\u001b[0;34m]\u001b[0m \u001b[0;34m=\u001b[0m \u001b[0;34m'B'\u001b[0m\u001b[0;34m\u001b[0m\u001b[0;34m\u001b[0m\u001b[0m\n\u001b[0m\u001b[1;32m      2\u001b[0m \u001b[0;31m# planet.append doesn't work either\u001b[0m\u001b[0;34m\u001b[0m\u001b[0;34m\u001b[0m\u001b[0;34m\u001b[0m\u001b[0m\n",
      "\u001b[0;31mTypeError\u001b[0m: 'str' object does not support item assignment"
     ]
    }
   ],
   "source": [
    "planet[0] = 'B'\n",
    "# planet.append doesn't work either"
   ]
  },
  {
   "cell_type": "markdown",
   "id": "c7b63f2d",
   "metadata": {
    "papermill": {
     "duration": 0.013265,
     "end_time": "2023-04-21T13:38:07.587538",
     "exception": false,
     "start_time": "2023-04-21T13:38:07.574273",
     "status": "completed"
    },
    "tags": []
   },
   "source": [
    "## String methods\n",
    "\n",
    "Like `list`, the type `str` has lots of very useful methods. I'll show just a few examples here."
   ]
  },
  {
   "cell_type": "code",
   "execution_count": 13,
   "id": "9fe3dcdd",
   "metadata": {
    "execution": {
     "iopub.execute_input": "2023-04-21T13:38:07.617432Z",
     "iopub.status.busy": "2023-04-21T13:38:07.616686Z",
     "iopub.status.idle": "2023-04-21T13:38:07.624736Z",
     "shell.execute_reply": "2023-04-21T13:38:07.623405Z"
    },
    "papermill": {
     "duration": 0.025651,
     "end_time": "2023-04-21T13:38:07.627334",
     "exception": false,
     "start_time": "2023-04-21T13:38:07.601683",
     "status": "completed"
    },
    "tags": []
   },
   "outputs": [
    {
     "data": {
      "text/plain": [
       "'PLUTO IS A PLANET!'"
      ]
     },
     "execution_count": 13,
     "metadata": {},
     "output_type": "execute_result"
    }
   ],
   "source": [
    "# ALL CAPS\n",
    "claim = \"Pluto is a planet!\"\n",
    "claim.upper()"
   ]
  },
  {
   "cell_type": "code",
   "execution_count": 14,
   "id": "1488e08f",
   "metadata": {
    "execution": {
     "iopub.execute_input": "2023-04-21T13:38:07.656885Z",
     "iopub.status.busy": "2023-04-21T13:38:07.656297Z",
     "iopub.status.idle": "2023-04-21T13:38:07.663457Z",
     "shell.execute_reply": "2023-04-21T13:38:07.662343Z"
    },
    "papermill": {
     "duration": 0.024863,
     "end_time": "2023-04-21T13:38:07.666009",
     "exception": false,
     "start_time": "2023-04-21T13:38:07.641146",
     "status": "completed"
    },
    "tags": []
   },
   "outputs": [
    {
     "data": {
      "text/plain": [
       "'pluto is a planet!'"
      ]
     },
     "execution_count": 14,
     "metadata": {},
     "output_type": "execute_result"
    }
   ],
   "source": [
    "# all lowercase\n",
    "claim.lower()"
   ]
  },
  {
   "cell_type": "code",
   "execution_count": 15,
   "id": "94346194",
   "metadata": {
    "execution": {
     "iopub.execute_input": "2023-04-21T13:38:07.696529Z",
     "iopub.status.busy": "2023-04-21T13:38:07.696007Z",
     "iopub.status.idle": "2023-04-21T13:38:07.704490Z",
     "shell.execute_reply": "2023-04-21T13:38:07.703176Z"
    },
    "papermill": {
     "duration": 0.027107,
     "end_time": "2023-04-21T13:38:07.707244",
     "exception": false,
     "start_time": "2023-04-21T13:38:07.680137",
     "status": "completed"
    },
    "tags": []
   },
   "outputs": [
    {
     "data": {
      "text/plain": [
       "11"
      ]
     },
     "execution_count": 15,
     "metadata": {},
     "output_type": "execute_result"
    }
   ],
   "source": [
    "# Searching for the first index of a substring\n",
    "claim.index('plan')"
   ]
  },
  {
   "cell_type": "code",
   "execution_count": 16,
   "id": "ef33a0ce",
   "metadata": {
    "execution": {
     "iopub.execute_input": "2023-04-21T13:38:07.741782Z",
     "iopub.status.busy": "2023-04-21T13:38:07.740749Z",
     "iopub.status.idle": "2023-04-21T13:38:07.747185Z",
     "shell.execute_reply": "2023-04-21T13:38:07.746333Z"
    },
    "papermill": {
     "duration": 0.024361,
     "end_time": "2023-04-21T13:38:07.749432",
     "exception": false,
     "start_time": "2023-04-21T13:38:07.725071",
     "status": "completed"
    },
    "tags": []
   },
   "outputs": [
    {
     "data": {
      "text/plain": [
       "True"
      ]
     },
     "execution_count": 16,
     "metadata": {},
     "output_type": "execute_result"
    }
   ],
   "source": [
    "claim.startswith(planet)"
   ]
  },
  {
   "cell_type": "code",
   "execution_count": 17,
   "id": "28560f85",
   "metadata": {
    "execution": {
     "iopub.execute_input": "2023-04-21T13:38:07.781215Z",
     "iopub.status.busy": "2023-04-21T13:38:07.780213Z",
     "iopub.status.idle": "2023-04-21T13:38:07.787155Z",
     "shell.execute_reply": "2023-04-21T13:38:07.785965Z"
    },
    "papermill": {
     "duration": 0.025134,
     "end_time": "2023-04-21T13:38:07.789516",
     "exception": false,
     "start_time": "2023-04-21T13:38:07.764382",
     "status": "completed"
    },
    "tags": []
   },
   "outputs": [
    {
     "data": {
      "text/plain": [
       "False"
      ]
     },
     "execution_count": 17,
     "metadata": {},
     "output_type": "execute_result"
    }
   ],
   "source": [
    "# false because of missing exclamation mark\n",
    "claim.endswith('planet')"
   ]
  },
  {
   "cell_type": "markdown",
   "id": "73420430",
   "metadata": {
    "papermill": {
     "duration": 0.014422,
     "end_time": "2023-04-21T13:38:07.818533",
     "exception": false,
     "start_time": "2023-04-21T13:38:07.804111",
     "status": "completed"
    },
    "tags": []
   },
   "source": [
    "### Going between strings and lists: `.split()` and `.join()`\n",
    "\n",
    "`str.split()` turns a string into a list of smaller strings, breaking on whitespace by default. This is super useful for taking you from one big string to a list of words."
   ]
  },
  {
   "cell_type": "code",
   "execution_count": 18,
   "id": "01265e34",
   "metadata": {
    "execution": {
     "iopub.execute_input": "2023-04-21T13:38:07.850302Z",
     "iopub.status.busy": "2023-04-21T13:38:07.849862Z",
     "iopub.status.idle": "2023-04-21T13:38:07.856320Z",
     "shell.execute_reply": "2023-04-21T13:38:07.855470Z"
    },
    "papermill": {
     "duration": 0.024734,
     "end_time": "2023-04-21T13:38:07.858514",
     "exception": false,
     "start_time": "2023-04-21T13:38:07.833780",
     "status": "completed"
    },
    "tags": []
   },
   "outputs": [
    {
     "data": {
      "text/plain": [
       "['Pluto', 'is', 'a', 'planet!']"
      ]
     },
     "execution_count": 18,
     "metadata": {},
     "output_type": "execute_result"
    }
   ],
   "source": [
    "words = claim.split()\n",
    "words"
   ]
  },
  {
   "cell_type": "markdown",
   "id": "353efa29",
   "metadata": {
    "papermill": {
     "duration": 0.014408,
     "end_time": "2023-04-21T13:38:07.888094",
     "exception": false,
     "start_time": "2023-04-21T13:38:07.873686",
     "status": "completed"
    },
    "tags": []
   },
   "source": [
    "Occasionally you'll want to split on something other than whitespace:"
   ]
  },
  {
   "cell_type": "code",
   "execution_count": 19,
   "id": "a2027344",
   "metadata": {
    "collapsed": true,
    "execution": {
     "iopub.execute_input": "2023-04-21T13:38:07.920025Z",
     "iopub.status.busy": "2023-04-21T13:38:07.919267Z",
     "iopub.status.idle": "2023-04-21T13:38:07.924371Z",
     "shell.execute_reply": "2023-04-21T13:38:07.923111Z"
    },
    "papermill": {
     "duration": 0.024343,
     "end_time": "2023-04-21T13:38:07.927240",
     "exception": false,
     "start_time": "2023-04-21T13:38:07.902897",
     "status": "completed"
    },
    "tags": []
   },
   "outputs": [],
   "source": [
    "datestr = '1956-01-31'\n",
    "year, month, day = datestr.split('-')"
   ]
  },
  {
   "cell_type": "markdown",
   "id": "f357bd83",
   "metadata": {
    "papermill": {
     "duration": 0.015167,
     "end_time": "2023-04-21T13:38:07.957302",
     "exception": false,
     "start_time": "2023-04-21T13:38:07.942135",
     "status": "completed"
    },
    "tags": []
   },
   "source": [
    "`str.join()` takes us in the other direction, sewing a list of strings up into one long string, using the string it was called on as a separator."
   ]
  },
  {
   "cell_type": "code",
   "execution_count": 20,
   "id": "036086df",
   "metadata": {
    "execution": {
     "iopub.execute_input": "2023-04-21T13:38:07.989402Z",
     "iopub.status.busy": "2023-04-21T13:38:07.988624Z",
     "iopub.status.idle": "2023-04-21T13:38:07.996128Z",
     "shell.execute_reply": "2023-04-21T13:38:07.994832Z"
    },
    "papermill": {
     "duration": 0.026513,
     "end_time": "2023-04-21T13:38:07.998560",
     "exception": false,
     "start_time": "2023-04-21T13:38:07.972047",
     "status": "completed"
    },
    "tags": []
   },
   "outputs": [
    {
     "data": {
      "text/plain": [
       "'01/31/1956'"
      ]
     },
     "execution_count": 20,
     "metadata": {},
     "output_type": "execute_result"
    }
   ],
   "source": [
    "'/'.join([month, day, year])"
   ]
  },
  {
   "cell_type": "code",
   "execution_count": 21,
   "id": "fb0df3f0",
   "metadata": {
    "execution": {
     "iopub.execute_input": "2023-04-21T13:38:08.030153Z",
     "iopub.status.busy": "2023-04-21T13:38:08.029641Z",
     "iopub.status.idle": "2023-04-21T13:38:08.037452Z",
     "shell.execute_reply": "2023-04-21T13:38:08.036202Z"
    },
    "papermill": {
     "duration": 0.026467,
     "end_time": "2023-04-21T13:38:08.039799",
     "exception": false,
     "start_time": "2023-04-21T13:38:08.013332",
     "status": "completed"
    },
    "tags": []
   },
   "outputs": [
    {
     "data": {
      "text/plain": [
       "'PLUTO 👏 IS 👏 A 👏 PLANET!'"
      ]
     },
     "execution_count": 21,
     "metadata": {},
     "output_type": "execute_result"
    }
   ],
   "source": [
    "# Yes, we can put unicode characters right in our string literals :)\n",
    "' 👏 '.join([word.upper() for word in words])"
   ]
  },
  {
   "cell_type": "markdown",
   "id": "4beeb634",
   "metadata": {
    "papermill": {
     "duration": 0.014597,
     "end_time": "2023-04-21T13:38:08.069458",
     "exception": false,
     "start_time": "2023-04-21T13:38:08.054861",
     "status": "completed"
    },
    "tags": []
   },
   "source": [
    "### Building strings with `.format()`\n",
    "\n",
    "Python lets us concatenate strings with the `+` operator."
   ]
  },
  {
   "cell_type": "code",
   "execution_count": 22,
   "id": "d041e5ef",
   "metadata": {
    "execution": {
     "iopub.execute_input": "2023-04-21T13:38:08.102159Z",
     "iopub.status.busy": "2023-04-21T13:38:08.100866Z",
     "iopub.status.idle": "2023-04-21T13:38:08.107285Z",
     "shell.execute_reply": "2023-04-21T13:38:08.106447Z"
    },
    "papermill": {
     "duration": 0.02524,
     "end_time": "2023-04-21T13:38:08.109667",
     "exception": false,
     "start_time": "2023-04-21T13:38:08.084427",
     "status": "completed"
    },
    "tags": []
   },
   "outputs": [
    {
     "data": {
      "text/plain": [
       "'Pluto, we miss you.'"
      ]
     },
     "execution_count": 22,
     "metadata": {},
     "output_type": "execute_result"
    }
   ],
   "source": [
    "planet + ', we miss you.'"
   ]
  },
  {
   "cell_type": "markdown",
   "id": "28a53631",
   "metadata": {
    "papermill": {
     "duration": 0.015093,
     "end_time": "2023-04-21T13:38:08.140049",
     "exception": false,
     "start_time": "2023-04-21T13:38:08.124956",
     "status": "completed"
    },
    "tags": []
   },
   "source": [
    "If we want to throw in any non-string objects, we have to be careful to call `str()` on them first"
   ]
  },
  {
   "cell_type": "code",
   "execution_count": 23,
   "id": "90a89802",
   "metadata": {
    "execution": {
     "iopub.execute_input": "2023-04-21T13:38:08.173104Z",
     "iopub.status.busy": "2023-04-21T13:38:08.172653Z",
     "iopub.status.idle": "2023-04-21T13:38:08.188286Z",
     "shell.execute_reply": "2023-04-21T13:38:08.187416Z"
    },
    "papermill": {
     "duration": 0.035268,
     "end_time": "2023-04-21T13:38:08.190712",
     "exception": false,
     "start_time": "2023-04-21T13:38:08.155444",
     "status": "completed"
    },
    "tags": [
     "raises-exception"
    ]
   },
   "outputs": [
    {
     "ename": "TypeError",
     "evalue": "can only concatenate str (not \"int\") to str",
     "output_type": "error",
     "traceback": [
      "\u001b[0;31m---------------------------------------------------------------------------\u001b[0m",
      "\u001b[0;31mTypeError\u001b[0m                                 Traceback (most recent call last)",
      "\u001b[0;32m/tmp/ipykernel_19/1802981568.py\u001b[0m in \u001b[0;36m<module>\u001b[0;34m\u001b[0m\n\u001b[1;32m      1\u001b[0m \u001b[0mposition\u001b[0m \u001b[0;34m=\u001b[0m \u001b[0;36m9\u001b[0m\u001b[0;34m\u001b[0m\u001b[0;34m\u001b[0m\u001b[0m\n\u001b[0;32m----> 2\u001b[0;31m \u001b[0mplanet\u001b[0m \u001b[0;34m+\u001b[0m \u001b[0;34m\", you'll always be the \"\u001b[0m \u001b[0;34m+\u001b[0m \u001b[0mposition\u001b[0m \u001b[0;34m+\u001b[0m \u001b[0;34m\"th planet to me.\"\u001b[0m\u001b[0;34m\u001b[0m\u001b[0;34m\u001b[0m\u001b[0m\n\u001b[0m",
      "\u001b[0;31mTypeError\u001b[0m: can only concatenate str (not \"int\") to str"
     ]
    }
   ],
   "source": [
    "position = 9\n",
    "planet + \", you'll always be the \" + position + \"th planet to me.\""
   ]
  },
  {
   "cell_type": "code",
   "execution_count": 24,
   "id": "360f41bc",
   "metadata": {
    "execution": {
     "iopub.execute_input": "2023-04-21T13:38:08.224687Z",
     "iopub.status.busy": "2023-04-21T13:38:08.223678Z",
     "iopub.status.idle": "2023-04-21T13:38:08.230845Z",
     "shell.execute_reply": "2023-04-21T13:38:08.229810Z"
    },
    "papermill": {
     "duration": 0.026825,
     "end_time": "2023-04-21T13:38:08.233092",
     "exception": false,
     "start_time": "2023-04-21T13:38:08.206267",
     "status": "completed"
    },
    "tags": []
   },
   "outputs": [
    {
     "data": {
      "text/plain": [
       "\"Pluto, you'll always be the 9th planet to me.\""
      ]
     },
     "execution_count": 24,
     "metadata": {},
     "output_type": "execute_result"
    }
   ],
   "source": [
    "planet + \", you'll always be the \" + str(position) + \"th planet to me.\""
   ]
  },
  {
   "cell_type": "markdown",
   "id": "80a81650",
   "metadata": {
    "papermill": {
     "duration": 0.015109,
     "end_time": "2023-04-21T13:38:08.264024",
     "exception": false,
     "start_time": "2023-04-21T13:38:08.248915",
     "status": "completed"
    },
    "tags": []
   },
   "source": [
    "This is getting hard to read and annoying to type. `str.format()` to the rescue."
   ]
  },
  {
   "cell_type": "code",
   "execution_count": 25,
   "id": "64735ea3",
   "metadata": {
    "execution": {
     "iopub.execute_input": "2023-04-21T13:38:08.297448Z",
     "iopub.status.busy": "2023-04-21T13:38:08.296381Z",
     "iopub.status.idle": "2023-04-21T13:38:08.303115Z",
     "shell.execute_reply": "2023-04-21T13:38:08.301926Z"
    },
    "papermill": {
     "duration": 0.025884,
     "end_time": "2023-04-21T13:38:08.305593",
     "exception": false,
     "start_time": "2023-04-21T13:38:08.279709",
     "status": "completed"
    },
    "tags": []
   },
   "outputs": [
    {
     "data": {
      "text/plain": [
       "\"Pluto, you'll always be the 9th planet to me.\""
      ]
     },
     "execution_count": 25,
     "metadata": {},
     "output_type": "execute_result"
    }
   ],
   "source": [
    "\"{}, you'll always be the {}th planet to me.\".format(planet, position)"
   ]
  },
  {
   "cell_type": "markdown",
   "id": "5144d940",
   "metadata": {
    "papermill": {
     "duration": 0.015141,
     "end_time": "2023-04-21T13:38:08.336363",
     "exception": false,
     "start_time": "2023-04-21T13:38:08.321222",
     "status": "completed"
    },
    "tags": []
   },
   "source": [
    "So much cleaner! We call `.format()` on a \"format string\", where the Python values we want to insert are represented with `{}` placeholders.\n",
    "\n",
    "Notice how we didn't even have to call `str()` to convert `position` from an int. `format()` takes care of that for us.\n",
    "\n",
    "If that was all that `format()` did, it would still be incredibly useful. But as it turns out, it can do a *lot* more. Here's just a taste:"
   ]
  },
  {
   "cell_type": "code",
   "execution_count": 26,
   "id": "1d1d2467",
   "metadata": {
    "execution": {
     "iopub.execute_input": "2023-04-21T13:38:08.369937Z",
     "iopub.status.busy": "2023-04-21T13:38:08.368826Z",
     "iopub.status.idle": "2023-04-21T13:38:08.376663Z",
     "shell.execute_reply": "2023-04-21T13:38:08.375835Z"
    },
    "papermill": {
     "duration": 0.026994,
     "end_time": "2023-04-21T13:38:08.378839",
     "exception": false,
     "start_time": "2023-04-21T13:38:08.351845",
     "status": "completed"
    },
    "tags": []
   },
   "outputs": [
    {
     "data": {
      "text/plain": [
       "\"Pluto weighs about 1.3e+22 kilograms (0.218% of Earth's mass). It is home to 52,910,390 Plutonians.\""
      ]
     },
     "execution_count": 26,
     "metadata": {},
     "output_type": "execute_result"
    }
   ],
   "source": [
    "pluto_mass = 1.303 * 10**22\n",
    "earth_mass = 5.9722 * 10**24\n",
    "population = 52910390\n",
    "#         2 decimal points   3 decimal points, format as percent     separate with commas\n",
    "\"{} weighs about {:.2} kilograms ({:.3%} of Earth's mass). It is home to {:,} Plutonians.\".format(\n",
    "    planet, pluto_mass, pluto_mass / earth_mass, population,\n",
    ")"
   ]
  },
  {
   "cell_type": "code",
   "execution_count": 27,
   "id": "d6e459b9",
   "metadata": {
    "execution": {
     "iopub.execute_input": "2023-04-21T13:38:08.412768Z",
     "iopub.status.busy": "2023-04-21T13:38:08.411971Z",
     "iopub.status.idle": "2023-04-21T13:38:08.418112Z",
     "shell.execute_reply": "2023-04-21T13:38:08.416924Z"
    },
    "papermill": {
     "duration": 0.02575,
     "end_time": "2023-04-21T13:38:08.420513",
     "exception": false,
     "start_time": "2023-04-21T13:38:08.394763",
     "status": "completed"
    },
    "tags": []
   },
   "outputs": [
    {
     "name": "stdout",
     "output_type": "stream",
     "text": [
      "Pluto's a planet.\n",
      "No, it's a dwarf planet.\n",
      "planet!\n",
      "dwarf planet!\n"
     ]
    }
   ],
   "source": [
    "# Referring to format() arguments by index, starting from 0\n",
    "s = \"\"\"Pluto's a {0}.\n",
    "No, it's a {1}.\n",
    "{0}!\n",
    "{1}!\"\"\".format('planet', 'dwarf planet')\n",
    "print(s)"
   ]
  },
  {
   "cell_type": "markdown",
   "id": "a73578a8",
   "metadata": {
    "papermill": {
     "duration": 0.015377,
     "end_time": "2023-04-21T13:38:08.451884",
     "exception": false,
     "start_time": "2023-04-21T13:38:08.436507",
     "status": "completed"
    },
    "tags": []
   },
   "source": [
    "You could probably write a short book just on `str.format`, so I'll stop here, and point you to [pyformat.info](https://pyformat.info/) and [the official docs](https://docs.python.org/3/library/string.html#formatstrings) for further reading."
   ]
  },
  {
   "cell_type": "markdown",
   "id": "a608e937",
   "metadata": {
    "papermill": {
     "duration": 0.017304,
     "end_time": "2023-04-21T13:38:08.485642",
     "exception": false,
     "start_time": "2023-04-21T13:38:08.468338",
     "status": "completed"
    },
    "tags": []
   },
   "source": [
    "# Dictionaries\n",
    "\n",
    "Dictionaries are a built-in Python data structure for mapping keys to values."
   ]
  },
  {
   "cell_type": "code",
   "execution_count": 28,
   "id": "cbfe9c8c",
   "metadata": {
    "collapsed": true,
    "execution": {
     "iopub.execute_input": "2023-04-21T13:38:08.520331Z",
     "iopub.status.busy": "2023-04-21T13:38:08.519524Z",
     "iopub.status.idle": "2023-04-21T13:38:08.524248Z",
     "shell.execute_reply": "2023-04-21T13:38:08.523297Z"
    },
    "papermill": {
     "duration": 0.024689,
     "end_time": "2023-04-21T13:38:08.526587",
     "exception": false,
     "start_time": "2023-04-21T13:38:08.501898",
     "status": "completed"
    },
    "tags": []
   },
   "outputs": [],
   "source": [
    "numbers = {'one':1, 'two':2, 'three':3}"
   ]
  },
  {
   "cell_type": "markdown",
   "id": "8a41d6ad",
   "metadata": {
    "papermill": {
     "duration": 0.015596,
     "end_time": "2023-04-21T13:38:08.558141",
     "exception": false,
     "start_time": "2023-04-21T13:38:08.542545",
     "status": "completed"
    },
    "tags": []
   },
   "source": [
    "In this case `'one'`, `'two'`, and `'three'` are the **keys**, and 1, 2 and 3 are their corresponding values.\n",
    "\n",
    "Values are accessed via square bracket syntax similar to indexing into lists and strings."
   ]
  },
  {
   "cell_type": "code",
   "execution_count": 29,
   "id": "6c3d4753",
   "metadata": {
    "execution": {
     "iopub.execute_input": "2023-04-21T13:38:08.593955Z",
     "iopub.status.busy": "2023-04-21T13:38:08.592703Z",
     "iopub.status.idle": "2023-04-21T13:38:08.599535Z",
     "shell.execute_reply": "2023-04-21T13:38:08.598688Z"
    },
    "papermill": {
     "duration": 0.027101,
     "end_time": "2023-04-21T13:38:08.601869",
     "exception": false,
     "start_time": "2023-04-21T13:38:08.574768",
     "status": "completed"
    },
    "tags": []
   },
   "outputs": [
    {
     "data": {
      "text/plain": [
       "1"
      ]
     },
     "execution_count": 29,
     "metadata": {},
     "output_type": "execute_result"
    }
   ],
   "source": [
    "numbers['one']"
   ]
  },
  {
   "cell_type": "markdown",
   "id": "8be40504",
   "metadata": {
    "papermill": {
     "duration": 0.015936,
     "end_time": "2023-04-21T13:38:08.633900",
     "exception": false,
     "start_time": "2023-04-21T13:38:08.617964",
     "status": "completed"
    },
    "tags": []
   },
   "source": [
    "We can use the same syntax to add another key, value pair"
   ]
  },
  {
   "cell_type": "code",
   "execution_count": 30,
   "id": "56a37db7",
   "metadata": {
    "execution": {
     "iopub.execute_input": "2023-04-21T13:38:08.668884Z",
     "iopub.status.busy": "2023-04-21T13:38:08.667705Z",
     "iopub.status.idle": "2023-04-21T13:38:08.675370Z",
     "shell.execute_reply": "2023-04-21T13:38:08.674205Z"
    },
    "papermill": {
     "duration": 0.027713,
     "end_time": "2023-04-21T13:38:08.677815",
     "exception": false,
     "start_time": "2023-04-21T13:38:08.650102",
     "status": "completed"
    },
    "tags": []
   },
   "outputs": [
    {
     "data": {
      "text/plain": [
       "{'one': 1, 'two': 2, 'three': 3, 'eleven': 11}"
      ]
     },
     "execution_count": 30,
     "metadata": {},
     "output_type": "execute_result"
    }
   ],
   "source": [
    "numbers['eleven'] = 11\n",
    "numbers"
   ]
  },
  {
   "cell_type": "markdown",
   "id": "0b1d9b0f",
   "metadata": {
    "papermill": {
     "duration": 0.016469,
     "end_time": "2023-04-21T13:38:08.710841",
     "exception": false,
     "start_time": "2023-04-21T13:38:08.694372",
     "status": "completed"
    },
    "tags": []
   },
   "source": [
    "Or to change the value associated with an existing key"
   ]
  },
  {
   "cell_type": "code",
   "execution_count": 31,
   "id": "d079e0fc",
   "metadata": {
    "execution": {
     "iopub.execute_input": "2023-04-21T13:38:08.745207Z",
     "iopub.status.busy": "2023-04-21T13:38:08.744776Z",
     "iopub.status.idle": "2023-04-21T13:38:08.752042Z",
     "shell.execute_reply": "2023-04-21T13:38:08.751105Z"
    },
    "papermill": {
     "duration": 0.027356,
     "end_time": "2023-04-21T13:38:08.754522",
     "exception": false,
     "start_time": "2023-04-21T13:38:08.727166",
     "status": "completed"
    },
    "tags": []
   },
   "outputs": [
    {
     "data": {
      "text/plain": [
       "{'one': 'Pluto', 'two': 2, 'three': 3, 'eleven': 11}"
      ]
     },
     "execution_count": 31,
     "metadata": {},
     "output_type": "execute_result"
    }
   ],
   "source": [
    "numbers['one'] = 'Pluto'\n",
    "numbers"
   ]
  },
  {
   "cell_type": "markdown",
   "id": "ca33b02b",
   "metadata": {
    "papermill": {
     "duration": 0.016135,
     "end_time": "2023-04-21T13:38:08.788220",
     "exception": false,
     "start_time": "2023-04-21T13:38:08.772085",
     "status": "completed"
    },
    "tags": []
   },
   "source": [
    "Python has *dictionary comprehensions* with a syntax similar to the list comprehensions we saw in the previous tutorial."
   ]
  },
  {
   "cell_type": "code",
   "execution_count": 32,
   "id": "18b00077",
   "metadata": {
    "execution": {
     "iopub.execute_input": "2023-04-21T13:38:08.822913Z",
     "iopub.status.busy": "2023-04-21T13:38:08.822196Z",
     "iopub.status.idle": "2023-04-21T13:38:08.829330Z",
     "shell.execute_reply": "2023-04-21T13:38:08.828418Z"
    },
    "papermill": {
     "duration": 0.02724,
     "end_time": "2023-04-21T13:38:08.831624",
     "exception": false,
     "start_time": "2023-04-21T13:38:08.804384",
     "status": "completed"
    },
    "tags": []
   },
   "outputs": [
    {
     "data": {
      "text/plain": [
       "{'Mercury': 'M',\n",
       " 'Venus': 'V',\n",
       " 'Earth': 'E',\n",
       " 'Mars': 'M',\n",
       " 'Jupiter': 'J',\n",
       " 'Saturn': 'S',\n",
       " 'Uranus': 'U',\n",
       " 'Neptune': 'N'}"
      ]
     },
     "execution_count": 32,
     "metadata": {},
     "output_type": "execute_result"
    }
   ],
   "source": [
    "planets = ['Mercury', 'Venus', 'Earth', 'Mars', 'Jupiter', 'Saturn', 'Uranus', 'Neptune']\n",
    "planet_to_initial = {planet: planet[0] for planet in planets}\n",
    "planet_to_initial"
   ]
  },
  {
   "cell_type": "markdown",
   "id": "fc205858",
   "metadata": {
    "papermill": {
     "duration": 0.016063,
     "end_time": "2023-04-21T13:38:08.864244",
     "exception": false,
     "start_time": "2023-04-21T13:38:08.848181",
     "status": "completed"
    },
    "tags": []
   },
   "source": [
    "The `in` operator tells us whether something is a key in the dictionary"
   ]
  },
  {
   "cell_type": "code",
   "execution_count": 33,
   "id": "db386788",
   "metadata": {
    "execution": {
     "iopub.execute_input": "2023-04-21T13:38:08.899447Z",
     "iopub.status.busy": "2023-04-21T13:38:08.898703Z",
     "iopub.status.idle": "2023-04-21T13:38:08.904637Z",
     "shell.execute_reply": "2023-04-21T13:38:08.903764Z"
    },
    "papermill": {
     "duration": 0.026272,
     "end_time": "2023-04-21T13:38:08.906851",
     "exception": false,
     "start_time": "2023-04-21T13:38:08.880579",
     "status": "completed"
    },
    "tags": []
   },
   "outputs": [
    {
     "data": {
      "text/plain": [
       "True"
      ]
     },
     "execution_count": 33,
     "metadata": {},
     "output_type": "execute_result"
    }
   ],
   "source": [
    "'Saturn' in planet_to_initial"
   ]
  },
  {
   "cell_type": "code",
   "execution_count": 34,
   "id": "938be6cd",
   "metadata": {
    "execution": {
     "iopub.execute_input": "2023-04-21T13:38:08.942950Z",
     "iopub.status.busy": "2023-04-21T13:38:08.942516Z",
     "iopub.status.idle": "2023-04-21T13:38:08.949619Z",
     "shell.execute_reply": "2023-04-21T13:38:08.948230Z"
    },
    "papermill": {
     "duration": 0.028541,
     "end_time": "2023-04-21T13:38:08.952435",
     "exception": false,
     "start_time": "2023-04-21T13:38:08.923894",
     "status": "completed"
    },
    "tags": []
   },
   "outputs": [
    {
     "data": {
      "text/plain": [
       "False"
      ]
     },
     "execution_count": 34,
     "metadata": {},
     "output_type": "execute_result"
    }
   ],
   "source": [
    "'Betelgeuse' in planet_to_initial"
   ]
  },
  {
   "cell_type": "markdown",
   "id": "cfd31888",
   "metadata": {
    "papermill": {
     "duration": 0.016858,
     "end_time": "2023-04-21T13:38:08.986692",
     "exception": false,
     "start_time": "2023-04-21T13:38:08.969834",
     "status": "completed"
    },
    "tags": []
   },
   "source": [
    "A for loop over a dictionary will loop over its keys"
   ]
  },
  {
   "cell_type": "code",
   "execution_count": 35,
   "id": "6c850eaf",
   "metadata": {
    "execution": {
     "iopub.execute_input": "2023-04-21T13:38:09.023368Z",
     "iopub.status.busy": "2023-04-21T13:38:09.022918Z",
     "iopub.status.idle": "2023-04-21T13:38:09.028558Z",
     "shell.execute_reply": "2023-04-21T13:38:09.027686Z"
    },
    "papermill": {
     "duration": 0.026799,
     "end_time": "2023-04-21T13:38:09.030757",
     "exception": false,
     "start_time": "2023-04-21T13:38:09.003958",
     "status": "completed"
    },
    "tags": []
   },
   "outputs": [
    {
     "name": "stdout",
     "output_type": "stream",
     "text": [
      "one = Pluto\n",
      "two = 2\n",
      "three = 3\n",
      "eleven = 11\n"
     ]
    }
   ],
   "source": [
    "for k in numbers:\n",
    "    print(\"{} = {}\".format(k, numbers[k]))"
   ]
  },
  {
   "cell_type": "markdown",
   "id": "39722a35",
   "metadata": {
    "papermill": {
     "duration": 0.016921,
     "end_time": "2023-04-21T13:38:09.065463",
     "exception": false,
     "start_time": "2023-04-21T13:38:09.048542",
     "status": "completed"
    },
    "tags": []
   },
   "source": [
    "We can access a collection of all the keys or all the values with `dict.keys()` and `dict.values()`, respectively."
   ]
  },
  {
   "cell_type": "code",
   "execution_count": 36,
   "id": "c40739fc",
   "metadata": {
    "execution": {
     "iopub.execute_input": "2023-04-21T13:38:09.102361Z",
     "iopub.status.busy": "2023-04-21T13:38:09.101129Z",
     "iopub.status.idle": "2023-04-21T13:38:09.109751Z",
     "shell.execute_reply": "2023-04-21T13:38:09.108510Z"
    },
    "papermill": {
     "duration": 0.029851,
     "end_time": "2023-04-21T13:38:09.112241",
     "exception": false,
     "start_time": "2023-04-21T13:38:09.082390",
     "status": "completed"
    },
    "tags": []
   },
   "outputs": [
    {
     "data": {
      "text/plain": [
       "'E J M M N S U V'"
      ]
     },
     "execution_count": 36,
     "metadata": {},
     "output_type": "execute_result"
    }
   ],
   "source": [
    "# Get all the initials, sort them alphabetically, and put them in a space-separated string.\n",
    "' '.join(sorted(planet_to_initial.values()))"
   ]
  },
  {
   "cell_type": "markdown",
   "id": "491eef7d",
   "metadata": {
    "papermill": {
     "duration": 0.016672,
     "end_time": "2023-04-21T13:38:09.146132",
     "exception": false,
     "start_time": "2023-04-21T13:38:09.129460",
     "status": "completed"
    },
    "tags": []
   },
   "source": [
    "The very useful `dict.items()` method lets us iterate over the keys and values of a dictionary simultaneously. (In Python jargon, an **item** refers to a key, value pair)"
   ]
  },
  {
   "cell_type": "code",
   "execution_count": 37,
   "id": "37489dd4",
   "metadata": {
    "execution": {
     "iopub.execute_input": "2023-04-21T13:38:09.182861Z",
     "iopub.status.busy": "2023-04-21T13:38:09.182396Z",
     "iopub.status.idle": "2023-04-21T13:38:09.189317Z",
     "shell.execute_reply": "2023-04-21T13:38:09.187781Z"
    },
    "papermill": {
     "duration": 0.027702,
     "end_time": "2023-04-21T13:38:09.191567",
     "exception": false,
     "start_time": "2023-04-21T13:38:09.163865",
     "status": "completed"
    },
    "tags": []
   },
   "outputs": [
    {
     "name": "stdout",
     "output_type": "stream",
     "text": [
      "   Mercury begins with \"M\"\n",
      "     Venus begins with \"V\"\n",
      "     Earth begins with \"E\"\n",
      "      Mars begins with \"M\"\n",
      "   Jupiter begins with \"J\"\n",
      "    Saturn begins with \"S\"\n",
      "    Uranus begins with \"U\"\n",
      "   Neptune begins with \"N\"\n"
     ]
    }
   ],
   "source": [
    "for planet, initial in planet_to_initial.items():\n",
    "    print(\"{} begins with \\\"{}\\\"\".format(planet.rjust(10), initial))"
   ]
  },
  {
   "cell_type": "markdown",
   "id": "909ea0f7",
   "metadata": {
    "papermill": {
     "duration": 0.016869,
     "end_time": "2023-04-21T13:38:09.225825",
     "exception": false,
     "start_time": "2023-04-21T13:38:09.208956",
     "status": "completed"
    },
    "tags": []
   },
   "source": [
    "To read a full inventory of dictionaries' methods, click the \"output\" button below to read the full help page, or check out the [official online documentation](https://docs.python.org/3/library/stdtypes.html#dict)."
   ]
  },
  {
   "cell_type": "code",
   "execution_count": 38,
   "id": "c5d8de66",
   "metadata": {
    "_kg_hide-output": true,
    "collapsed": true,
    "execution": {
     "iopub.execute_input": "2023-04-21T13:38:09.262317Z",
     "iopub.status.busy": "2023-04-21T13:38:09.261875Z",
     "iopub.status.idle": "2023-04-21T13:38:09.280094Z",
     "shell.execute_reply": "2023-04-21T13:38:09.278393Z"
    },
    "papermill": {
     "duration": 0.039241,
     "end_time": "2023-04-21T13:38:09.282423",
     "exception": false,
     "start_time": "2023-04-21T13:38:09.243182",
     "status": "completed"
    },
    "tags": []
   },
   "outputs": [
    {
     "name": "stdout",
     "output_type": "stream",
     "text": [
      "Help on class dict in module builtins:\n",
      "\n",
      "class dict(object)\n",
      " |  dict() -> new empty dictionary\n",
      " |  dict(mapping) -> new dictionary initialized from a mapping object's\n",
      " |      (key, value) pairs\n",
      " |  dict(iterable) -> new dictionary initialized as if via:\n",
      " |      d = {}\n",
      " |      for k, v in iterable:\n",
      " |          d[k] = v\n",
      " |  dict(**kwargs) -> new dictionary initialized with the name=value pairs\n",
      " |      in the keyword argument list.  For example:  dict(one=1, two=2)\n",
      " |  \n",
      " |  Methods defined here:\n",
      " |  \n",
      " |  __contains__(self, key, /)\n",
      " |      True if the dictionary has the specified key, else False.\n",
      " |  \n",
      " |  __delitem__(self, key, /)\n",
      " |      Delete self[key].\n",
      " |  \n",
      " |  __eq__(self, value, /)\n",
      " |      Return self==value.\n",
      " |  \n",
      " |  __ge__(self, value, /)\n",
      " |      Return self>=value.\n",
      " |  \n",
      " |  __getattribute__(self, name, /)\n",
      " |      Return getattr(self, name).\n",
      " |  \n",
      " |  __getitem__(...)\n",
      " |      x.__getitem__(y) <==> x[y]\n",
      " |  \n",
      " |  __gt__(self, value, /)\n",
      " |      Return self>value.\n",
      " |  \n",
      " |  __init__(self, /, *args, **kwargs)\n",
      " |      Initialize self.  See help(type(self)) for accurate signature.\n",
      " |  \n",
      " |  __iter__(self, /)\n",
      " |      Implement iter(self).\n",
      " |  \n",
      " |  __le__(self, value, /)\n",
      " |      Return self<=value.\n",
      " |  \n",
      " |  __len__(self, /)\n",
      " |      Return len(self).\n",
      " |  \n",
      " |  __lt__(self, value, /)\n",
      " |      Return self<value.\n",
      " |  \n",
      " |  __ne__(self, value, /)\n",
      " |      Return self!=value.\n",
      " |  \n",
      " |  __repr__(self, /)\n",
      " |      Return repr(self).\n",
      " |  \n",
      " |  __setitem__(self, key, value, /)\n",
      " |      Set self[key] to value.\n",
      " |  \n",
      " |  __sizeof__(...)\n",
      " |      D.__sizeof__() -> size of D in memory, in bytes\n",
      " |  \n",
      " |  clear(...)\n",
      " |      D.clear() -> None.  Remove all items from D.\n",
      " |  \n",
      " |  copy(...)\n",
      " |      D.copy() -> a shallow copy of D\n",
      " |  \n",
      " |  get(self, key, default=None, /)\n",
      " |      Return the value for key if key is in the dictionary, else default.\n",
      " |  \n",
      " |  items(...)\n",
      " |      D.items() -> a set-like object providing a view on D's items\n",
      " |  \n",
      " |  keys(...)\n",
      " |      D.keys() -> a set-like object providing a view on D's keys\n",
      " |  \n",
      " |  pop(...)\n",
      " |      D.pop(k[,d]) -> v, remove specified key and return the corresponding value.\n",
      " |      If key is not found, d is returned if given, otherwise KeyError is raised\n",
      " |  \n",
      " |  popitem(...)\n",
      " |      D.popitem() -> (k, v), remove and return some (key, value) pair as a\n",
      " |      2-tuple; but raise KeyError if D is empty.\n",
      " |  \n",
      " |  setdefault(self, key, default=None, /)\n",
      " |      Insert key with a value of default if key is not in the dictionary.\n",
      " |      \n",
      " |      Return the value for key if key is in the dictionary, else default.\n",
      " |  \n",
      " |  update(...)\n",
      " |      D.update([E, ]**F) -> None.  Update D from dict/iterable E and F.\n",
      " |      If E is present and has a .keys() method, then does:  for k in E: D[k] = E[k]\n",
      " |      If E is present and lacks a .keys() method, then does:  for k, v in E: D[k] = v\n",
      " |      In either case, this is followed by: for k in F:  D[k] = F[k]\n",
      " |  \n",
      " |  values(...)\n",
      " |      D.values() -> an object providing a view on D's values\n",
      " |  \n",
      " |  ----------------------------------------------------------------------\n",
      " |  Class methods defined here:\n",
      " |  \n",
      " |  fromkeys(iterable, value=None, /) from builtins.type\n",
      " |      Create a new dictionary with keys from iterable and values set to value.\n",
      " |  \n",
      " |  ----------------------------------------------------------------------\n",
      " |  Static methods defined here:\n",
      " |  \n",
      " |  __new__(*args, **kwargs) from builtins.type\n",
      " |      Create and return a new object.  See help(type) for accurate signature.\n",
      " |  \n",
      " |  ----------------------------------------------------------------------\n",
      " |  Data and other attributes defined here:\n",
      " |  \n",
      " |  __hash__ = None\n",
      "\n"
     ]
    }
   ],
   "source": [
    "help(dict)"
   ]
  },
  {
   "cell_type": "markdown",
   "id": "4f8e464b",
   "metadata": {
    "papermill": {
     "duration": 0.017093,
     "end_time": "2023-04-21T13:38:09.317034",
     "exception": false,
     "start_time": "2023-04-21T13:38:09.299941",
     "status": "completed"
    },
    "tags": []
   },
   "source": [
    "# Your Turn\n",
    "\n",
    "You've learned a lot of Python... go **[demonstrate your new skills](https://www.kaggle.com/kernels/fork/1275185)** with some realistic programming applications."
   ]
  },
  {
   "cell_type": "markdown",
   "id": "b4f942ac",
   "metadata": {
    "papermill": {
     "duration": 0.017148,
     "end_time": "2023-04-21T13:38:09.351943",
     "exception": false,
     "start_time": "2023-04-21T13:38:09.334795",
     "status": "completed"
    },
    "tags": []
   },
   "source": [
    "---\n",
    "\n",
    "\n",
    "\n",
    "\n",
    "*Have questions or comments? Visit the [course discussion forum](https://www.kaggle.com/learn/python/discussion) to chat with other learners.*"
   ]
  }
 ],
 "metadata": {
  "anaconda-cloud": {},
  "kernelspec": {
   "display_name": "Python 3",
   "language": "python",
   "name": "python3"
  },
  "language_info": {
   "codemirror_mode": {
    "name": "ipython",
    "version": 3
   },
   "file_extension": ".py",
   "mimetype": "text/x-python",
   "name": "python",
   "nbconvert_exporter": "python",
   "pygments_lexer": "ipython3",
   "version": "3.7.12"
  },
  "learntools_metadata": {
   "lesson_index": 5,
   "type": "tutorial"
  },
  "papermill": {
   "default_parameters": {},
   "duration": 14.144488,
   "end_time": "2023-04-21T13:38:10.094036",
   "environment_variables": {},
   "exception": null,
   "input_path": "__notebook__.ipynb",
   "output_path": "__notebook__.ipynb",
   "parameters": {},
   "start_time": "2023-04-21T13:37:55.949548",
   "version": "2.4.0"
  }
 },
 "nbformat": 4,
 "nbformat_minor": 5
}
