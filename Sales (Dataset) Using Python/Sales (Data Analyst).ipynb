{
 "cells": [
  {
   "cell_type": "markdown",
   "id": "c482caf0",
   "metadata": {},
   "source": [
    "# <p style=\"background-color:#00FF00;font-family:newtimeroman;color:black;font-size:130%;text-align:center;border-radius:10px 10px;\"> \"  Mohamed Hamed \"Data Analyst\" \" </p>\n",
    "<div style=\"text-align: center;\">\n",
    "    <span style=\"font-size: 5em;\">👌📊📉📈📊📈👌</span>\n",
    "</div>\n",
    "\n",
    "<br>\n",
    "\n",
    "<div style=\"text-align: center;\">\n",
    "   <span style=\"font-size: 1.4em; font-weight: bold; font-family: Arial; max-width:1200px; display: inline-block;\">\n",
    "       \n",
    "   </span>\n",
    "</div>\n",
    "\n",
    "<br>\n",
    "\n",
    "<br>\n",
    "\n",
    "<div style=\"text-align: center;\">\n",
    "   <span style=\"font-size: 1.6em; font-weight: bold;font-family: Arial;\"><a href=\"https://www.linkedin.com/in/mohamed-hamed-el-sayed-925a3824a/\">\"Linked In\" Mohamed Hamed</a></span>\n",
    "</div>"
   ]
  },
  {
   "cell_type": "markdown",
   "id": "6eea3eda",
   "metadata": {},
   "source": [
    "# <p style=\"background-color:#FFC0CB;font-family:newtimeroman;color:black;font-size:200%;text-align:center;border-radius:10px 10px;\"> !!  Table of Contents  !! </p>"
   ]
  },
  {
   "cell_type": "markdown",
   "id": "ac59b021",
   "metadata": {},
   "source": [
    "<div style=\"border-radius: 5px; border: #022b3a solid; padding: 10px; background-color: #bde0fe; font-size: 100%; text-align: left;\">\n",
    "\n",
    "1. Date: This column represents the date of the sales transaction. It helps in analyzing sales trends over time.\n",
    "\n",
    "2. Product: This column contains the name or code of the product being sold. It helps in identifying the specific products that are generating sales.\n",
    "\n",
    "3. Quantity: This column indicates the quantity of the product sold in each transaction. It helps in understanding the demand for different products.\n",
    "\n",
    "4. Price: This column represents the price of each unit of the product. It helps in calculating the total sales and analyzing pricing strategies.\n",
    "\n",
    "5. Total Sales: This column is often calculated by multiplying the quantity and price columns. It represents the total revenue generated from each transaction\n",
    "6.Order Status: This column indicates the status of the order, such as \"completed,\" \"pending,\" or \"cancelled.\" It helps in monitoring order fulfillment and analyzing customer satisfaction.🧐🔍\n",
    "</div>"
   ]
  },
  {
   "cell_type": "markdown",
   "id": "a2dfa1a9",
   "metadata": {},
   "source": [
    "# <p style=\"background-color:#FFC0CB;font-family:newtimeroman;color:black;font-size:200%;text-align:center;border-radius:10px 10px;\"> !!  Import Libraries  !! </p>"
   ]
  },
  {
   "cell_type": "code",
   "execution_count": 68,
   "id": "5365b41d",
   "metadata": {},
   "outputs": [],
   "source": [
    "import numpy as np\n",
    "import pandas as pd\n",
    "# Import Visualization libraries\n",
    "import matplotlib.pyplot as plt\n",
    "import seaborn as sns\n",
    "from mpl_toolkits.mplot3d import Axes3D\n",
    "from pandas.plotting import parallel_coordinates, andrews_curves, radviz\n",
    "# Clustering\n",
    "from sklearn.cluster import KMeans\n",
    "from sklearn.preprocessing import StandardScaler"
   ]
  },
  {
   "cell_type": "markdown",
   "id": "935bd5e3",
   "metadata": {},
   "source": [
    "# <p style=\"background-color:#FFC0CB;font-family:newtimeroman;color:black;font-size:200%;text-align:center;border-radius:10px 10px;\"> !!  Load The Sales Dataset  !! </p>"
   ]
  },
  {
   "cell_type": "code",
   "execution_count": 69,
   "id": "31176f63",
   "metadata": {
    "scrolled": false
   },
   "outputs": [],
   "source": [
    "sales = pd.read_csv(\"Downloads/Sales Data.csv\")"
   ]
  },
  {
   "cell_type": "markdown",
   "id": "7c62ecbc",
   "metadata": {},
   "source": [
    "# <p style=\"background-color:#FFC0CB;font-family:newtimeroman;color:black;font-size:200%;text-align:center;border-radius:10px 10px;\"> !!  Perform basic EDA  !! </p>"
   ]
  },
  {
   "cell_type": "code",
   "execution_count": 70,
   "id": "b8b47992",
   "metadata": {
    "scrolled": true
   },
   "outputs": [
    {
     "data": {
      "text/html": [
       "<div>\n",
       "<style scoped>\n",
       "    .dataframe tbody tr th:only-of-type {\n",
       "        vertical-align: middle;\n",
       "    }\n",
       "\n",
       "    .dataframe tbody tr th {\n",
       "        vertical-align: top;\n",
       "    }\n",
       "\n",
       "    .dataframe thead th {\n",
       "        text-align: right;\n",
       "    }\n",
       "</style>\n",
       "<table border=\"1\" class=\"dataframe\">\n",
       "  <thead>\n",
       "    <tr style=\"text-align: right;\">\n",
       "      <th></th>\n",
       "      <th>Unnamed: 0</th>\n",
       "      <th>Order ID</th>\n",
       "      <th>Product</th>\n",
       "      <th>Quantity Ordered</th>\n",
       "      <th>Price Each</th>\n",
       "      <th>Order Date</th>\n",
       "      <th>Purchase Address</th>\n",
       "      <th>Month</th>\n",
       "      <th>Sales</th>\n",
       "      <th>City</th>\n",
       "      <th>Hour</th>\n",
       "    </tr>\n",
       "  </thead>\n",
       "  <tbody>\n",
       "    <tr>\n",
       "      <th>0</th>\n",
       "      <td>0</td>\n",
       "      <td>295665</td>\n",
       "      <td>Macbook Pro Laptop</td>\n",
       "      <td>1</td>\n",
       "      <td>1700.00</td>\n",
       "      <td>2019-12-30 00:01:00</td>\n",
       "      <td>136 Church St, New York City, NY 10001</td>\n",
       "      <td>12</td>\n",
       "      <td>1700.00</td>\n",
       "      <td>New York City</td>\n",
       "      <td>0</td>\n",
       "    </tr>\n",
       "    <tr>\n",
       "      <th>1</th>\n",
       "      <td>1</td>\n",
       "      <td>295666</td>\n",
       "      <td>LG Washing Machine</td>\n",
       "      <td>1</td>\n",
       "      <td>600.00</td>\n",
       "      <td>2019-12-29 07:03:00</td>\n",
       "      <td>562 2nd St, New York City, NY 10001</td>\n",
       "      <td>12</td>\n",
       "      <td>600.00</td>\n",
       "      <td>New York City</td>\n",
       "      <td>7</td>\n",
       "    </tr>\n",
       "    <tr>\n",
       "      <th>2</th>\n",
       "      <td>2</td>\n",
       "      <td>295667</td>\n",
       "      <td>USB-C Charging Cable</td>\n",
       "      <td>1</td>\n",
       "      <td>11.95</td>\n",
       "      <td>2019-12-12 18:21:00</td>\n",
       "      <td>277 Main St, New York City, NY 10001</td>\n",
       "      <td>12</td>\n",
       "      <td>11.95</td>\n",
       "      <td>New York City</td>\n",
       "      <td>18</td>\n",
       "    </tr>\n",
       "    <tr>\n",
       "      <th>3</th>\n",
       "      <td>3</td>\n",
       "      <td>295668</td>\n",
       "      <td>27in FHD Monitor</td>\n",
       "      <td>1</td>\n",
       "      <td>149.99</td>\n",
       "      <td>2019-12-22 15:13:00</td>\n",
       "      <td>410 6th St, San Francisco, CA 94016</td>\n",
       "      <td>12</td>\n",
       "      <td>149.99</td>\n",
       "      <td>San Francisco</td>\n",
       "      <td>15</td>\n",
       "    </tr>\n",
       "    <tr>\n",
       "      <th>4</th>\n",
       "      <td>4</td>\n",
       "      <td>295669</td>\n",
       "      <td>USB-C Charging Cable</td>\n",
       "      <td>1</td>\n",
       "      <td>11.95</td>\n",
       "      <td>2019-12-18 12:38:00</td>\n",
       "      <td>43 Hill St, Atlanta, GA 30301</td>\n",
       "      <td>12</td>\n",
       "      <td>11.95</td>\n",
       "      <td>Atlanta</td>\n",
       "      <td>12</td>\n",
       "    </tr>\n",
       "  </tbody>\n",
       "</table>\n",
       "</div>"
      ],
      "text/plain": [
       "   Unnamed: 0  Order ID               Product  Quantity Ordered  Price Each  \\\n",
       "0           0    295665    Macbook Pro Laptop                 1     1700.00   \n",
       "1           1    295666    LG Washing Machine                 1      600.00   \n",
       "2           2    295667  USB-C Charging Cable                 1       11.95   \n",
       "3           3    295668      27in FHD Monitor                 1      149.99   \n",
       "4           4    295669  USB-C Charging Cable                 1       11.95   \n",
       "\n",
       "            Order Date                        Purchase Address  Month  \\\n",
       "0  2019-12-30 00:01:00  136 Church St, New York City, NY 10001     12   \n",
       "1  2019-12-29 07:03:00     562 2nd St, New York City, NY 10001     12   \n",
       "2  2019-12-12 18:21:00    277 Main St, New York City, NY 10001     12   \n",
       "3  2019-12-22 15:13:00     410 6th St, San Francisco, CA 94016     12   \n",
       "4  2019-12-18 12:38:00           43 Hill St, Atlanta, GA 30301     12   \n",
       "\n",
       "     Sales            City  Hour  \n",
       "0  1700.00   New York City     0  \n",
       "1   600.00   New York City     7  \n",
       "2    11.95   New York City    18  \n",
       "3   149.99   San Francisco    15  \n",
       "4    11.95         Atlanta    12  "
      ]
     },
     "execution_count": 70,
     "metadata": {},
     "output_type": "execute_result"
    }
   ],
   "source": [
    "# Display the first few rows of the dataset\n",
    "sales.head()"
   ]
  },
  {
   "cell_type": "markdown",
   "id": "61aa2add",
   "metadata": {},
   "source": [
    "<div style=\"border-radius: 5px; border: #efc3e6 solid; padding: 10px; background-color: #fca311; font-size: 100%; text-align: left;\">\n",
    "The code `sales.head()` is used to display the first few rows of a dataset called `sales`. By default, it shows the first 5 rows of the dataset.\n",
    "📊✔\n",
    "</div>"
   ]
  },
  {
   "cell_type": "code",
   "execution_count": 71,
   "id": "047f23a2",
   "metadata": {
    "scrolled": true
   },
   "outputs": [
    {
     "data": {
      "text/html": [
       "<div>\n",
       "<style scoped>\n",
       "    .dataframe tbody tr th:only-of-type {\n",
       "        vertical-align: middle;\n",
       "    }\n",
       "\n",
       "    .dataframe tbody tr th {\n",
       "        vertical-align: top;\n",
       "    }\n",
       "\n",
       "    .dataframe thead th {\n",
       "        text-align: right;\n",
       "    }\n",
       "</style>\n",
       "<table border=\"1\" class=\"dataframe\">\n",
       "  <thead>\n",
       "    <tr style=\"text-align: right;\">\n",
       "      <th></th>\n",
       "      <th>Unnamed: 0</th>\n",
       "      <th>Order ID</th>\n",
       "      <th>Quantity Ordered</th>\n",
       "      <th>Price Each</th>\n",
       "      <th>Month</th>\n",
       "      <th>Sales</th>\n",
       "      <th>Hour</th>\n",
       "    </tr>\n",
       "  </thead>\n",
       "  <tbody>\n",
       "    <tr>\n",
       "      <th>count</th>\n",
       "      <td>185950.000000</td>\n",
       "      <td>185950.000000</td>\n",
       "      <td>185950.000000</td>\n",
       "      <td>185950.000000</td>\n",
       "      <td>185950.000000</td>\n",
       "      <td>185950.000000</td>\n",
       "      <td>185950.000000</td>\n",
       "    </tr>\n",
       "    <tr>\n",
       "      <th>mean</th>\n",
       "      <td>8340.388475</td>\n",
       "      <td>230417.569379</td>\n",
       "      <td>1.124383</td>\n",
       "      <td>184.399735</td>\n",
       "      <td>7.059140</td>\n",
       "      <td>185.490917</td>\n",
       "      <td>14.413305</td>\n",
       "    </tr>\n",
       "    <tr>\n",
       "      <th>std</th>\n",
       "      <td>5450.554093</td>\n",
       "      <td>51512.737110</td>\n",
       "      <td>0.442793</td>\n",
       "      <td>332.731330</td>\n",
       "      <td>3.502996</td>\n",
       "      <td>332.919771</td>\n",
       "      <td>5.423416</td>\n",
       "    </tr>\n",
       "    <tr>\n",
       "      <th>min</th>\n",
       "      <td>0.000000</td>\n",
       "      <td>141234.000000</td>\n",
       "      <td>1.000000</td>\n",
       "      <td>2.990000</td>\n",
       "      <td>1.000000</td>\n",
       "      <td>2.990000</td>\n",
       "      <td>0.000000</td>\n",
       "    </tr>\n",
       "    <tr>\n",
       "      <th>25%</th>\n",
       "      <td>3894.000000</td>\n",
       "      <td>185831.250000</td>\n",
       "      <td>1.000000</td>\n",
       "      <td>11.950000</td>\n",
       "      <td>4.000000</td>\n",
       "      <td>11.950000</td>\n",
       "      <td>11.000000</td>\n",
       "    </tr>\n",
       "    <tr>\n",
       "      <th>50%</th>\n",
       "      <td>7786.000000</td>\n",
       "      <td>230367.500000</td>\n",
       "      <td>1.000000</td>\n",
       "      <td>14.950000</td>\n",
       "      <td>7.000000</td>\n",
       "      <td>14.950000</td>\n",
       "      <td>15.000000</td>\n",
       "    </tr>\n",
       "    <tr>\n",
       "      <th>75%</th>\n",
       "      <td>11872.000000</td>\n",
       "      <td>275035.750000</td>\n",
       "      <td>1.000000</td>\n",
       "      <td>150.000000</td>\n",
       "      <td>10.000000</td>\n",
       "      <td>150.000000</td>\n",
       "      <td>19.000000</td>\n",
       "    </tr>\n",
       "    <tr>\n",
       "      <th>max</th>\n",
       "      <td>25116.000000</td>\n",
       "      <td>319670.000000</td>\n",
       "      <td>9.000000</td>\n",
       "      <td>1700.000000</td>\n",
       "      <td>12.000000</td>\n",
       "      <td>3400.000000</td>\n",
       "      <td>23.000000</td>\n",
       "    </tr>\n",
       "  </tbody>\n",
       "</table>\n",
       "</div>"
      ],
      "text/plain": [
       "          Unnamed: 0       Order ID  Quantity Ordered     Price Each  \\\n",
       "count  185950.000000  185950.000000     185950.000000  185950.000000   \n",
       "mean     8340.388475  230417.569379          1.124383     184.399735   \n",
       "std      5450.554093   51512.737110          0.442793     332.731330   \n",
       "min         0.000000  141234.000000          1.000000       2.990000   \n",
       "25%      3894.000000  185831.250000          1.000000      11.950000   \n",
       "50%      7786.000000  230367.500000          1.000000      14.950000   \n",
       "75%     11872.000000  275035.750000          1.000000     150.000000   \n",
       "max     25116.000000  319670.000000          9.000000    1700.000000   \n",
       "\n",
       "               Month          Sales           Hour  \n",
       "count  185950.000000  185950.000000  185950.000000  \n",
       "mean        7.059140     185.490917      14.413305  \n",
       "std         3.502996     332.919771       5.423416  \n",
       "min         1.000000       2.990000       0.000000  \n",
       "25%         4.000000      11.950000      11.000000  \n",
       "50%         7.000000      14.950000      15.000000  \n",
       "75%        10.000000     150.000000      19.000000  \n",
       "max        12.000000    3400.000000      23.000000  "
      ]
     },
     "execution_count": 71,
     "metadata": {},
     "output_type": "execute_result"
    }
   ],
   "source": [
    "# Summary statistics of the numerical columns\n",
    "sales.describe()"
   ]
  },
  {
   "cell_type": "markdown",
   "id": "f22dbe29",
   "metadata": {},
   "source": [
    "<div style=\"border-radius: 5px; border: #ff0054 solid; padding: 10px; background-color: #3a86ff; font-size: 100%; text-align: left;\">\n",
    "✔The code `sales.describe()` is used to generate summary statistics of the numerical columns in the dataset `sales`. It provides information such as count, mean, standard deviation, minimum, quartiles, and maximum values for each numerical column in the dataset\n",
    "📊✔\n",
    "</div>"
   ]
  },
  {
   "cell_type": "code",
   "execution_count": 72,
   "id": "70f69410",
   "metadata": {
    "scrolled": false
   },
   "outputs": [
    {
     "name": "stdout",
     "output_type": "stream",
     "text": [
      "<class 'pandas.core.frame.DataFrame'>\n",
      "RangeIndex: 185950 entries, 0 to 185949\n",
      "Data columns (total 11 columns):\n",
      " #   Column            Non-Null Count   Dtype  \n",
      "---  ------            --------------   -----  \n",
      " 0   Unnamed: 0        185950 non-null  int64  \n",
      " 1   Order ID          185950 non-null  int64  \n",
      " 2   Product           185950 non-null  object \n",
      " 3   Quantity Ordered  185950 non-null  int64  \n",
      " 4   Price Each        185950 non-null  float64\n",
      " 5   Order Date        185950 non-null  object \n",
      " 6   Purchase Address  185950 non-null  object \n",
      " 7   Month             185950 non-null  int64  \n",
      " 8   Sales             185950 non-null  float64\n",
      " 9   City              185950 non-null  object \n",
      " 10  Hour              185950 non-null  int64  \n",
      "dtypes: float64(2), int64(5), object(4)\n",
      "memory usage: 12.8+ MB\n"
     ]
    }
   ],
   "source": [
    "# Information about the dataset\n",
    "sales.info()"
   ]
  },
  {
   "cell_type": "markdown",
   "id": "58a27ca5",
   "metadata": {},
   "source": [
    "<div style=\"border-radius: 5px; border: #ffbd00 solid; padding: 10px; background-color: #ff006e; font-size: 100%; text-align: left;\">\n",
    "✔The code `sales.info()` is used to display information about the dataset `sales`. It provides a summary of the dataset's structure, including the number of rows and columns, column names, data types, and the number of non-null values in each column. This information is useful for understanding the dataset's overall composition and identifying any missing or incomplete data.\n",
    "📊✔\n",
    "</div>"
   ]
  },
  {
   "cell_type": "code",
   "execution_count": 73,
   "id": "cca29970",
   "metadata": {},
   "outputs": [
    {
     "data": {
      "text/plain": [
       "(185950, 11)"
      ]
     },
     "execution_count": 73,
     "metadata": {},
     "output_type": "execute_result"
    }
   ],
   "source": [
    "# Check the shape of the dataset\n",
    "sales.shape"
   ]
  },
  {
   "cell_type": "markdown",
   "id": "acf9c280",
   "metadata": {},
   "source": [
    "<div style=\"border-radius: 5px; border: #06d6a0 solid; padding: 10px; background-color: #a9def9; font-size: 100%; text-align: left;\">\n",
    "✔The code `sales.shape` is used to check the shape of the dataset `sales`. It returns a tuple that represents the number of rows and columns in the dataset. The first value in the tuple represents the number of rows, and the second value represents the number of columns.\n",
    "📊✔\n",
    "</div>"
   ]
  },
  {
   "cell_type": "code",
   "execution_count": 74,
   "id": "46e477dc",
   "metadata": {
    "scrolled": true
   },
   "outputs": [
    {
     "data": {
      "text/plain": [
       "Unnamed: 0            int64\n",
       "Order ID              int64\n",
       "Product              object\n",
       "Quantity Ordered      int64\n",
       "Price Each          float64\n",
       "Order Date           object\n",
       "Purchase Address     object\n",
       "Month                 int64\n",
       "Sales               float64\n",
       "City                 object\n",
       "Hour                  int64\n",
       "dtype: object"
      ]
     },
     "execution_count": 74,
     "metadata": {},
     "output_type": "execute_result"
    }
   ],
   "source": [
    "# Check the data types of each column\n",
    "sales.dtypes"
   ]
  },
  {
   "cell_type": "markdown",
   "id": "543f38b2",
   "metadata": {},
   "source": [
    "<div style=\"border-radius: 5px; border: #ffb7c3 solid; padding: 10px; background-color: #fdf252; font-size: 100%; text-align: left;\">\n",
    "✔The code `sales.dtypes` is used to check the data types of each column in the dataset `sales`. It returns a series that displays the data type of each column. This information is helpful for understanding the types of data stored in each column, which can be useful for data analysis and manipulation.\n",
    "📊✔\n",
    "</div>"
   ]
  },
  {
   "cell_type": "markdown",
   "id": "65f8e82f",
   "metadata": {},
   "source": [
    "# <p style=\"background-color:#FFC0CB;font-family:newtimeroman;color:black;font-size:200%;text-align:center;border-radius:10px 10px;\"> !!  Data Cleaning !! </p>"
   ]
  },
  {
   "cell_type": "markdown",
   "id": "607f9753",
   "metadata": {},
   "source": [
    "<div style=\"border-radius: 5px; border: #ffc857 solid; padding: 10px; background-color: #ec058e; font-size: 100%; text-align: left;\">\n",
    "✔Data cleaning involves various steps to clean and preprocess the dataset, such as handling missing values, removing duplicates, correcting data types, and handling outliers. Here are some common code snippets for data cleaning:\n",
    "\n",
    "1. Handling Missing Values:\n",
    "   - `sales.dropna()`: Drops rows with any missing values.\n",
    "   - `sales.fillna(value)`: Fills missing values with a specified value.\n",
    "\n",
    "2. Removing Duplicates:\n",
    "   - `sales.drop_duplicates()`: Removes duplicate rows from the dataset.\n",
    "\n",
    "3. Correcting Data Types:\n",
    "   - `sales['column_name'] = sales['column_name'].astype('new_data_type')`: Converts the data type of a specific column.\n",
    "\n",
    "4. Handling Outliers:\n",
    "   - `sales = sales[(sales['column_name'] > lower_limit) & (sales['column_name'] < upper_limit)]`: Removes rows with outliers based on a specified range.\n",
    "\n",
    "📊✔ Mohamed_Hamed👌👌\n",
    "</div>"
   ]
  },
  {
   "cell_type": "code",
   "execution_count": 75,
   "id": "8c818e24",
   "metadata": {
    "scrolled": false
   },
   "outputs": [
    {
     "data": {
      "text/plain": [
       "Unnamed: 0          0\n",
       "Order ID            0\n",
       "Product             0\n",
       "Quantity Ordered    0\n",
       "Price Each          0\n",
       "Order Date          0\n",
       "Purchase Address    0\n",
       "Month               0\n",
       "Sales               0\n",
       "City                0\n",
       "Hour                0\n",
       "dtype: int64"
      ]
     },
     "execution_count": 75,
     "metadata": {},
     "output_type": "execute_result"
    }
   ],
   "source": [
    "# Check for missing values\n",
    "sales.isnull().sum()"
   ]
  },
  {
   "cell_type": "markdown",
   "id": "c45480bb",
   "metadata": {},
   "source": [
    "<div style=\"border-radius: 5px; border: #ff8c42 solid; padding: 10px; background-color: #deaaff; font-size: 100%; text-align: left;\">\n",
    "✔The code `sales.isnull().sum()` is used to check for missing values in the dataset `sales`. It returns the sum of missing values in each column. \n",
    "\n",
    "The `isnull()` function checks each element in the dataset to determine if it is null or missing. It returns a boolean value, where `True` indicates a missing value and `False` indicates a non-missing value. \n",
    "\n",
    "The `sum()` function is then applied to the boolean values for each column, resulting in the count of missing values in each column. This information is helpful for identifying columns with missing data and determining the extent of missingness in the dataset.\n",
    "\n",
    "📊✔ Mohamed_Hamed👌👌\n",
    "</div>"
   ]
  },
  {
   "cell_type": "markdown",
   "id": "c1393633",
   "metadata": {},
   "source": [
    "# <p style=\"background-color:#FFC0CB;font-family:newtimeroman;color:black;font-size:200%;text-align:center;border-radius:10px 10px;\"> !!  Data Analysis !! </p>"
   ]
  },
  {
   "cell_type": "markdown",
   "id": "494beb90",
   "metadata": {},
   "source": [
    "<div style=\"border-radius: 5px; border: #2667ff solid; padding: 10px; background-color: #80ed99; font-size: 100%; text-align: left;\">\n",
    "✔. Descriptive Statistics:\n",
    "   - `sales.describe()`: Generates descriptive statistics for numerical columns, such as count, mean, standard deviation, minimum, and maximum values.\n",
    "\n",
    "✔. Grouping and Aggregation:\n",
    "   - `sales.groupby('column_name').mean()`: Groups the data by a specific column and calculates the mean value for each group.\n",
    "   - `sales.groupby(['column_name1', 'column_name2']).sum()`: Groups the data by multiple columns and calculates the sum of each group.\n",
    "\n",
    "✔. Data Visualization:\n",
    "   - `import matplotlib.pyplot as plt`: Importing the matplotlib library for data visualization.\n",
    "   - `sales['column_name'].plot(kind='hist')`: Plots a histogram for a specific column.\n",
    "   - `sales.plot(x='column_name1', y='column_name2', kind='scatter')`: Plots a scatter plot between two columns.\n",
    "\n",
    "✔. Correlation Analysis:\n",
    "   - `sales.corr()`: Calculates the correlation coefficient between numerical columns.\n",
    "   - `import seaborn as sns`: Importing the seaborn library for advanced visualization.\n",
    "   - `sns.heatmap(sales.corr(), annot=True)`: Plots a heatmap of the correlation matrix.\n",
    "\n",
    "​\n",
    "📊✔ Mohamed_Hamed👌👌\n",
    "</div>"
   ]
  },
  {
   "cell_type": "code",
   "execution_count": 76,
   "id": "17c7ee8b",
   "metadata": {},
   "outputs": [
    {
     "name": "stdout",
     "output_type": "stream",
     "text": [
      "Total Sales:  34492035.97\n"
     ]
    }
   ],
   "source": [
    "# Calculate the total sales\n",
    "total_sales = sales['Sales'].sum()\n",
    "print(\"Total Sales: \", total_sales)"
   ]
  },
  {
   "cell_type": "markdown",
   "id": "3271cbfb",
   "metadata": {},
   "source": [
    "<div style=\"border-radius: 5px; border: #70d6ff solid; padding: 10px; background-color: #ffee32; font-size: 100%; text-align: left;\">\n",
    "✔.The code `total_sales = sales['Sales'].sum()` calculates the total sales by summing up the values in the 'Sales' column of the dataset `sales`. \n",
    "\n",
    "✔.The `.sum()` function is applied to the 'Sales' column, which returns the sum of all the values in that column. The result is stored in the variable `total_sales`.\n",
    "\n",
    "✔.The line `print(\"Total Sales: \", total_sales)` prints the total sales value to the console, along with a descriptive label \"Total Sales: \".\n",
    "\n",
    "🟠This code snippet calculates and displays the total sales value from the 'Sales' column of the dataset.\n",
    "    \n",
    "​\n",
    "📊✔ Mohamed_Hamed👌👌\n",
    "</div>"
   ]
  },
  {
   "cell_type": "code",
   "execution_count": 77,
   "id": "18b8fbc5",
   "metadata": {
    "scrolled": true
   },
   "outputs": [
    {
     "data": {
      "text/plain": [
       "0         1\n",
       "1         1\n",
       "2         1\n",
       "3         1\n",
       "4         1\n",
       "         ..\n",
       "185945    1\n",
       "185946    1\n",
       "185947    1\n",
       "185948    1\n",
       "185949    1\n",
       "Name: Day, Length: 185950, dtype: int64"
      ]
     },
     "execution_count": 77,
     "metadata": {},
     "output_type": "execute_result"
    }
   ],
   "source": [
    "# Extract year from 'Month' column and assign it to 'Day' column\n",
    "sales['Day'] = pd.to_datetime(sales['Month']).dt.day\n",
    "sales['Day'] "
   ]
  },
  {
   "cell_type": "markdown",
   "id": "0a2b1c9a",
   "metadata": {},
   "source": [
    "<div style=\"border-radius: 5px; border: #f72585 solid; padding: 10px; background-color: #ff7d00; font-size: 100%; text-align: left;\">\n",
    "\n",
    "😊📈The code `sales['Day'] = pd.to_datetime(sales['Month']).dt.day` extracts the day component from the 'Month' column of the dataset `sales` and assigns it to a new column called 'Day'.\n",
    "\n",
    "📊👌Here's a breakdown of the code:\n",
    "\n",
    "1. `pd.to_datetime(sales['Month'])`: Converts the values in the 'Month' column to datetime format.\n",
    "2. `.dt.day`: Accesses the day component of the datetime values.\n",
    "3. `sales['Day'] = ...`: Assigns the extracted day values to a new column called 'Day' in the `sales` dataset.\n",
    "\n",
    "🔺After executing this code, the 'Day' column will contain the day component extracted from the 'Month' column for each corresponding row.\n",
    "\n",
    "🔻The line `sales['Day']` will display the values in the 'Day' column after the assignment.\n",
    "\n",
    "📊✔ Mohamed_Hamed👌👌\n",
    "</div>"
   ]
  },
  {
   "cell_type": "code",
   "execution_count": 78,
   "id": "3efbd304",
   "metadata": {
    "scrolled": true
   },
   "outputs": [
    {
     "data": {
      "text/plain": [
       "0         1970\n",
       "1         1970\n",
       "2         1970\n",
       "3         1970\n",
       "4         1970\n",
       "          ... \n",
       "185945    1970\n",
       "185946    1970\n",
       "185947    1970\n",
       "185948    1970\n",
       "185949    1970\n",
       "Name: Year, Length: 185950, dtype: int64"
      ]
     },
     "execution_count": 78,
     "metadata": {},
     "output_type": "execute_result"
    }
   ],
   "source": [
    "# Extract year from 'Month' column and assign it to 'Year' column\n",
    "sales['Year'] = pd.to_datetime(sales['Month']).dt.year\n",
    "sales['Year'] "
   ]
  },
  {
   "cell_type": "markdown",
   "id": "d4b91b93",
   "metadata": {},
   "source": [
    "<div style=\"border-radius: 5px; border: #ffd6ff solid; padding: 10px; background-color: #f4a259; font-size: 100%; text-align: left;\">\n",
    "\n",
    "😊📈The code `sales['Year'] = pd.to_datetime(sales['Month']).dt.year` extracts the year component from the 'Month' column of the dataset `sales` and assigns it to a new column called 'Year'.\n",
    "\n",
    "✅Here's a breakdown of the code:\n",
    "\n",
    "1. `pd.to_datetime(sales['Month'])`: Converts the values in the 'Month' column to datetime format.\n",
    "2. `.dt.year`: Accesses the year component of the datetime values.\n",
    "3. `sales['Year'] = ...`: Assigns the extracted year values to a new column called 'Year' in the `sales` dataset.\n",
    "\n",
    "✔After executing this code, the 'Year' column will contain the year component extracted from the 'Month' column for each corresponding row.\n",
    "\n",
    "🟠The line `sales['Year']` will display the values in the 'Year' column after the assignment.\n",
    "\n",
    "📊✔ Mohamed_Hamed👌👌\n",
    "</div>"
   ]
  },
  {
   "cell_type": "code",
   "execution_count": 79,
   "id": "bddc353f",
   "metadata": {
    "scrolled": false
   },
   "outputs": [
    {
     "data": {
      "text/plain": [
       "Month\n",
       "1     1822256.73\n",
       "2     2202022.42\n",
       "3     2807100.38\n",
       "4     3390670.24\n",
       "5     3152606.75\n",
       "6     2577802.26\n",
       "7     2647775.76\n",
       "8     2244467.88\n",
       "9     2097560.13\n",
       "10    3736726.88\n",
       "11    3199603.20\n",
       "12    4613443.34\n",
       "Name: Sales, dtype: float64"
      ]
     },
     "execution_count": 79,
     "metadata": {},
     "output_type": "execute_result"
    }
   ],
   "source": [
    "# Group the sales data by month and calculate the sum of sales for each month\n",
    "monthly_sales = sales.groupby('Month')['Sales'].sum()\n",
    "monthly_sales"
   ]
  },
  {
   "cell_type": "markdown",
   "id": "2c903cc3",
   "metadata": {},
   "source": [
    "<div style=\"border-radius: 5px; border: #ffba08 solid; padding: 10px; background-color: #06d6a0; font-size: 100%; text-align: left;\">\n",
    "\n",
    "📊👌The code `monthly_sales = sales.groupby('Month')['Sales'].sum()` groups the sales data in the `sales` dataset by the 'Month' column and calculates the sum of sales for each month.\n",
    "\n",
    "✔Here's a breakdown of the code:\n",
    "\n",
    "1. `sales.groupby('Month')`: Groups the data by the unique values in the 'Month' column.\n",
    "2. `['Sales']`: Selects the 'Sales' column for aggregation.\n",
    "3. `.sum()`: Calculates the sum of sales for each group.\n",
    "\n",
    "✔The result is stored in the variable `monthly_sales`, which will be a new DataFrame or Series object with the monthly sales values.\n",
    "\n",
    "🟠The line `monthly_sales` will display the calculated sum of sales for each month.\n",
    "\n",
    "📊✔ Mohamed_Hamed👌👌\n",
    "</div>"
   ]
  },
  {
   "cell_type": "code",
   "execution_count": 80,
   "id": "18097d69",
   "metadata": {
    "scrolled": false
   },
   "outputs": [
    {
     "data": {
      "text/html": [
       "<div>\n",
       "<style scoped>\n",
       "    .dataframe tbody tr th:only-of-type {\n",
       "        vertical-align: middle;\n",
       "    }\n",
       "\n",
       "    .dataframe tbody tr th {\n",
       "        vertical-align: top;\n",
       "    }\n",
       "\n",
       "    .dataframe thead th {\n",
       "        text-align: right;\n",
       "    }\n",
       "</style>\n",
       "<table border=\"1\" class=\"dataframe\">\n",
       "  <thead>\n",
       "    <tr style=\"text-align: right;\">\n",
       "      <th></th>\n",
       "      <th>Unnamed: 0</th>\n",
       "      <th>Order ID</th>\n",
       "      <th>Product</th>\n",
       "      <th>Quantity Ordered</th>\n",
       "      <th>Price Each</th>\n",
       "      <th>Order Date</th>\n",
       "      <th>Purchase Address</th>\n",
       "      <th>Month</th>\n",
       "      <th>Sales</th>\n",
       "      <th>City</th>\n",
       "      <th>Hour</th>\n",
       "      <th>Day</th>\n",
       "      <th>Year</th>\n",
       "      <th>Total_Sales</th>\n",
       "    </tr>\n",
       "  </thead>\n",
       "  <tbody>\n",
       "    <tr>\n",
       "      <th>0</th>\n",
       "      <td>0</td>\n",
       "      <td>295665</td>\n",
       "      <td>Macbook Pro Laptop</td>\n",
       "      <td>1</td>\n",
       "      <td>1700.00</td>\n",
       "      <td>2019-12-30 00:01:00</td>\n",
       "      <td>136 Church St, New York City, NY 10001</td>\n",
       "      <td>12</td>\n",
       "      <td>1700.00</td>\n",
       "      <td>New York City</td>\n",
       "      <td>0</td>\n",
       "      <td>1</td>\n",
       "      <td>1970</td>\n",
       "      <td>1700.00</td>\n",
       "    </tr>\n",
       "    <tr>\n",
       "      <th>1</th>\n",
       "      <td>1</td>\n",
       "      <td>295666</td>\n",
       "      <td>LG Washing Machine</td>\n",
       "      <td>1</td>\n",
       "      <td>600.00</td>\n",
       "      <td>2019-12-29 07:03:00</td>\n",
       "      <td>562 2nd St, New York City, NY 10001</td>\n",
       "      <td>12</td>\n",
       "      <td>600.00</td>\n",
       "      <td>New York City</td>\n",
       "      <td>7</td>\n",
       "      <td>1</td>\n",
       "      <td>1970</td>\n",
       "      <td>600.00</td>\n",
       "    </tr>\n",
       "    <tr>\n",
       "      <th>2</th>\n",
       "      <td>2</td>\n",
       "      <td>295667</td>\n",
       "      <td>USB-C Charging Cable</td>\n",
       "      <td>1</td>\n",
       "      <td>11.95</td>\n",
       "      <td>2019-12-12 18:21:00</td>\n",
       "      <td>277 Main St, New York City, NY 10001</td>\n",
       "      <td>12</td>\n",
       "      <td>11.95</td>\n",
       "      <td>New York City</td>\n",
       "      <td>18</td>\n",
       "      <td>1</td>\n",
       "      <td>1970</td>\n",
       "      <td>11.95</td>\n",
       "    </tr>\n",
       "    <tr>\n",
       "      <th>3</th>\n",
       "      <td>3</td>\n",
       "      <td>295668</td>\n",
       "      <td>27in FHD Monitor</td>\n",
       "      <td>1</td>\n",
       "      <td>149.99</td>\n",
       "      <td>2019-12-22 15:13:00</td>\n",
       "      <td>410 6th St, San Francisco, CA 94016</td>\n",
       "      <td>12</td>\n",
       "      <td>149.99</td>\n",
       "      <td>San Francisco</td>\n",
       "      <td>15</td>\n",
       "      <td>1</td>\n",
       "      <td>1970</td>\n",
       "      <td>149.99</td>\n",
       "    </tr>\n",
       "    <tr>\n",
       "      <th>4</th>\n",
       "      <td>4</td>\n",
       "      <td>295669</td>\n",
       "      <td>USB-C Charging Cable</td>\n",
       "      <td>1</td>\n",
       "      <td>11.95</td>\n",
       "      <td>2019-12-18 12:38:00</td>\n",
       "      <td>43 Hill St, Atlanta, GA 30301</td>\n",
       "      <td>12</td>\n",
       "      <td>11.95</td>\n",
       "      <td>Atlanta</td>\n",
       "      <td>12</td>\n",
       "      <td>1</td>\n",
       "      <td>1970</td>\n",
       "      <td>11.95</td>\n",
       "    </tr>\n",
       "    <tr>\n",
       "      <th>...</th>\n",
       "      <td>...</td>\n",
       "      <td>...</td>\n",
       "      <td>...</td>\n",
       "      <td>...</td>\n",
       "      <td>...</td>\n",
       "      <td>...</td>\n",
       "      <td>...</td>\n",
       "      <td>...</td>\n",
       "      <td>...</td>\n",
       "      <td>...</td>\n",
       "      <td>...</td>\n",
       "      <td>...</td>\n",
       "      <td>...</td>\n",
       "      <td>...</td>\n",
       "    </tr>\n",
       "    <tr>\n",
       "      <th>185945</th>\n",
       "      <td>13617</td>\n",
       "      <td>222905</td>\n",
       "      <td>AAA Batteries (4-pack)</td>\n",
       "      <td>1</td>\n",
       "      <td>2.99</td>\n",
       "      <td>2019-06-07 19:02:00</td>\n",
       "      <td>795 Pine St, Boston, MA 02215</td>\n",
       "      <td>6</td>\n",
       "      <td>2.99</td>\n",
       "      <td>Boston</td>\n",
       "      <td>19</td>\n",
       "      <td>1</td>\n",
       "      <td>1970</td>\n",
       "      <td>2.99</td>\n",
       "    </tr>\n",
       "    <tr>\n",
       "      <th>185946</th>\n",
       "      <td>13618</td>\n",
       "      <td>222906</td>\n",
       "      <td>27in FHD Monitor</td>\n",
       "      <td>1</td>\n",
       "      <td>149.99</td>\n",
       "      <td>2019-06-01 19:29:00</td>\n",
       "      <td>495 North St, New York City, NY 10001</td>\n",
       "      <td>6</td>\n",
       "      <td>149.99</td>\n",
       "      <td>New York City</td>\n",
       "      <td>19</td>\n",
       "      <td>1</td>\n",
       "      <td>1970</td>\n",
       "      <td>149.99</td>\n",
       "    </tr>\n",
       "    <tr>\n",
       "      <th>185947</th>\n",
       "      <td>13619</td>\n",
       "      <td>222907</td>\n",
       "      <td>USB-C Charging Cable</td>\n",
       "      <td>1</td>\n",
       "      <td>11.95</td>\n",
       "      <td>2019-06-22 18:57:00</td>\n",
       "      <td>319 Ridge St, San Francisco, CA 94016</td>\n",
       "      <td>6</td>\n",
       "      <td>11.95</td>\n",
       "      <td>San Francisco</td>\n",
       "      <td>18</td>\n",
       "      <td>1</td>\n",
       "      <td>1970</td>\n",
       "      <td>11.95</td>\n",
       "    </tr>\n",
       "    <tr>\n",
       "      <th>185948</th>\n",
       "      <td>13620</td>\n",
       "      <td>222908</td>\n",
       "      <td>USB-C Charging Cable</td>\n",
       "      <td>1</td>\n",
       "      <td>11.95</td>\n",
       "      <td>2019-06-26 18:35:00</td>\n",
       "      <td>916 Main St, San Francisco, CA 94016</td>\n",
       "      <td>6</td>\n",
       "      <td>11.95</td>\n",
       "      <td>San Francisco</td>\n",
       "      <td>18</td>\n",
       "      <td>1</td>\n",
       "      <td>1970</td>\n",
       "      <td>11.95</td>\n",
       "    </tr>\n",
       "    <tr>\n",
       "      <th>185949</th>\n",
       "      <td>13621</td>\n",
       "      <td>222909</td>\n",
       "      <td>AAA Batteries (4-pack)</td>\n",
       "      <td>1</td>\n",
       "      <td>2.99</td>\n",
       "      <td>2019-06-25 14:33:00</td>\n",
       "      <td>209 11th St, Atlanta, GA 30301</td>\n",
       "      <td>6</td>\n",
       "      <td>2.99</td>\n",
       "      <td>Atlanta</td>\n",
       "      <td>14</td>\n",
       "      <td>1</td>\n",
       "      <td>1970</td>\n",
       "      <td>2.99</td>\n",
       "    </tr>\n",
       "  </tbody>\n",
       "</table>\n",
       "<p>185950 rows × 14 columns</p>\n",
       "</div>"
      ],
      "text/plain": [
       "        Unnamed: 0  Order ID                 Product  Quantity Ordered  \\\n",
       "0                0    295665      Macbook Pro Laptop                 1   \n",
       "1                1    295666      LG Washing Machine                 1   \n",
       "2                2    295667    USB-C Charging Cable                 1   \n",
       "3                3    295668        27in FHD Monitor                 1   \n",
       "4                4    295669    USB-C Charging Cable                 1   \n",
       "...            ...       ...                     ...               ...   \n",
       "185945       13617    222905  AAA Batteries (4-pack)                 1   \n",
       "185946       13618    222906        27in FHD Monitor                 1   \n",
       "185947       13619    222907    USB-C Charging Cable                 1   \n",
       "185948       13620    222908    USB-C Charging Cable                 1   \n",
       "185949       13621    222909  AAA Batteries (4-pack)                 1   \n",
       "\n",
       "        Price Each           Order Date  \\\n",
       "0          1700.00  2019-12-30 00:01:00   \n",
       "1           600.00  2019-12-29 07:03:00   \n",
       "2            11.95  2019-12-12 18:21:00   \n",
       "3           149.99  2019-12-22 15:13:00   \n",
       "4            11.95  2019-12-18 12:38:00   \n",
       "...            ...                  ...   \n",
       "185945        2.99  2019-06-07 19:02:00   \n",
       "185946      149.99  2019-06-01 19:29:00   \n",
       "185947       11.95  2019-06-22 18:57:00   \n",
       "185948       11.95  2019-06-26 18:35:00   \n",
       "185949        2.99  2019-06-25 14:33:00   \n",
       "\n",
       "                              Purchase Address  Month    Sales  \\\n",
       "0       136 Church St, New York City, NY 10001     12  1700.00   \n",
       "1          562 2nd St, New York City, NY 10001     12   600.00   \n",
       "2         277 Main St, New York City, NY 10001     12    11.95   \n",
       "3          410 6th St, San Francisco, CA 94016     12   149.99   \n",
       "4                43 Hill St, Atlanta, GA 30301     12    11.95   \n",
       "...                                        ...    ...      ...   \n",
       "185945           795 Pine St, Boston, MA 02215      6     2.99   \n",
       "185946   495 North St, New York City, NY 10001      6   149.99   \n",
       "185947   319 Ridge St, San Francisco, CA 94016      6    11.95   \n",
       "185948    916 Main St, San Francisco, CA 94016      6    11.95   \n",
       "185949          209 11th St, Atlanta, GA 30301      6     2.99   \n",
       "\n",
       "                  City  Hour  Day  Year  Total_Sales  \n",
       "0        New York City     0    1  1970      1700.00  \n",
       "1        New York City     7    1  1970       600.00  \n",
       "2        New York City    18    1  1970        11.95  \n",
       "3        San Francisco    15    1  1970       149.99  \n",
       "4              Atlanta    12    1  1970        11.95  \n",
       "...                ...   ...  ...   ...          ...  \n",
       "185945          Boston    19    1  1970         2.99  \n",
       "185946   New York City    19    1  1970       149.99  \n",
       "185947   San Francisco    18    1  1970        11.95  \n",
       "185948   San Francisco    18    1  1970        11.95  \n",
       "185949         Atlanta    14    1  1970         2.99  \n",
       "\n",
       "[185950 rows x 14 columns]"
      ]
     },
     "execution_count": 80,
     "metadata": {},
     "output_type": "execute_result"
    }
   ],
   "source": [
    "# Calculate the total sales by multiplying the price and quantity columns\n",
    "sales['Total_Sales'] = sales['Price Each'] * sales['Quantity Ordered']\n",
    "sales"
   ]
  },
  {
   "cell_type": "markdown",
   "id": "57a1c2ea",
   "metadata": {},
   "source": [
    "<div style=\"border-radius: 5px; border: #ffd60a solid; padding: 10px; background-color: #e4c1f9; font-size: 100%; text-align: left;\">\n",
    "\n",
    "📊The code `sales['Total_Sales'] = sales['Price Each'] * sales['Quantity Ordered']` calculates the total sales by multiplying the values in the 'Price Each' column with the values in the 'Quantity Ordered' column, and assigns the result to a new column called 'Total_Sales' in the `sales` dataset.\n",
    "\n",
    "✔Here's a breakdown of the code:\n",
    "\n",
    "1. `sales['Price Each']`: Accesses the values in the 'Price Each' column.\n",
    "2. `sales['Quantity Ordered']`: Accesses the values in the 'Quantity Ordered' column.\n",
    "3. `sales['Price Each'] * sales['Quantity Ordered']`: Multiplies the corresponding values in the two columns to calculate the total sales.\n",
    "4. `sales['Total_Sales'] = ...`: Assigns the calculated total sales values to a new column called 'Total_Sales' in the `sales` dataset.\n",
    "\n",
    "👌After executing this code, the 'Total_Sales' column will contain the calculated total sales values for each corresponding row.\n",
    "\n",
    "🟠The line `sales` will display the updated `sales` dataset with the new 'Total_Sales' column.\n",
    "\n",
    "📊✔ Mohamed_Hamed👌👌\n",
    "</div>"
   ]
  },
  {
   "cell_type": "code",
   "execution_count": 81,
   "id": "b9034003",
   "metadata": {},
   "outputs": [
    {
     "data": {
      "text/plain": [
       "2874336.330833333"
      ]
     },
     "execution_count": 81,
     "metadata": {},
     "output_type": "execute_result"
    }
   ],
   "source": [
    "# Calculate the average sales per month\n",
    "average_sales_per_month = monthly_sales.mean()\n",
    "average_sales_per_month"
   ]
  },
  {
   "cell_type": "markdown",
   "id": "7a39ba61",
   "metadata": {},
   "source": [
    "<div style=\"border-radius: 5px; border: #affc41 solid; padding: 10px; background-color: #9bf6ff; font-size: 100%; text-align: left;\">\n",
    "\n",
    "🟠The code `average_sales_per_month = monthly_sales.mean()` calculates the average sales per month by taking the mean of the monthly sales values stored in the `monthly_sales` variable.\n",
    "\n",
    "🔻Here's a breakdown of the code:\n",
    "\n",
    "1. `monthly_sales`: Represents the variable that contains the sum of sales for each month, calculated using the `sales.groupby('Month')['Sales'].sum()` code.\n",
    "2. `.mean()`: Calculates the average of the monthly sales values.\n",
    "\n",
    "✔The result is stored in the variable `average_sales_per_month`, which will be a single value representing the average sales per month.\n",
    "\n",
    "🟠The line `average_sales_per_month` will display the calculated average sales per month.\n",
    "    \n",
    "    \n",
    "📊✔ Mohamed_Hamed👌👌\n",
    "</div>"
   ]
  },
  {
   "cell_type": "code",
   "execution_count": 82,
   "id": "388537e2",
   "metadata": {},
   "outputs": [
    {
     "data": {
      "text/plain": [
       "3400.0"
      ]
     },
     "execution_count": 82,
     "metadata": {},
     "output_type": "execute_result"
    }
   ],
   "source": [
    "# Calculate the maximum Sales\n",
    "max_sales = sales['Sales'].max()\n",
    "max_sales"
   ]
  },
  {
   "cell_type": "markdown",
   "id": "f0a1756c",
   "metadata": {},
   "source": [
    "<div style=\"border-radius: 5px; border: #03daf7 solid; padding: 10px; background-color: #ffff3f; font-size: 100%; text-align: left;\">\n",
    "\n",
    "✔The code `max_sales = sales['Sales'].max()` calculates the maximum sales by finding the highest value in the 'Sales' column of the `sales` dataset.\n",
    "\n",
    "✔Here's a breakdown of the code:\n",
    "\n",
    "1. `sales['Sales']`: Accesses the values in the 'Sales' column.\n",
    "2. `.max()`: Finds the maximum value among the values in the 'Sales' column.\n",
    "\n",
    "👌The result is stored in the variable `max_sales`, which will be a single value representing the maximum sales value.\n",
    "\n",
    "🟠The line `max_sales` will display the calculated maximum sales value.\n",
    "\n",
    "\n",
    "📊✔ Mohamed_Hamed👌👌\n",
    "</div>"
   ]
  },
  {
   "cell_type": "code",
   "execution_count": 83,
   "id": "ed343666",
   "metadata": {},
   "outputs": [
    {
     "data": {
      "text/plain": [
       "2.99"
      ]
     },
     "execution_count": 83,
     "metadata": {},
     "output_type": "execute_result"
    }
   ],
   "source": [
    "# Calculate the minimum sales\n",
    "min_sales = sales['Sales'].min()\n",
    "min_sales"
   ]
  },
  {
   "cell_type": "markdown",
   "id": "13a0bea1",
   "metadata": {},
   "source": [
    "<div style=\"border-radius: 5px; border: #45ed88 solid; padding: 10px; background-color: #fbbfca; font-size: 100%; text-align: left;\">\n",
    "\n",
    "👌The code `min_sales = sales['Sales'].min()` calculates the minimum sales by finding the lowest value in the 'Sales' column of the `sales` dataset.\n",
    "\n",
    "🟠Here's a breakdown of the code:\n",
    "\n",
    "1. `sales['Sales']`: Accesses the values in the 'Sales' column.\n",
    "2. `.min()`: Finds the minimum value among the values in the 'Sales' column.\n",
    "\n",
    "👍The result is stored in the variable `min_sales`, which will be a single value representing the minimum sales value.\n",
    "\n",
    "✔The line `min_sales` will display the calculated minimum sales value.\n",
    "\n",
    "\n",
    "📊✔ Mohamed_Hamed👌👌\n",
    "</div>"
   ]
  },
  {
   "cell_type": "code",
   "execution_count": 84,
   "id": "7a3a9657",
   "metadata": {
    "scrolled": false
   },
   "outputs": [
    {
     "data": {
      "text/plain": [
       "Product\n",
       "20in Monitor                   454148.71\n",
       "27in 4K Gaming Monitor        2435097.56\n",
       "27in FHD Monitor              1132424.50\n",
       "34in Ultrawide Monitor        2355558.01\n",
       "AA Batteries (4-pack)          106118.40\n",
       "AAA Batteries (4-pack)          92740.83\n",
       "Apple Airpods Headphones      2349150.00\n",
       "Bose SoundSport Headphones    1345565.43\n",
       "Flatscreen TV                 1445700.00\n",
       "Google Phone                  3319200.00\n",
       "LG Dryer                       387600.00\n",
       "LG Washing Machine             399600.00\n",
       "Lightning Charging Cable       347094.15\n",
       "Macbook Pro Laptop            8037600.00\n",
       "ThinkPad Laptop               4129958.70\n",
       "USB-C Charging Cable           286501.25\n",
       "Vareebadd Phone                827200.00\n",
       "Wired Headphones               246478.43\n",
       "iPhone                        4794300.00\n",
       "Name: Sales, dtype: float64"
      ]
     },
     "execution_count": 84,
     "metadata": {},
     "output_type": "execute_result"
    }
   ],
   "source": [
    "#Calculate the total sales by product category\n",
    "sales_by_category = sales.groupby('Product')['Sales'].sum()\n",
    "sales_by_category"
   ]
  },
  {
   "cell_type": "markdown",
   "id": "a5e12432",
   "metadata": {},
   "source": [
    "<div style=\"border-radius: 5px; border: #f9c22e solid; padding: 10px; background-color: #ec058e; font-size: 100%; text-align: left;\">\n",
    "\n",
    "🔻The code `min_sales = sales['Sales'].min()` calculates the minimum sales by finding the lowest value in the 'Sales' column of the `sales` dataset.\n",
    "\n",
    "🔺Here's a breakdown of the code:\n",
    "\n",
    "1. `sales['Sales']`: Accesses the values in the 'Sales' column.\n",
    "2. `.min()`: Finds the minimum value among the values in the 'Sales' column.\n",
    "\n",
    "✔The result is stored in the variable `min_sales`, which will be a single value representing the minimum sales value.\n",
    "\n",
    "🟠The line `min_sales` will display the calculated minimum sales value.\n",
    "\n",
    "\n",
    "📊✔ Mohamed_Hamed👌👌\n",
    "</div>"
   ]
  },
  {
   "cell_type": "code",
   "execution_count": 85,
   "id": "de182f45",
   "metadata": {},
   "outputs": [
    {
     "data": {
      "text/plain": [
       "Purchase Address\n",
       "1 11th St, Atlanta, GA 30301                5.975\n",
       "1 11th St, Los Angeles, CA 90001          850.000\n",
       "1 11th St, San Francisco, CA 94016        350.000\n",
       "1 12th St, Los Angeles, CA 90001           75.000\n",
       "1 12th St, New York City, NY 10001          5.995\n",
       "                                           ...   \n",
       "999 Wilson St, Atlanta, GA 30301           49.995\n",
       "999 Wilson St, Los Angeles, CA 90001      499.995\n",
       "999 Wilson St, New York City, NY 10001     75.000\n",
       "999 Wilson St, Portland, OR 97035           1.495\n",
       "999 Wilson St, San Francisco, CA 94016     75.000\n",
       "Name: Sales, Length: 140787, dtype: float64"
      ]
     },
     "execution_count": 85,
     "metadata": {},
     "output_type": "execute_result"
    }
   ],
   "source": [
    "# Calculate the total sales by region\n",
    "sales_by_region = sales.groupby('Purchase Address')['Sales'].sum()/2\n",
    "sales_by_region"
   ]
  },
  {
   "cell_type": "markdown",
   "id": "35d0e12a",
   "metadata": {},
   "source": [
    "<div style=\"border-radius: 5px; border: #e76f51 solid; padding: 10px; background-color: #8ecae6; font-size: 100%; text-align: left;\">\n",
    "\n",
    "😊✔The code you provided calculates the total sales by region using pandas in Python. It groups the sales data by the \"Purchase Address\" column and then calculates the sum of the \"Sales\" column for each group. Finally, it divides the sum by 2.\n",
    "\n",
    "📊✔ Mohamed_Hamed👌👌\n",
    "</div>"
   ]
  },
  {
   "cell_type": "code",
   "execution_count": 86,
   "id": "28830cee",
   "metadata": {
    "scrolled": true
   },
   "outputs": [
    {
     "data": {
      "text/plain": [
       "Purchase Address\n",
       "1 11th St, Atlanta, GA 30301                11.95\n",
       "1 11th St, Los Angeles, CA 90001          1700.00\n",
       "1 11th St, San Francisco, CA 94016         700.00\n",
       "1 12th St, Los Angeles, CA 90001           150.00\n",
       "1 12th St, New York City, NY 10001          11.99\n",
       "                                           ...   \n",
       "999 Wilson St, Atlanta, GA 30301            99.99\n",
       "999 Wilson St, Los Angeles, CA 90001       999.99\n",
       "999 Wilson St, New York City, NY 10001     150.00\n",
       "999 Wilson St, Portland, OR 97035            2.99\n",
       "999 Wilson St, San Francisco, CA 94016     150.00\n",
       "Name: Sales, Length: 140787, dtype: float64"
      ]
     },
     "execution_count": 86,
     "metadata": {},
     "output_type": "execute_result"
    }
   ],
   "source": [
    "# Calculate the average sales by region ✔\n",
    "average_sales_by_region =sales.groupby(['Purchase Address'])['Sales'].mean()\n",
    "average_sales_by_region "
   ]
  },
  {
   "cell_type": "markdown",
   "id": "25aec81d",
   "metadata": {},
   "source": [
    "<div style=\"border-radius: 5px; border: #fca311 solid; padding: 10px; background-color: #ffafcc; font-size: 100%; text-align: left;\">\n",
    "\n",
    "🟠The code calculates the average sales by region. It uses the `groupby` function to group the data by the \"Purchase Address\" column and then calculates the mean of the \"Sales\" column for each group. The result is a Series object with the average sales for each region.\n",
    "    \n",
    "    \n",
    "📊✔ Mohamed_Hamed👌👌\n",
    "</div>"
   ]
  },
  {
   "cell_type": "code",
   "execution_count": 87,
   "id": "bb8ba7cb",
   "metadata": {},
   "outputs": [
    {
     "data": {
      "text/plain": [
       "Product\n",
       "20in Monitor                   110.740968\n",
       "27in 4K Gaming Monitor         390.866382\n",
       "27in FHD Monitor               150.849141\n",
       "34in Ultrawide Monitor         381.096588\n",
       "AA Batteries (4-pack)            5.157137\n",
       "AAA Batteries (4-pack)           4.493040\n",
       "Apple Airpods Headphones       151.080455\n",
       "Bose SoundSport Headphones     100.980520\n",
       "Flatscreen TV                  301.187500\n",
       "Google Phone                   600.760181\n",
       "LG Dryer                       600.000000\n",
       "LG Washing Machine             600.000000\n",
       "Lightning Charging Cable        16.026140\n",
       "Macbook Pro Laptop            1701.439458\n",
       "ThinkPad Laptop               1000.474491\n",
       "USB-C Charging Cable            13.080457\n",
       "Vareebadd Phone                400.581114\n",
       "Wired Headphones                13.053619\n",
       "iPhone                         700.716165\n",
       "Name: Sales, dtype: float64"
      ]
     },
     "execution_count": 87,
     "metadata": {},
     "output_type": "execute_result"
    }
   ],
   "source": [
    "# Calculate the average sales by category ✔\n",
    "average_sales_by_category =sales.groupby(['Product'])['Sales'].mean()\n",
    "average_sales_by_category"
   ]
  },
  {
   "cell_type": "markdown",
   "id": "c24c891c",
   "metadata": {},
   "source": [
    "<div style=\"border-radius: 5px; border: #ff006e solid; padding: 10px; background-color: #3a86ff; font-size: 100%; text-align: left;\">\n",
    "\n",
    "✔The code calculates the average sales by category. It uses the `groupby` function to group the data by the \"Product\" column and then calculates the mean of the \"Sales\" column for each group. The result is a Series object with the average sales for each category.\n",
    "    \n",
    "📊✔ Mohamed_Hamed👌👌\n",
    "</div>"
   ]
  },
  {
   "cell_type": "code",
   "execution_count": 88,
   "id": "52a365a4",
   "metadata": {
    "scrolled": true
   },
   "outputs": [
    {
     "data": {
      "image/png": "[encoded data removed]",
      "text/plain": [
       "<Figure size 432x288 with 1 Axes>"
      ]
     },
     "metadata": {
      "needs_background": "light"
     },
     "output_type": "display_data"
    }
   ],
   "source": [
    "# Visualize the distribution of sales using a histogram\n",
    "plt.hist(sales['Sales'], bins=20)\n",
    "plt.xlabel('Sales')\n",
    "plt.ylabel('Frequency')\n",
    "plt.title('Distribution of Sales')\n",
    "plt.show()"
   ]
  },
  {
   "cell_type": "markdown",
   "id": "c0348722",
   "metadata": {},
   "source": [
    "<div style=\"border-radius: 5px; border: #7209b7 solid; padding: 10px; background-color: #ffbe0b; font-size: 100%; text-align: left;\">\n",
    "\n",
    "📊👌The code visualizes the distribution of sales using a histogram. It uses the `hist` function from the `matplotlib.pyplot` library to create the histogram. The data for the histogram is taken from the \"Sales\" column of the \"sales\" DataFrame. The `bins` parameter is set to 20 to specify the number of bins in the histogram. The `xlabel`, `ylabel`, and `title` functions are used to set the labels and title for the histogram. Finally, the `show` function is called to display the histogram.\n",
    "    \n",
    "    \n",
    "📊✔ Mohamed_Hamed👌👌\n",
    "</div>"
   ]
  },
  {
   "cell_type": "code",
   "execution_count": 90,
   "id": "432518fb",
   "metadata": {},
   "outputs": [
    {
     "data": {
      "image/png": "[encoded data removed]",
      "text/plain": [
       "<Figure size 432x288 with 2 Axes>"
      ]
     },
     "metadata": {
      "needs_background": "light"
     },
     "output_type": "display_data"
    }
   ],
   "source": [
    "# Calculate and visualize the correlation between numerical variables\n",
    "corr_matrix = sales[['Sales', 'Price Each', 'Quantity Ordered']].corr()\n",
    "sns.heatmap(corr_matrix, annot=True, cmap='coolwarm')\n",
    "plt.title('Correlation Matrix')\n",
    "plt.show()"
   ]
  },
  {
   "cell_type": "markdown",
   "id": "40f4dd4b",
   "metadata": {},
   "source": [
    "<div style=\"border-radius: 5px; border: #9b5de5 solid; padding: 10px; background-color: #00f5d4; font-size: 100%; text-align: left;\">\n",
    "\n",
    "🟠The code calculates the correlation between numerical variables and visualizes it using a heatmap. \n",
    "\n",
    "✔First, the `corr` function is applied to the `sales` DataFrame to calculate the correlation matrix between the columns 'Sales', 'Price Each', and 'Quantity Ordered'. The result is stored in the `corr_matrix` variable.\n",
    "\n",
    "✔Then, the `heatmap` function from the `seaborn` library is used to create a heatmap of the correlation matrix. The `annot` parameter is set to `True` to display the correlation values on the heatmap. The `cmap` parameter is set to 'coolwarm' to specify the color scheme of the heatmap.\n",
    "\n",
    "✔The `title` function is used to set the title of the heatmap.\n",
    "\n",
    "✔Finally, the `show` function is called to display the heatmap.\n",
    "    \n",
    "    \n",
    "📊✔ Mohamed_Hamed👌👌\n",
    "</div>"
   ]
  },
  {
   "cell_type": "code",
   "execution_count": 97,
   "id": "17fee3e3",
   "metadata": {},
   "outputs": [
    {
     "data": {
      "image/png": "[encoded data removed]",
      "text/plain": [
       "<Figure size 432x288 with 1 Axes>"
      ]
     },
     "metadata": {
      "needs_background": "light"
     },
     "output_type": "display_data"
    }
   ],
   "source": [
    "# Histogram of sales by price\n",
    "plt.hist(sales['Price Each'], bins=10)\n",
    "plt.title('Distribution of Sales by Price')\n",
    "plt.xlabel('Price')\n",
    "plt.ylabel('Frequency')\n",
    "plt.show()"
   ]
  },
  {
   "cell_type": "markdown",
   "id": "65272a27",
   "metadata": {},
   "source": [
    "<div style=\"border-radius: 5px; border: #fee440 solid; padding: 10px; background-color: #ffb4a2; font-size: 100%; text-align: left;\">\n",
    "\n",
    "😊👌The code creates a histogram of sales by price. \n",
    "\n",
    "📉It uses the `hist` function from the `matplotlib.pyplot` library to create the histogram. The data for the histogram is taken from the \"Price Each\" column of the \"sales\" DataFrame. The `bins` parameter is set to 10 to specify the number of bins in the histogram.\n",
    "\n",
    "📊The `title`, `xlabel`, and `ylabel` functions are used to set the title, x-axis label, and y-axis label for the histogram.\n",
    "\n",
    "👌Finally, the `show` function is called to display the histogram.\n",
    "    \n",
    "📊✔ Mohamed_Hamed👌👌\n",
    "</div>"
   ]
  },
  {
   "cell_type": "code",
   "execution_count": 106,
   "id": "ab0d8f40",
   "metadata": {},
   "outputs": [
    {
     "data": {
      "image/png": "[encoded data removed]",
      "text/plain": [
       "<Figure size 432x288 with 1 Axes>"
      ]
     },
     "metadata": {
      "needs_background": "light"
     },
     "output_type": "display_data"
    }
   ],
   "source": [
    "# Box plot of sales by region\n",
    "sns.boxplot(x='City', y='Total_Sales', data=sales)\n",
    "plt.title('Sales Distribution by City')\n",
    "plt.xlabel('City')\n",
    "plt.ylabel('Total Sales')\n",
    "plt.show()"
   ]
  },
  {
   "cell_type": "markdown",
   "id": "a3cfafc2",
   "metadata": {},
   "source": [
    "<div style=\"border-radius: 5px; border: #27187e solid; padding: 10px; background-color: #ffff3f; font-size: 100%; text-align: left;\">\n",
    "\n",
    "👍✅The code creates a box plot to visualize the distribution of sales by region (city).\n",
    "\n",
    "🟡First, the `boxplot` function from the `seaborn` library is used. The `x` parameter is set to 'City' to specify the categorical variable (region) to be plotted on the x-axis, and the `y` parameter is set to 'Total_Sales' to specify the numerical variable (sales) to be plotted on the y-axis. The `data` parameter is set to the `sales` DataFrame to specify the data source.\n",
    "\n",
    "🟢The `title` function is used to set the title of the box plot.\n",
    "\n",
    "🟣The `xlabel` and `ylabel` functions are used to set the labels for the x-axis and y-axis, respectively.\n",
    "\n",
    "👌✔Finally, the `show` function is called to display the box plot.\n",
    "    \n",
    "    \n",
    "📊✔ Mohamed_Hamed👌👌\n",
    "</div>"
   ]
  },
  {
   "cell_type": "code",
   "execution_count": null,
   "id": "d19e61c4",
   "metadata": {},
   "outputs": [],
   "source": []
  },
  {
   "cell_type": "markdown",
   "id": "82bd44a7",
   "metadata": {},
   "source": [
    "# <p style=\"background-color:#3772ff;font-family:newtimeroman;color:black;font-size:200%;text-align:center;border-radius:10px 10px;\"> !! 😊 Thank You 😊  !! </p>"
   ]
  }
 ],
 "metadata": {
  "kernelspec": {
   "display_name": "Python 3 (ipykernel)",
   "language": "python",
   "name": "python3"
  },
  "language_info": {
   "codemirror_mode": {
    "name": "ipython",
    "version": 3
   },
   "file_extension": ".py",
   "mimetype": "text/x-python",
   "name": "python",
   "nbconvert_exporter": "python",
   "pygments_lexer": "ipython3",
   "version": "3.9.12"
  }
 },
 "nbformat": 4,
 "nbformat_minor": 5
}
